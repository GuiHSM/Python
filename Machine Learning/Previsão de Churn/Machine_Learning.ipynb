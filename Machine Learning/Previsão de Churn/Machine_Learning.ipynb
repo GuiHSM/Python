{
 "cells": [
  {
   "cell_type": "markdown",
   "id": "88f52c18",
   "metadata": {},
   "source": [
    "<h1>Tratamento de Dados</h1>\n",
    "<p>A primeira coisa que fazemos ao começar a trabalhar com novos dados é tratar eles, isto é, nós vemos cada um deles e alteramos algumas coisas para melhorar o tratamento, como por exemplo, alterando de Sim/Não para 0/1, tudo preparando para o treinamento</p>"
   ]
  },
  {
   "cell_type": "code",
   "execution_count": 1,
   "id": "e873cf23",
   "metadata": {},
   "outputs": [],
   "source": [
    "import pandas as pd\n",
    "import numpy as np"
   ]
  },
  {
   "cell_type": "code",
   "execution_count": 2,
   "id": "fc01fcf4",
   "metadata": {},
   "outputs": [],
   "source": [
    "dados=pd.read_csv(\"dados.csv\")"
   ]
  },
  {
   "cell_type": "code",
   "execution_count": 3,
   "id": "951b8dc8",
   "metadata": {},
   "outputs": [
    {
     "data": {
      "text/plain": [
       "(7043, 18)"
      ]
     },
     "execution_count": 3,
     "metadata": {},
     "output_type": "execute_result"
    }
   ],
   "source": [
    "dados.shape"
   ]
  },
  {
   "cell_type": "code",
   "execution_count": 4,
   "id": "eded207b",
   "metadata": {},
   "outputs": [
    {
     "data": {
      "text/html": [
       "<div>\n",
       "<style scoped>\n",
       "    .dataframe tbody tr th:only-of-type {\n",
       "        vertical-align: middle;\n",
       "    }\n",
       "\n",
       "    .dataframe tbody tr th {\n",
       "        vertical-align: top;\n",
       "    }\n",
       "\n",
       "    .dataframe thead th {\n",
       "        text-align: right;\n",
       "    }\n",
       "</style>\n",
       "<table border=\"1\" class=\"dataframe\">\n",
       "  <thead>\n",
       "    <tr style=\"text-align: right;\">\n",
       "      <th></th>\n",
       "      <th>Maior65Anos</th>\n",
       "      <th>Conjuge</th>\n",
       "      <th>Dependentes</th>\n",
       "      <th>MesesDeContrato</th>\n",
       "      <th>TelefoneFixo</th>\n",
       "      <th>VariasLinhasTelefonicas</th>\n",
       "      <th>ServicoDeInternet</th>\n",
       "      <th>SegurancaOnline</th>\n",
       "      <th>BackupOnline</th>\n",
       "      <th>SeguroNoDispositivo</th>\n",
       "      <th>SuporteTecnico</th>\n",
       "      <th>TVaCabo</th>\n",
       "      <th>StreamingDeFilmes</th>\n",
       "      <th>TipoDeContrato</th>\n",
       "      <th>PagamentoOnline</th>\n",
       "      <th>FormaDePagamento</th>\n",
       "      <th>ContaMensal</th>\n",
       "      <th>Churn</th>\n",
       "    </tr>\n",
       "  </thead>\n",
       "  <tbody>\n",
       "    <tr>\n",
       "      <th>0</th>\n",
       "      <td>0</td>\n",
       "      <td>Sim</td>\n",
       "      <td>Nao</td>\n",
       "      <td>1</td>\n",
       "      <td>Nao</td>\n",
       "      <td>SemServicoTelefonico</td>\n",
       "      <td>DSL</td>\n",
       "      <td>Nao</td>\n",
       "      <td>Sim</td>\n",
       "      <td>Nao</td>\n",
       "      <td>Nao</td>\n",
       "      <td>Nao</td>\n",
       "      <td>Nao</td>\n",
       "      <td>Mensalmente</td>\n",
       "      <td>Sim</td>\n",
       "      <td>ChequeDigital</td>\n",
       "      <td>29.85</td>\n",
       "      <td>Nao</td>\n",
       "    </tr>\n",
       "    <tr>\n",
       "      <th>1</th>\n",
       "      <td>0</td>\n",
       "      <td>Nao</td>\n",
       "      <td>Nao</td>\n",
       "      <td>34</td>\n",
       "      <td>Sim</td>\n",
       "      <td>Nao</td>\n",
       "      <td>DSL</td>\n",
       "      <td>Sim</td>\n",
       "      <td>Nao</td>\n",
       "      <td>Sim</td>\n",
       "      <td>Nao</td>\n",
       "      <td>Nao</td>\n",
       "      <td>Nao</td>\n",
       "      <td>UmAno</td>\n",
       "      <td>Nao</td>\n",
       "      <td>ChequePapel</td>\n",
       "      <td>56.95</td>\n",
       "      <td>Nao</td>\n",
       "    </tr>\n",
       "    <tr>\n",
       "      <th>2</th>\n",
       "      <td>0</td>\n",
       "      <td>Nao</td>\n",
       "      <td>Nao</td>\n",
       "      <td>2</td>\n",
       "      <td>Sim</td>\n",
       "      <td>Nao</td>\n",
       "      <td>DSL</td>\n",
       "      <td>Sim</td>\n",
       "      <td>Sim</td>\n",
       "      <td>Nao</td>\n",
       "      <td>Nao</td>\n",
       "      <td>Nao</td>\n",
       "      <td>Nao</td>\n",
       "      <td>Mensalmente</td>\n",
       "      <td>Sim</td>\n",
       "      <td>ChequePapel</td>\n",
       "      <td>53.85</td>\n",
       "      <td>Sim</td>\n",
       "    </tr>\n",
       "    <tr>\n",
       "      <th>3</th>\n",
       "      <td>0</td>\n",
       "      <td>Nao</td>\n",
       "      <td>Nao</td>\n",
       "      <td>45</td>\n",
       "      <td>Nao</td>\n",
       "      <td>SemServicoTelefonico</td>\n",
       "      <td>DSL</td>\n",
       "      <td>Sim</td>\n",
       "      <td>Nao</td>\n",
       "      <td>Sim</td>\n",
       "      <td>Sim</td>\n",
       "      <td>Nao</td>\n",
       "      <td>Nao</td>\n",
       "      <td>UmAno</td>\n",
       "      <td>Nao</td>\n",
       "      <td>DebitoEmConta</td>\n",
       "      <td>42.30</td>\n",
       "      <td>Nao</td>\n",
       "    </tr>\n",
       "    <tr>\n",
       "      <th>4</th>\n",
       "      <td>0</td>\n",
       "      <td>Nao</td>\n",
       "      <td>Nao</td>\n",
       "      <td>2</td>\n",
       "      <td>Sim</td>\n",
       "      <td>Nao</td>\n",
       "      <td>FibraOptica</td>\n",
       "      <td>Nao</td>\n",
       "      <td>Nao</td>\n",
       "      <td>Nao</td>\n",
       "      <td>Nao</td>\n",
       "      <td>Nao</td>\n",
       "      <td>Nao</td>\n",
       "      <td>Mensalmente</td>\n",
       "      <td>Sim</td>\n",
       "      <td>ChequeDigital</td>\n",
       "      <td>70.70</td>\n",
       "      <td>Sim</td>\n",
       "    </tr>\n",
       "  </tbody>\n",
       "</table>\n",
       "</div>"
      ],
      "text/plain": [
       "   Maior65Anos Conjuge Dependentes  MesesDeContrato TelefoneFixo  \\\n",
       "0            0     Sim         Nao                1          Nao   \n",
       "1            0     Nao         Nao               34          Sim   \n",
       "2            0     Nao         Nao                2          Sim   \n",
       "3            0     Nao         Nao               45          Nao   \n",
       "4            0     Nao         Nao                2          Sim   \n",
       "\n",
       "  VariasLinhasTelefonicas ServicoDeInternet SegurancaOnline BackupOnline  \\\n",
       "0    SemServicoTelefonico               DSL             Nao          Sim   \n",
       "1                     Nao               DSL             Sim          Nao   \n",
       "2                     Nao               DSL             Sim          Sim   \n",
       "3    SemServicoTelefonico               DSL             Sim          Nao   \n",
       "4                     Nao       FibraOptica             Nao          Nao   \n",
       "\n",
       "  SeguroNoDispositivo SuporteTecnico TVaCabo StreamingDeFilmes TipoDeContrato  \\\n",
       "0                 Nao            Nao     Nao               Nao    Mensalmente   \n",
       "1                 Sim            Nao     Nao               Nao          UmAno   \n",
       "2                 Nao            Nao     Nao               Nao    Mensalmente   \n",
       "3                 Sim            Sim     Nao               Nao          UmAno   \n",
       "4                 Nao            Nao     Nao               Nao    Mensalmente   \n",
       "\n",
       "  PagamentoOnline FormaDePagamento  ContaMensal Churn  \n",
       "0             Sim    ChequeDigital        29.85   Nao  \n",
       "1             Nao      ChequePapel        56.95   Nao  \n",
       "2             Sim      ChequePapel        53.85   Sim  \n",
       "3             Nao    DebitoEmConta        42.30   Nao  \n",
       "4             Sim    ChequeDigital        70.70   Sim  "
      ]
     },
     "execution_count": 4,
     "metadata": {},
     "output_type": "execute_result"
    }
   ],
   "source": [
    "dados.head()"
   ]
  },
  {
   "cell_type": "code",
   "execution_count": 5,
   "id": "1d493a53",
   "metadata": {},
   "outputs": [],
   "source": [
    "traducao = {\"Sim\":0,\n",
    "            \"Nao\":1}\n",
    "dados_modificados = dados[['Conjuge',\"Dependentes\",\"TelefoneFixo\",\"PagamentoOnline\",\"Churn\"]].replace(traducao)"
   ]
  },
  {
   "cell_type": "code",
   "execution_count": 6,
   "id": "a8d69a3a",
   "metadata": {},
   "outputs": [],
   "source": [
    "dummie_dados = pd.get_dummies(dados.drop(['Conjuge',\"Dependentes\",\"TelefoneFixo\",\"PagamentoOnline\",\"Churn\"],\n",
    "                              axis=1))\n",
    "dados_final=pd.concat([dados_modificados,dummie_dados],axis=1)"
   ]
  },
  {
   "cell_type": "code",
   "execution_count": 7,
   "id": "85e03bb4",
   "metadata": {},
   "outputs": [],
   "source": [
    "pd.set_option(\"display.max_rows\",39)"
   ]
  },
  {
   "cell_type": "code",
   "execution_count": 8,
   "id": "3ad39fe6",
   "metadata": {},
   "outputs": [
    {
     "data": {
      "text/html": [
       "<div>\n",
       "<style scoped>\n",
       "    .dataframe tbody tr th:only-of-type {\n",
       "        vertical-align: middle;\n",
       "    }\n",
       "\n",
       "    .dataframe tbody tr th {\n",
       "        vertical-align: top;\n",
       "    }\n",
       "\n",
       "    .dataframe thead th {\n",
       "        text-align: right;\n",
       "    }\n",
       "</style>\n",
       "<table border=\"1\" class=\"dataframe\">\n",
       "  <thead>\n",
       "    <tr style=\"text-align: right;\">\n",
       "      <th></th>\n",
       "      <th>Conjuge</th>\n",
       "      <th>Dependentes</th>\n",
       "      <th>TelefoneFixo</th>\n",
       "      <th>PagamentoOnline</th>\n",
       "      <th>Churn</th>\n",
       "      <th>Maior65Anos</th>\n",
       "      <th>MesesDeContrato</th>\n",
       "      <th>ContaMensal</th>\n",
       "      <th>VariasLinhasTelefonicas_Nao</th>\n",
       "      <th>VariasLinhasTelefonicas_SemServicoTelefonico</th>\n",
       "      <th>...</th>\n",
       "      <th>StreamingDeFilmes_Nao</th>\n",
       "      <th>StreamingDeFilmes_SemServicoDeInternet</th>\n",
       "      <th>StreamingDeFilmes_Sim</th>\n",
       "      <th>TipoDeContrato_DoisAnos</th>\n",
       "      <th>TipoDeContrato_Mensalmente</th>\n",
       "      <th>TipoDeContrato_UmAno</th>\n",
       "      <th>FormaDePagamento_CartaoDeCredito</th>\n",
       "      <th>FormaDePagamento_ChequeDigital</th>\n",
       "      <th>FormaDePagamento_ChequePapel</th>\n",
       "      <th>FormaDePagamento_DebitoEmConta</th>\n",
       "    </tr>\n",
       "  </thead>\n",
       "  <tbody>\n",
       "    <tr>\n",
       "      <th>0</th>\n",
       "      <td>0</td>\n",
       "      <td>1</td>\n",
       "      <td>1</td>\n",
       "      <td>0</td>\n",
       "      <td>1</td>\n",
       "      <td>0</td>\n",
       "      <td>1</td>\n",
       "      <td>29.85</td>\n",
       "      <td>0</td>\n",
       "      <td>1</td>\n",
       "      <td>...</td>\n",
       "      <td>1</td>\n",
       "      <td>0</td>\n",
       "      <td>0</td>\n",
       "      <td>0</td>\n",
       "      <td>1</td>\n",
       "      <td>0</td>\n",
       "      <td>0</td>\n",
       "      <td>1</td>\n",
       "      <td>0</td>\n",
       "      <td>0</td>\n",
       "    </tr>\n",
       "    <tr>\n",
       "      <th>1</th>\n",
       "      <td>1</td>\n",
       "      <td>1</td>\n",
       "      <td>0</td>\n",
       "      <td>1</td>\n",
       "      <td>1</td>\n",
       "      <td>0</td>\n",
       "      <td>34</td>\n",
       "      <td>56.95</td>\n",
       "      <td>1</td>\n",
       "      <td>0</td>\n",
       "      <td>...</td>\n",
       "      <td>1</td>\n",
       "      <td>0</td>\n",
       "      <td>0</td>\n",
       "      <td>0</td>\n",
       "      <td>0</td>\n",
       "      <td>1</td>\n",
       "      <td>0</td>\n",
       "      <td>0</td>\n",
       "      <td>1</td>\n",
       "      <td>0</td>\n",
       "    </tr>\n",
       "    <tr>\n",
       "      <th>2</th>\n",
       "      <td>1</td>\n",
       "      <td>1</td>\n",
       "      <td>0</td>\n",
       "      <td>0</td>\n",
       "      <td>0</td>\n",
       "      <td>0</td>\n",
       "      <td>2</td>\n",
       "      <td>53.85</td>\n",
       "      <td>1</td>\n",
       "      <td>0</td>\n",
       "      <td>...</td>\n",
       "      <td>1</td>\n",
       "      <td>0</td>\n",
       "      <td>0</td>\n",
       "      <td>0</td>\n",
       "      <td>1</td>\n",
       "      <td>0</td>\n",
       "      <td>0</td>\n",
       "      <td>0</td>\n",
       "      <td>1</td>\n",
       "      <td>0</td>\n",
       "    </tr>\n",
       "    <tr>\n",
       "      <th>3</th>\n",
       "      <td>1</td>\n",
       "      <td>1</td>\n",
       "      <td>1</td>\n",
       "      <td>1</td>\n",
       "      <td>1</td>\n",
       "      <td>0</td>\n",
       "      <td>45</td>\n",
       "      <td>42.30</td>\n",
       "      <td>0</td>\n",
       "      <td>1</td>\n",
       "      <td>...</td>\n",
       "      <td>1</td>\n",
       "      <td>0</td>\n",
       "      <td>0</td>\n",
       "      <td>0</td>\n",
       "      <td>0</td>\n",
       "      <td>1</td>\n",
       "      <td>0</td>\n",
       "      <td>0</td>\n",
       "      <td>0</td>\n",
       "      <td>1</td>\n",
       "    </tr>\n",
       "    <tr>\n",
       "      <th>4</th>\n",
       "      <td>1</td>\n",
       "      <td>1</td>\n",
       "      <td>0</td>\n",
       "      <td>0</td>\n",
       "      <td>0</td>\n",
       "      <td>0</td>\n",
       "      <td>2</td>\n",
       "      <td>70.70</td>\n",
       "      <td>1</td>\n",
       "      <td>0</td>\n",
       "      <td>...</td>\n",
       "      <td>1</td>\n",
       "      <td>0</td>\n",
       "      <td>0</td>\n",
       "      <td>0</td>\n",
       "      <td>1</td>\n",
       "      <td>0</td>\n",
       "      <td>0</td>\n",
       "      <td>1</td>\n",
       "      <td>0</td>\n",
       "      <td>0</td>\n",
       "    </tr>\n",
       "    <tr>\n",
       "      <th>...</th>\n",
       "      <td>...</td>\n",
       "      <td>...</td>\n",
       "      <td>...</td>\n",
       "      <td>...</td>\n",
       "      <td>...</td>\n",
       "      <td>...</td>\n",
       "      <td>...</td>\n",
       "      <td>...</td>\n",
       "      <td>...</td>\n",
       "      <td>...</td>\n",
       "      <td>...</td>\n",
       "      <td>...</td>\n",
       "      <td>...</td>\n",
       "      <td>...</td>\n",
       "      <td>...</td>\n",
       "      <td>...</td>\n",
       "      <td>...</td>\n",
       "      <td>...</td>\n",
       "      <td>...</td>\n",
       "      <td>...</td>\n",
       "      <td>...</td>\n",
       "    </tr>\n",
       "    <tr>\n",
       "      <th>7038</th>\n",
       "      <td>0</td>\n",
       "      <td>0</td>\n",
       "      <td>0</td>\n",
       "      <td>0</td>\n",
       "      <td>1</td>\n",
       "      <td>0</td>\n",
       "      <td>24</td>\n",
       "      <td>84.80</td>\n",
       "      <td>0</td>\n",
       "      <td>0</td>\n",
       "      <td>...</td>\n",
       "      <td>0</td>\n",
       "      <td>0</td>\n",
       "      <td>1</td>\n",
       "      <td>0</td>\n",
       "      <td>0</td>\n",
       "      <td>1</td>\n",
       "      <td>0</td>\n",
       "      <td>0</td>\n",
       "      <td>1</td>\n",
       "      <td>0</td>\n",
       "    </tr>\n",
       "    <tr>\n",
       "      <th>7039</th>\n",
       "      <td>0</td>\n",
       "      <td>0</td>\n",
       "      <td>0</td>\n",
       "      <td>0</td>\n",
       "      <td>1</td>\n",
       "      <td>0</td>\n",
       "      <td>72</td>\n",
       "      <td>103.20</td>\n",
       "      <td>0</td>\n",
       "      <td>0</td>\n",
       "      <td>...</td>\n",
       "      <td>0</td>\n",
       "      <td>0</td>\n",
       "      <td>1</td>\n",
       "      <td>0</td>\n",
       "      <td>0</td>\n",
       "      <td>1</td>\n",
       "      <td>1</td>\n",
       "      <td>0</td>\n",
       "      <td>0</td>\n",
       "      <td>0</td>\n",
       "    </tr>\n",
       "    <tr>\n",
       "      <th>7040</th>\n",
       "      <td>0</td>\n",
       "      <td>0</td>\n",
       "      <td>1</td>\n",
       "      <td>0</td>\n",
       "      <td>1</td>\n",
       "      <td>0</td>\n",
       "      <td>11</td>\n",
       "      <td>29.60</td>\n",
       "      <td>0</td>\n",
       "      <td>1</td>\n",
       "      <td>...</td>\n",
       "      <td>1</td>\n",
       "      <td>0</td>\n",
       "      <td>0</td>\n",
       "      <td>0</td>\n",
       "      <td>1</td>\n",
       "      <td>0</td>\n",
       "      <td>0</td>\n",
       "      <td>1</td>\n",
       "      <td>0</td>\n",
       "      <td>0</td>\n",
       "    </tr>\n",
       "    <tr>\n",
       "      <th>7041</th>\n",
       "      <td>0</td>\n",
       "      <td>1</td>\n",
       "      <td>0</td>\n",
       "      <td>0</td>\n",
       "      <td>0</td>\n",
       "      <td>1</td>\n",
       "      <td>4</td>\n",
       "      <td>74.40</td>\n",
       "      <td>0</td>\n",
       "      <td>0</td>\n",
       "      <td>...</td>\n",
       "      <td>1</td>\n",
       "      <td>0</td>\n",
       "      <td>0</td>\n",
       "      <td>0</td>\n",
       "      <td>1</td>\n",
       "      <td>0</td>\n",
       "      <td>0</td>\n",
       "      <td>0</td>\n",
       "      <td>1</td>\n",
       "      <td>0</td>\n",
       "    </tr>\n",
       "    <tr>\n",
       "      <th>7042</th>\n",
       "      <td>1</td>\n",
       "      <td>1</td>\n",
       "      <td>0</td>\n",
       "      <td>0</td>\n",
       "      <td>1</td>\n",
       "      <td>0</td>\n",
       "      <td>66</td>\n",
       "      <td>105.65</td>\n",
       "      <td>1</td>\n",
       "      <td>0</td>\n",
       "      <td>...</td>\n",
       "      <td>0</td>\n",
       "      <td>0</td>\n",
       "      <td>1</td>\n",
       "      <td>1</td>\n",
       "      <td>0</td>\n",
       "      <td>0</td>\n",
       "      <td>0</td>\n",
       "      <td>0</td>\n",
       "      <td>0</td>\n",
       "      <td>1</td>\n",
       "    </tr>\n",
       "  </tbody>\n",
       "</table>\n",
       "<p>7043 rows × 39 columns</p>\n",
       "</div>"
      ],
      "text/plain": [
       "      Conjuge  Dependentes  TelefoneFixo  PagamentoOnline  Churn  Maior65Anos  \\\n",
       "0           0            1             1                0      1            0   \n",
       "1           1            1             0                1      1            0   \n",
       "2           1            1             0                0      0            0   \n",
       "3           1            1             1                1      1            0   \n",
       "4           1            1             0                0      0            0   \n",
       "...       ...          ...           ...              ...    ...          ...   \n",
       "7038        0            0             0                0      1            0   \n",
       "7039        0            0             0                0      1            0   \n",
       "7040        0            0             1                0      1            0   \n",
       "7041        0            1             0                0      0            1   \n",
       "7042        1            1             0                0      1            0   \n",
       "\n",
       "      MesesDeContrato  ContaMensal  VariasLinhasTelefonicas_Nao  \\\n",
       "0                   1        29.85                            0   \n",
       "1                  34        56.95                            1   \n",
       "2                   2        53.85                            1   \n",
       "3                  45        42.30                            0   \n",
       "4                   2        70.70                            1   \n",
       "...               ...          ...                          ...   \n",
       "7038               24        84.80                            0   \n",
       "7039               72       103.20                            0   \n",
       "7040               11        29.60                            0   \n",
       "7041                4        74.40                            0   \n",
       "7042               66       105.65                            1   \n",
       "\n",
       "      VariasLinhasTelefonicas_SemServicoTelefonico  ...  \\\n",
       "0                                                1  ...   \n",
       "1                                                0  ...   \n",
       "2                                                0  ...   \n",
       "3                                                1  ...   \n",
       "4                                                0  ...   \n",
       "...                                            ...  ...   \n",
       "7038                                             0  ...   \n",
       "7039                                             0  ...   \n",
       "7040                                             1  ...   \n",
       "7041                                             0  ...   \n",
       "7042                                             0  ...   \n",
       "\n",
       "      StreamingDeFilmes_Nao  StreamingDeFilmes_SemServicoDeInternet  \\\n",
       "0                         1                                       0   \n",
       "1                         1                                       0   \n",
       "2                         1                                       0   \n",
       "3                         1                                       0   \n",
       "4                         1                                       0   \n",
       "...                     ...                                     ...   \n",
       "7038                      0                                       0   \n",
       "7039                      0                                       0   \n",
       "7040                      1                                       0   \n",
       "7041                      1                                       0   \n",
       "7042                      0                                       0   \n",
       "\n",
       "      StreamingDeFilmes_Sim  TipoDeContrato_DoisAnos  \\\n",
       "0                         0                        0   \n",
       "1                         0                        0   \n",
       "2                         0                        0   \n",
       "3                         0                        0   \n",
       "4                         0                        0   \n",
       "...                     ...                      ...   \n",
       "7038                      1                        0   \n",
       "7039                      1                        0   \n",
       "7040                      0                        0   \n",
       "7041                      0                        0   \n",
       "7042                      1                        1   \n",
       "\n",
       "      TipoDeContrato_Mensalmente  TipoDeContrato_UmAno  \\\n",
       "0                              1                     0   \n",
       "1                              0                     1   \n",
       "2                              1                     0   \n",
       "3                              0                     1   \n",
       "4                              1                     0   \n",
       "...                          ...                   ...   \n",
       "7038                           0                     1   \n",
       "7039                           0                     1   \n",
       "7040                           1                     0   \n",
       "7041                           1                     0   \n",
       "7042                           0                     0   \n",
       "\n",
       "      FormaDePagamento_CartaoDeCredito  FormaDePagamento_ChequeDigital  \\\n",
       "0                                    0                               1   \n",
       "1                                    0                               0   \n",
       "2                                    0                               0   \n",
       "3                                    0                               0   \n",
       "4                                    0                               1   \n",
       "...                                ...                             ...   \n",
       "7038                                 0                               0   \n",
       "7039                                 1                               0   \n",
       "7040                                 0                               1   \n",
       "7041                                 0                               0   \n",
       "7042                                 0                               0   \n",
       "\n",
       "      FormaDePagamento_ChequePapel  FormaDePagamento_DebitoEmConta  \n",
       "0                                0                               0  \n",
       "1                                1                               0  \n",
       "2                                1                               0  \n",
       "3                                0                               1  \n",
       "4                                0                               0  \n",
       "...                            ...                             ...  \n",
       "7038                             1                               0  \n",
       "7039                             0                               0  \n",
       "7040                             0                               0  \n",
       "7041                             1                               0  \n",
       "7042                             0                               1  \n",
       "\n",
       "[7043 rows x 39 columns]"
      ]
     },
     "execution_count": 8,
     "metadata": {},
     "output_type": "execute_result"
    }
   ],
   "source": [
    "dados_final"
   ]
  },
  {
   "cell_type": "code",
   "execution_count": 9,
   "id": "fa52e175",
   "metadata": {},
   "outputs": [
    {
     "data": {
      "image/png": "[encoded data removed]",
      "text/plain": [
       "<Figure size 640x480 with 1 Axes>"
      ]
     },
     "metadata": {},
     "output_type": "display_data"
    }
   ],
   "source": [
    "import seaborn as sns\n",
    "%matplotlib inline\n",
    "\n",
    "ax = sns.countplot(x='Churn', data=dados_final)"
   ]
  },
  {
   "cell_type": "markdown",
   "id": "b44a9280",
   "metadata": {},
   "source": [
    "<h1>Balanceamento</h1>\n",
    "<p>Como vimos temos mais Churn=1 do que Churn=0, então farei um balanceamento, isto é, irei inserir dados aleatórios gerados a partir do valores que geram Churn=0 para que a chance de Churn=0 ser igual a chance de Churn=1, para isso usarei a classe SMOTE, farei isso enquanto também já preparo para o treinamento</p>"
   ]
  },
  {
   "cell_type": "code",
   "execution_count": 10,
   "id": "26c30603",
   "metadata": {},
   "outputs": [],
   "source": [
    "x = dados_final.drop('Churn', axis = 1)\n",
    "y = dados_final['Churn']"
   ]
  },
  {
   "cell_type": "code",
   "execution_count": 11,
   "id": "d95e6265",
   "metadata": {},
   "outputs": [],
   "source": [
    "from imblearn.over_sampling import SMOTE\n",
    "\n",
    "smote = SMOTE(random_state=123)  \n",
    "x, y = smote.fit_resample(x, y)  "
   ]
  },
  {
   "cell_type": "code",
   "execution_count": 12,
   "id": "b13a25ba",
   "metadata": {},
   "outputs": [],
   "source": [
    "dados_final = pd.concat([x, y], axis=1)"
   ]
  },
  {
   "cell_type": "code",
   "execution_count": 13,
   "id": "cc3e5e15",
   "metadata": {},
   "outputs": [
    {
     "data": {
      "text/html": [
       "<div>\n",
       "<style scoped>\n",
       "    .dataframe tbody tr th:only-of-type {\n",
       "        vertical-align: middle;\n",
       "    }\n",
       "\n",
       "    .dataframe tbody tr th {\n",
       "        vertical-align: top;\n",
       "    }\n",
       "\n",
       "    .dataframe thead th {\n",
       "        text-align: right;\n",
       "    }\n",
       "</style>\n",
       "<table border=\"1\" class=\"dataframe\">\n",
       "  <thead>\n",
       "    <tr style=\"text-align: right;\">\n",
       "      <th></th>\n",
       "      <th>Conjuge</th>\n",
       "      <th>Dependentes</th>\n",
       "      <th>TelefoneFixo</th>\n",
       "      <th>PagamentoOnline</th>\n",
       "      <th>Maior65Anos</th>\n",
       "      <th>MesesDeContrato</th>\n",
       "      <th>ContaMensal</th>\n",
       "      <th>VariasLinhasTelefonicas_Nao</th>\n",
       "      <th>VariasLinhasTelefonicas_SemServicoTelefonico</th>\n",
       "      <th>VariasLinhasTelefonicas_Sim</th>\n",
       "      <th>...</th>\n",
       "      <th>StreamingDeFilmes_SemServicoDeInternet</th>\n",
       "      <th>StreamingDeFilmes_Sim</th>\n",
       "      <th>TipoDeContrato_DoisAnos</th>\n",
       "      <th>TipoDeContrato_Mensalmente</th>\n",
       "      <th>TipoDeContrato_UmAno</th>\n",
       "      <th>FormaDePagamento_CartaoDeCredito</th>\n",
       "      <th>FormaDePagamento_ChequeDigital</th>\n",
       "      <th>FormaDePagamento_ChequePapel</th>\n",
       "      <th>FormaDePagamento_DebitoEmConta</th>\n",
       "      <th>Churn</th>\n",
       "    </tr>\n",
       "  </thead>\n",
       "  <tbody>\n",
       "    <tr>\n",
       "      <th>0</th>\n",
       "      <td>0</td>\n",
       "      <td>1</td>\n",
       "      <td>1</td>\n",
       "      <td>0</td>\n",
       "      <td>0</td>\n",
       "      <td>1</td>\n",
       "      <td>29.850000</td>\n",
       "      <td>0</td>\n",
       "      <td>1</td>\n",
       "      <td>0</td>\n",
       "      <td>...</td>\n",
       "      <td>0</td>\n",
       "      <td>0</td>\n",
       "      <td>0</td>\n",
       "      <td>1</td>\n",
       "      <td>0</td>\n",
       "      <td>0</td>\n",
       "      <td>1</td>\n",
       "      <td>0</td>\n",
       "      <td>0</td>\n",
       "      <td>1</td>\n",
       "    </tr>\n",
       "    <tr>\n",
       "      <th>1</th>\n",
       "      <td>1</td>\n",
       "      <td>1</td>\n",
       "      <td>0</td>\n",
       "      <td>1</td>\n",
       "      <td>0</td>\n",
       "      <td>34</td>\n",
       "      <td>56.950000</td>\n",
       "      <td>1</td>\n",
       "      <td>0</td>\n",
       "      <td>0</td>\n",
       "      <td>...</td>\n",
       "      <td>0</td>\n",
       "      <td>0</td>\n",
       "      <td>0</td>\n",
       "      <td>0</td>\n",
       "      <td>1</td>\n",
       "      <td>0</td>\n",
       "      <td>0</td>\n",
       "      <td>1</td>\n",
       "      <td>0</td>\n",
       "      <td>1</td>\n",
       "    </tr>\n",
       "    <tr>\n",
       "      <th>2</th>\n",
       "      <td>1</td>\n",
       "      <td>1</td>\n",
       "      <td>0</td>\n",
       "      <td>0</td>\n",
       "      <td>0</td>\n",
       "      <td>2</td>\n",
       "      <td>53.850000</td>\n",
       "      <td>1</td>\n",
       "      <td>0</td>\n",
       "      <td>0</td>\n",
       "      <td>...</td>\n",
       "      <td>0</td>\n",
       "      <td>0</td>\n",
       "      <td>0</td>\n",
       "      <td>1</td>\n",
       "      <td>0</td>\n",
       "      <td>0</td>\n",
       "      <td>0</td>\n",
       "      <td>1</td>\n",
       "      <td>0</td>\n",
       "      <td>0</td>\n",
       "    </tr>\n",
       "    <tr>\n",
       "      <th>3</th>\n",
       "      <td>1</td>\n",
       "      <td>1</td>\n",
       "      <td>1</td>\n",
       "      <td>1</td>\n",
       "      <td>0</td>\n",
       "      <td>45</td>\n",
       "      <td>42.300000</td>\n",
       "      <td>0</td>\n",
       "      <td>1</td>\n",
       "      <td>0</td>\n",
       "      <td>...</td>\n",
       "      <td>0</td>\n",
       "      <td>0</td>\n",
       "      <td>0</td>\n",
       "      <td>0</td>\n",
       "      <td>1</td>\n",
       "      <td>0</td>\n",
       "      <td>0</td>\n",
       "      <td>0</td>\n",
       "      <td>1</td>\n",
       "      <td>1</td>\n",
       "    </tr>\n",
       "    <tr>\n",
       "      <th>4</th>\n",
       "      <td>1</td>\n",
       "      <td>1</td>\n",
       "      <td>0</td>\n",
       "      <td>0</td>\n",
       "      <td>0</td>\n",
       "      <td>2</td>\n",
       "      <td>70.700000</td>\n",
       "      <td>1</td>\n",
       "      <td>0</td>\n",
       "      <td>0</td>\n",
       "      <td>...</td>\n",
       "      <td>0</td>\n",
       "      <td>0</td>\n",
       "      <td>0</td>\n",
       "      <td>1</td>\n",
       "      <td>0</td>\n",
       "      <td>0</td>\n",
       "      <td>1</td>\n",
       "      <td>0</td>\n",
       "      <td>0</td>\n",
       "      <td>0</td>\n",
       "    </tr>\n",
       "    <tr>\n",
       "      <th>...</th>\n",
       "      <td>...</td>\n",
       "      <td>...</td>\n",
       "      <td>...</td>\n",
       "      <td>...</td>\n",
       "      <td>...</td>\n",
       "      <td>...</td>\n",
       "      <td>...</td>\n",
       "      <td>...</td>\n",
       "      <td>...</td>\n",
       "      <td>...</td>\n",
       "      <td>...</td>\n",
       "      <td>...</td>\n",
       "      <td>...</td>\n",
       "      <td>...</td>\n",
       "      <td>...</td>\n",
       "      <td>...</td>\n",
       "      <td>...</td>\n",
       "      <td>...</td>\n",
       "      <td>...</td>\n",
       "      <td>...</td>\n",
       "      <td>...</td>\n",
       "    </tr>\n",
       "    <tr>\n",
       "      <th>10343</th>\n",
       "      <td>0</td>\n",
       "      <td>0</td>\n",
       "      <td>0</td>\n",
       "      <td>0</td>\n",
       "      <td>0</td>\n",
       "      <td>5</td>\n",
       "      <td>80.921075</td>\n",
       "      <td>0</td>\n",
       "      <td>0</td>\n",
       "      <td>1</td>\n",
       "      <td>...</td>\n",
       "      <td>0</td>\n",
       "      <td>0</td>\n",
       "      <td>0</td>\n",
       "      <td>1</td>\n",
       "      <td>0</td>\n",
       "      <td>0</td>\n",
       "      <td>1</td>\n",
       "      <td>0</td>\n",
       "      <td>0</td>\n",
       "      <td>0</td>\n",
       "    </tr>\n",
       "    <tr>\n",
       "      <th>10344</th>\n",
       "      <td>0</td>\n",
       "      <td>1</td>\n",
       "      <td>0</td>\n",
       "      <td>0</td>\n",
       "      <td>0</td>\n",
       "      <td>3</td>\n",
       "      <td>74.347278</td>\n",
       "      <td>0</td>\n",
       "      <td>0</td>\n",
       "      <td>1</td>\n",
       "      <td>...</td>\n",
       "      <td>0</td>\n",
       "      <td>0</td>\n",
       "      <td>0</td>\n",
       "      <td>1</td>\n",
       "      <td>0</td>\n",
       "      <td>1</td>\n",
       "      <td>0</td>\n",
       "      <td>0</td>\n",
       "      <td>0</td>\n",
       "      <td>0</td>\n",
       "    </tr>\n",
       "    <tr>\n",
       "      <th>10345</th>\n",
       "      <td>0</td>\n",
       "      <td>0</td>\n",
       "      <td>0</td>\n",
       "      <td>0</td>\n",
       "      <td>0</td>\n",
       "      <td>18</td>\n",
       "      <td>70.164647</td>\n",
       "      <td>1</td>\n",
       "      <td>0</td>\n",
       "      <td>0</td>\n",
       "      <td>...</td>\n",
       "      <td>0</td>\n",
       "      <td>0</td>\n",
       "      <td>0</td>\n",
       "      <td>1</td>\n",
       "      <td>0</td>\n",
       "      <td>0</td>\n",
       "      <td>1</td>\n",
       "      <td>0</td>\n",
       "      <td>0</td>\n",
       "      <td>0</td>\n",
       "    </tr>\n",
       "    <tr>\n",
       "      <th>10346</th>\n",
       "      <td>0</td>\n",
       "      <td>1</td>\n",
       "      <td>0</td>\n",
       "      <td>0</td>\n",
       "      <td>0</td>\n",
       "      <td>30</td>\n",
       "      <td>93.024726</td>\n",
       "      <td>0</td>\n",
       "      <td>0</td>\n",
       "      <td>1</td>\n",
       "      <td>...</td>\n",
       "      <td>0</td>\n",
       "      <td>0</td>\n",
       "      <td>0</td>\n",
       "      <td>1</td>\n",
       "      <td>0</td>\n",
       "      <td>1</td>\n",
       "      <td>0</td>\n",
       "      <td>0</td>\n",
       "      <td>0</td>\n",
       "      <td>0</td>\n",
       "    </tr>\n",
       "    <tr>\n",
       "      <th>10347</th>\n",
       "      <td>1</td>\n",
       "      <td>1</td>\n",
       "      <td>0</td>\n",
       "      <td>1</td>\n",
       "      <td>0</td>\n",
       "      <td>4</td>\n",
       "      <td>50.880441</td>\n",
       "      <td>0</td>\n",
       "      <td>0</td>\n",
       "      <td>0</td>\n",
       "      <td>...</td>\n",
       "      <td>0</td>\n",
       "      <td>0</td>\n",
       "      <td>0</td>\n",
       "      <td>1</td>\n",
       "      <td>0</td>\n",
       "      <td>1</td>\n",
       "      <td>0</td>\n",
       "      <td>0</td>\n",
       "      <td>0</td>\n",
       "      <td>0</td>\n",
       "    </tr>\n",
       "  </tbody>\n",
       "</table>\n",
       "<p>10348 rows × 39 columns</p>\n",
       "</div>"
      ],
      "text/plain": [
       "       Conjuge  Dependentes  TelefoneFixo  PagamentoOnline  Maior65Anos  \\\n",
       "0            0            1             1                0            0   \n",
       "1            1            1             0                1            0   \n",
       "2            1            1             0                0            0   \n",
       "3            1            1             1                1            0   \n",
       "4            1            1             0                0            0   \n",
       "...        ...          ...           ...              ...          ...   \n",
       "10343        0            0             0                0            0   \n",
       "10344        0            1             0                0            0   \n",
       "10345        0            0             0                0            0   \n",
       "10346        0            1             0                0            0   \n",
       "10347        1            1             0                1            0   \n",
       "\n",
       "       MesesDeContrato  ContaMensal  VariasLinhasTelefonicas_Nao  \\\n",
       "0                    1    29.850000                            0   \n",
       "1                   34    56.950000                            1   \n",
       "2                    2    53.850000                            1   \n",
       "3                   45    42.300000                            0   \n",
       "4                    2    70.700000                            1   \n",
       "...                ...          ...                          ...   \n",
       "10343                5    80.921075                            0   \n",
       "10344                3    74.347278                            0   \n",
       "10345               18    70.164647                            1   \n",
       "10346               30    93.024726                            0   \n",
       "10347                4    50.880441                            0   \n",
       "\n",
       "       VariasLinhasTelefonicas_SemServicoTelefonico  \\\n",
       "0                                                 1   \n",
       "1                                                 0   \n",
       "2                                                 0   \n",
       "3                                                 1   \n",
       "4                                                 0   \n",
       "...                                             ...   \n",
       "10343                                             0   \n",
       "10344                                             0   \n",
       "10345                                             0   \n",
       "10346                                             0   \n",
       "10347                                             0   \n",
       "\n",
       "       VariasLinhasTelefonicas_Sim  ...  \\\n",
       "0                                0  ...   \n",
       "1                                0  ...   \n",
       "2                                0  ...   \n",
       "3                                0  ...   \n",
       "4                                0  ...   \n",
       "...                            ...  ...   \n",
       "10343                            1  ...   \n",
       "10344                            1  ...   \n",
       "10345                            0  ...   \n",
       "10346                            1  ...   \n",
       "10347                            0  ...   \n",
       "\n",
       "       StreamingDeFilmes_SemServicoDeInternet  StreamingDeFilmes_Sim  \\\n",
       "0                                           0                      0   \n",
       "1                                           0                      0   \n",
       "2                                           0                      0   \n",
       "3                                           0                      0   \n",
       "4                                           0                      0   \n",
       "...                                       ...                    ...   \n",
       "10343                                       0                      0   \n",
       "10344                                       0                      0   \n",
       "10345                                       0                      0   \n",
       "10346                                       0                      0   \n",
       "10347                                       0                      0   \n",
       "\n",
       "       TipoDeContrato_DoisAnos  TipoDeContrato_Mensalmente  \\\n",
       "0                            0                           1   \n",
       "1                            0                           0   \n",
       "2                            0                           1   \n",
       "3                            0                           0   \n",
       "4                            0                           1   \n",
       "...                        ...                         ...   \n",
       "10343                        0                           1   \n",
       "10344                        0                           1   \n",
       "10345                        0                           1   \n",
       "10346                        0                           1   \n",
       "10347                        0                           1   \n",
       "\n",
       "       TipoDeContrato_UmAno  FormaDePagamento_CartaoDeCredito  \\\n",
       "0                         0                                 0   \n",
       "1                         1                                 0   \n",
       "2                         0                                 0   \n",
       "3                         1                                 0   \n",
       "4                         0                                 0   \n",
       "...                     ...                               ...   \n",
       "10343                     0                                 0   \n",
       "10344                     0                                 1   \n",
       "10345                     0                                 0   \n",
       "10346                     0                                 1   \n",
       "10347                     0                                 1   \n",
       "\n",
       "       FormaDePagamento_ChequeDigital  FormaDePagamento_ChequePapel  \\\n",
       "0                                   1                             0   \n",
       "1                                   0                             1   \n",
       "2                                   0                             1   \n",
       "3                                   0                             0   \n",
       "4                                   1                             0   \n",
       "...                               ...                           ...   \n",
       "10343                               1                             0   \n",
       "10344                               0                             0   \n",
       "10345                               1                             0   \n",
       "10346                               0                             0   \n",
       "10347                               0                             0   \n",
       "\n",
       "       FormaDePagamento_DebitoEmConta  Churn  \n",
       "0                                   0      1  \n",
       "1                                   0      1  \n",
       "2                                   0      0  \n",
       "3                                   1      1  \n",
       "4                                   0      0  \n",
       "...                               ...    ...  \n",
       "10343                               0      0  \n",
       "10344                               0      0  \n",
       "10345                               0      0  \n",
       "10346                               0      0  \n",
       "10347                               0      0  \n",
       "\n",
       "[10348 rows x 39 columns]"
      ]
     },
     "execution_count": 13,
     "metadata": {},
     "output_type": "execute_result"
    }
   ],
   "source": [
    "dados_final"
   ]
  },
  {
   "cell_type": "code",
   "execution_count": 14,
   "id": "74614225",
   "metadata": {},
   "outputs": [
    {
     "data": {
      "image/png": "[encoded data removed]",
      "text/plain": [
       "<Figure size 640x480 with 1 Axes>"
      ]
     },
     "metadata": {},
     "output_type": "display_data"
    }
   ],
   "source": [
    "ax = sns.countplot(x='Churn', data=dados_final)"
   ]
  },
  {
   "cell_type": "markdown",
   "id": "923973b8",
   "metadata": {},
   "source": [
    "<h1>Normalização</h1>\n",
    "<p>Para facilitar a utilização dos dados irei primeiro normalizar os valores, isto é, faremos com que todos os dados sejam gerados pela distribuição Normal Padrão, pela quantidade de dados podemos usar o TLC então só basta dividir pela média e dividir pela variância, e para facilitar o Standard Scaler faz isso para nós, e no meio tempo prepararei um exemplo unitário, Cliente=Maria, para testar o método no fim.</p>"
   ]
  },
  {
   "cell_type": "code",
   "execution_count": 15,
   "id": "345f8631",
   "metadata": {},
   "outputs": [],
   "source": [
    "Xmaria = [[0,0,1,1,0,0,39.90,1,0,0,0,1,0,1,0,0,0,0,1,1,1,0,0,1,0,1,0,0,0,0,1,0,0,1,0,0,0,1]]"
   ]
  },
  {
   "cell_type": "code",
   "execution_count": 16,
   "id": "7266a784",
   "metadata": {},
   "outputs": [],
   "source": [
    "x=dados_final.drop(\"Churn\",axis=1)\n",
    "y=dados_final[\"Churn\"]"
   ]
  },
  {
   "cell_type": "code",
   "execution_count": 17,
   "id": "a53c4871",
   "metadata": {},
   "outputs": [],
   "source": [
    "from sklearn.preprocessing import StandardScaler"
   ]
  },
  {
   "cell_type": "code",
   "execution_count": 18,
   "id": "96576698",
   "metadata": {},
   "outputs": [],
   "source": [
    "norm = StandardScaler()\n",
    "x_normalizado = norm.fit_transform(x)"
   ]
  },
  {
   "cell_type": "code",
   "execution_count": 19,
   "id": "424aa165",
   "metadata": {},
   "outputs": [
    {
     "data": {
      "text/plain": [
       "array([-1.02129353,  0.63236997,  3.18604176, -0.67560279, -0.41254225,\n",
       "       -1.10768665, -1.3217683 , -0.88499468,  3.18604176, -0.83366906,\n",
       "        1.51268338, -1.04386816, -0.44617598,  0.868102  , -0.44617598,\n",
       "       -0.51751958, -0.95853201, -0.44617598,  1.57389661,  1.04306   ,\n",
       "       -0.44617598, -0.6419641 ,  0.87997069, -0.44617598, -0.52426638,\n",
       "        1.18690873, -0.44617598, -0.77707385,  1.20287745, -0.44617598,\n",
       "       -0.79008532, -0.44648735,  0.73773107, -0.41989297, -0.42576817,\n",
       "        1.30373042, -0.47943196, -0.4360152 ])"
      ]
     },
     "execution_count": 19,
     "metadata": {},
     "output_type": "execute_result"
    }
   ],
   "source": [
    "x_normalizado[0]"
   ]
  },
  {
   "cell_type": "code",
   "execution_count": 20,
   "id": "0402a6f8",
   "metadata": {},
   "outputs": [],
   "source": [
    "x_maria_normalizado = norm.transform(pd.DataFrame(Xmaria,columns=x.columns))"
   ]
  },
  {
   "cell_type": "markdown",
   "id": "bf8fe65e",
   "metadata": {},
   "source": [
    "<h1>Treinamento via KNN</h1>\n",
    "<p>KNN ou KNeighboorsClassifier, é um método que se baseia nos k elementos mais próximos do elemento para saber como ele irá se comportar, para este caso usarei a distância euclidiana pelo grande número de valores, o KNN então compara com os k valores mais próximos e decide, dependendo do Churn deles, se o Churn do elemento será 1 ou 0</p>"
   ]
  },
  {
   "cell_type": "code",
   "execution_count": 21,
   "id": "8265c25b",
   "metadata": {},
   "outputs": [],
   "source": [
    "from sklearn.model_selection import train_test_split as tts\n",
    "x_treino, x_teste, y_treino, y_teste = tts(x_normalizado,y,test_size=0.3,random_state=123)"
   ]
  },
  {
   "cell_type": "code",
   "execution_count": 22,
   "id": "8636b740",
   "metadata": {},
   "outputs": [],
   "source": [
    "from sklearn.neighbors import KNeighborsClassifier\n",
    "knn= KNeighborsClassifier(metric=\"euclidean\")"
   ]
  },
  {
   "cell_type": "code",
   "execution_count": 23,
   "id": "c36a4552",
   "metadata": {},
   "outputs": [
    {
     "data": {
      "text/html": [
       "<style>#sk-container-id-1 {color: black;background-color: white;}#sk-container-id-1 pre{padding: 0;}#sk-container-id-1 div.sk-toggleable {background-color: white;}#sk-container-id-1 label.sk-toggleable__label {cursor: pointer;display: block;width: 100%;margin-bottom: 0;padding: 0.3em;box-sizing: border-box;text-align: center;}#sk-container-id-1 label.sk-toggleable__label-arrow:before {content: \"▸\";float: left;margin-right: 0.25em;color: #696969;}#sk-container-id-1 label.sk-toggleable__label-arrow:hover:before {color: black;}#sk-container-id-1 div.sk-estimator:hover label.sk-toggleable__label-arrow:before {color: black;}#sk-container-id-1 div.sk-toggleable__content {max-height: 0;max-width: 0;overflow: hidden;text-align: left;background-color: #f0f8ff;}#sk-container-id-1 div.sk-toggleable__content pre {margin: 0.2em;color: black;border-radius: 0.25em;background-color: #f0f8ff;}#sk-container-id-1 input.sk-toggleable__control:checked~div.sk-toggleable__content {max-height: 200px;max-width: 100%;overflow: auto;}#sk-container-id-1 input.sk-toggleable__control:checked~label.sk-toggleable__label-arrow:before {content: \"▾\";}#sk-container-id-1 div.sk-estimator input.sk-toggleable__control:checked~label.sk-toggleable__label {background-color: #d4ebff;}#sk-container-id-1 div.sk-label input.sk-toggleable__control:checked~label.sk-toggleable__label {background-color: #d4ebff;}#sk-container-id-1 input.sk-hidden--visually {border: 0;clip: rect(1px 1px 1px 1px);clip: rect(1px, 1px, 1px, 1px);height: 1px;margin: -1px;overflow: hidden;padding: 0;position: absolute;width: 1px;}#sk-container-id-1 div.sk-estimator {font-family: monospace;background-color: #f0f8ff;border: 1px dotted black;border-radius: 0.25em;box-sizing: border-box;margin-bottom: 0.5em;}#sk-container-id-1 div.sk-estimator:hover {background-color: #d4ebff;}#sk-container-id-1 div.sk-parallel-item::after {content: \"\";width: 100%;border-bottom: 1px solid gray;flex-grow: 1;}#sk-container-id-1 div.sk-label:hover label.sk-toggleable__label {background-color: #d4ebff;}#sk-container-id-1 div.sk-serial::before {content: \"\";position: absolute;border-left: 1px solid gray;box-sizing: border-box;top: 0;bottom: 0;left: 50%;z-index: 0;}#sk-container-id-1 div.sk-serial {display: flex;flex-direction: column;align-items: center;background-color: white;padding-right: 0.2em;padding-left: 0.2em;position: relative;}#sk-container-id-1 div.sk-item {position: relative;z-index: 1;}#sk-container-id-1 div.sk-parallel {display: flex;align-items: stretch;justify-content: center;background-color: white;position: relative;}#sk-container-id-1 div.sk-item::before, #sk-container-id-1 div.sk-parallel-item::before {content: \"\";position: absolute;border-left: 1px solid gray;box-sizing: border-box;top: 0;bottom: 0;left: 50%;z-index: -1;}#sk-container-id-1 div.sk-parallel-item {display: flex;flex-direction: column;z-index: 1;position: relative;background-color: white;}#sk-container-id-1 div.sk-parallel-item:first-child::after {align-self: flex-end;width: 50%;}#sk-container-id-1 div.sk-parallel-item:last-child::after {align-self: flex-start;width: 50%;}#sk-container-id-1 div.sk-parallel-item:only-child::after {width: 0;}#sk-container-id-1 div.sk-dashed-wrapped {border: 1px dashed gray;margin: 0 0.4em 0.5em 0.4em;box-sizing: border-box;padding-bottom: 0.4em;background-color: white;}#sk-container-id-1 div.sk-label label {font-family: monospace;font-weight: bold;display: inline-block;line-height: 1.2em;}#sk-container-id-1 div.sk-label-container {text-align: center;}#sk-container-id-1 div.sk-container {/* jupyter's `normalize.less` sets `[hidden] { display: none; }` but bootstrap.min.css set `[hidden] { display: none !important; }` so we also need the `!important` here to be able to override the default hidden behavior on the sphinx rendered scikit-learn.org. See: https://github.com/scikit-learn/scikit-learn/issues/21755 */display: inline-block !important;position: relative;}#sk-container-id-1 div.sk-text-repr-fallback {display: none;}</style><div id=\"sk-container-id-1\" class=\"sk-top-container\"><div class=\"sk-text-repr-fallback\"><pre>KNeighborsClassifier(metric=&#x27;euclidean&#x27;)</pre><b>In a Jupyter environment, please rerun this cell to show the HTML representation or trust the notebook. <br />On GitHub, the HTML representation is unable to render, please try loading this page with nbviewer.org.</b></div><div class=\"sk-container\" hidden><div class=\"sk-item\"><div class=\"sk-estimator sk-toggleable\"><input class=\"sk-toggleable__control sk-hidden--visually\" id=\"sk-estimator-id-1\" type=\"checkbox\" checked><label for=\"sk-estimator-id-1\" class=\"sk-toggleable__label sk-toggleable__label-arrow\">KNeighborsClassifier</label><div class=\"sk-toggleable__content\"><pre>KNeighborsClassifier(metric=&#x27;euclidean&#x27;)</pre></div></div></div></div></div>"
      ],
      "text/plain": [
       "KNeighborsClassifier(metric='euclidean')"
      ]
     },
     "execution_count": 23,
     "metadata": {},
     "output_type": "execute_result"
    }
   ],
   "source": [
    "knn.fit(x_treino,y_treino)"
   ]
  },
  {
   "cell_type": "code",
   "execution_count": 24,
   "id": "d5ca9d88",
   "metadata": {},
   "outputs": [],
   "source": [
    "predito_knn= knn.predict(x_teste)"
   ]
  },
  {
   "cell_type": "markdown",
   "id": "ffb2b18f",
   "metadata": {},
   "source": [
    "<h1>Treinamento via Naive Bayes</h1>\n",
    "<p>A fórmula de Naive Bayes é a seguinte:</p>\n",
    "$$\n",
    "   P(y|X) = \\frac{P(X|y)P(y)}{P(x)}\n",
    "$$\n",
    "<p>Onde P(X|y) é a verossimilhança, P(y) é a probabilidade a priori, P(x) é a marginal de X e P(y|X) é o valor que queremos, ou, posteriori, como a nossa distribuição possui diversos dimensões com apenas 0 e 1 podemos ajeitar os dados para que a amostra vire uma bernoulli multivariada, uma distribuição que se sabe a verossimilhança, para isso usarei o parametro binarize do método BernoulliNB antes de fazer o treinamento, por fim a parte principal desta machine learning será deduzir a priori e a posteriori ao mesmo tempo</p>"
   ]
  },
  {
   "cell_type": "code",
   "execution_count": 25,
   "id": "a65c688f",
   "metadata": {},
   "outputs": [],
   "source": [
    "from sklearn.naive_bayes import BernoulliNB"
   ]
  },
  {
   "cell_type": "code",
   "execution_count": 26,
   "id": "271b302d",
   "metadata": {},
   "outputs": [],
   "source": [
    "bnb=BernoulliNB(binarize=np.median(x_treino))"
   ]
  },
  {
   "cell_type": "code",
   "execution_count": 27,
   "id": "62a5ea29",
   "metadata": {},
   "outputs": [
    {
     "data": {
      "text/html": [
       "<style>#sk-container-id-2 {color: black;background-color: white;}#sk-container-id-2 pre{padding: 0;}#sk-container-id-2 div.sk-toggleable {background-color: white;}#sk-container-id-2 label.sk-toggleable__label {cursor: pointer;display: block;width: 100%;margin-bottom: 0;padding: 0.3em;box-sizing: border-box;text-align: center;}#sk-container-id-2 label.sk-toggleable__label-arrow:before {content: \"▸\";float: left;margin-right: 0.25em;color: #696969;}#sk-container-id-2 label.sk-toggleable__label-arrow:hover:before {color: black;}#sk-container-id-2 div.sk-estimator:hover label.sk-toggleable__label-arrow:before {color: black;}#sk-container-id-2 div.sk-toggleable__content {max-height: 0;max-width: 0;overflow: hidden;text-align: left;background-color: #f0f8ff;}#sk-container-id-2 div.sk-toggleable__content pre {margin: 0.2em;color: black;border-radius: 0.25em;background-color: #f0f8ff;}#sk-container-id-2 input.sk-toggleable__control:checked~div.sk-toggleable__content {max-height: 200px;max-width: 100%;overflow: auto;}#sk-container-id-2 input.sk-toggleable__control:checked~label.sk-toggleable__label-arrow:before {content: \"▾\";}#sk-container-id-2 div.sk-estimator input.sk-toggleable__control:checked~label.sk-toggleable__label {background-color: #d4ebff;}#sk-container-id-2 div.sk-label input.sk-toggleable__control:checked~label.sk-toggleable__label {background-color: #d4ebff;}#sk-container-id-2 input.sk-hidden--visually {border: 0;clip: rect(1px 1px 1px 1px);clip: rect(1px, 1px, 1px, 1px);height: 1px;margin: -1px;overflow: hidden;padding: 0;position: absolute;width: 1px;}#sk-container-id-2 div.sk-estimator {font-family: monospace;background-color: #f0f8ff;border: 1px dotted black;border-radius: 0.25em;box-sizing: border-box;margin-bottom: 0.5em;}#sk-container-id-2 div.sk-estimator:hover {background-color: #d4ebff;}#sk-container-id-2 div.sk-parallel-item::after {content: \"\";width: 100%;border-bottom: 1px solid gray;flex-grow: 1;}#sk-container-id-2 div.sk-label:hover label.sk-toggleable__label {background-color: #d4ebff;}#sk-container-id-2 div.sk-serial::before {content: \"\";position: absolute;border-left: 1px solid gray;box-sizing: border-box;top: 0;bottom: 0;left: 50%;z-index: 0;}#sk-container-id-2 div.sk-serial {display: flex;flex-direction: column;align-items: center;background-color: white;padding-right: 0.2em;padding-left: 0.2em;position: relative;}#sk-container-id-2 div.sk-item {position: relative;z-index: 1;}#sk-container-id-2 div.sk-parallel {display: flex;align-items: stretch;justify-content: center;background-color: white;position: relative;}#sk-container-id-2 div.sk-item::before, #sk-container-id-2 div.sk-parallel-item::before {content: \"\";position: absolute;border-left: 1px solid gray;box-sizing: border-box;top: 0;bottom: 0;left: 50%;z-index: -1;}#sk-container-id-2 div.sk-parallel-item {display: flex;flex-direction: column;z-index: 1;position: relative;background-color: white;}#sk-container-id-2 div.sk-parallel-item:first-child::after {align-self: flex-end;width: 50%;}#sk-container-id-2 div.sk-parallel-item:last-child::after {align-self: flex-start;width: 50%;}#sk-container-id-2 div.sk-parallel-item:only-child::after {width: 0;}#sk-container-id-2 div.sk-dashed-wrapped {border: 1px dashed gray;margin: 0 0.4em 0.5em 0.4em;box-sizing: border-box;padding-bottom: 0.4em;background-color: white;}#sk-container-id-2 div.sk-label label {font-family: monospace;font-weight: bold;display: inline-block;line-height: 1.2em;}#sk-container-id-2 div.sk-label-container {text-align: center;}#sk-container-id-2 div.sk-container {/* jupyter's `normalize.less` sets `[hidden] { display: none; }` but bootstrap.min.css set `[hidden] { display: none !important; }` so we also need the `!important` here to be able to override the default hidden behavior on the sphinx rendered scikit-learn.org. See: https://github.com/scikit-learn/scikit-learn/issues/21755 */display: inline-block !important;position: relative;}#sk-container-id-2 div.sk-text-repr-fallback {display: none;}</style><div id=\"sk-container-id-2\" class=\"sk-top-container\"><div class=\"sk-text-repr-fallback\"><pre>BernoulliNB(binarize=-0.4461759755508453)</pre><b>In a Jupyter environment, please rerun this cell to show the HTML representation or trust the notebook. <br />On GitHub, the HTML representation is unable to render, please try loading this page with nbviewer.org.</b></div><div class=\"sk-container\" hidden><div class=\"sk-item\"><div class=\"sk-estimator sk-toggleable\"><input class=\"sk-toggleable__control sk-hidden--visually\" id=\"sk-estimator-id-2\" type=\"checkbox\" checked><label for=\"sk-estimator-id-2\" class=\"sk-toggleable__label sk-toggleable__label-arrow\">BernoulliNB</label><div class=\"sk-toggleable__content\"><pre>BernoulliNB(binarize=-0.4461759755508453)</pre></div></div></div></div></div>"
      ],
      "text/plain": [
       "BernoulliNB(binarize=-0.4461759755508453)"
      ]
     },
     "execution_count": 27,
     "metadata": {},
     "output_type": "execute_result"
    }
   ],
   "source": [
    "bnb.fit(x_treino,y_treino)"
   ]
  },
  {
   "cell_type": "code",
   "execution_count": 28,
   "id": "056c6236",
   "metadata": {},
   "outputs": [],
   "source": [
    "predito_BNB=bnb.predict(x_teste)"
   ]
  },
  {
   "cell_type": "markdown",
   "id": "ca20aca7",
   "metadata": {},
   "source": [
    "<h1>Treinamento Decision Tree</h1>\n",
    "<p>Uma árvore de decisão é um modelo simples, começamos com um Nó Raiz, que utiliza de um critério de impureza para decidir se o valor será verdadeiro ou falso, após o Nó Raiz será feito recurssivamente nós de decisão, que utilizará outro critério de impureza e assim por diante, até chegar no nó folha, que decide se o churn será 1 ou será 0, muito usado em classificação e regressão, o machine learning gera os critérios de impureza e os nós de decisão e o raiz.</p>\n",
    "<p>Para o critério de impureza utilizarei dois diferentes, o índice Gini e a Entropia:</p>\n",
    "<h3>Índice Gini</h3>\n",
    "<p>O Índice Gini é o principal meio de se calcular a impureza de um elemento nos dias atuais, a fórmula será:</p>\n",
    "$$\n",
    "G(node)=\\sum_{k=1}^{c}p_k(1-p_k)\n",
    "$$\n",
    "<p>Temos que quanto mais próximo de 1 mais heterogêneo o dado está, e quanto mais próximo de 0, mais homogêneo, então o elemento mais próximo de 0 será o escolhido para começar árvore de decisão</p>\n",
    "<h3>Entropia</h3>\n",
    "<p>A Entropia mede o quão desordenado um dado está, isto é, ao utilizar a fórmula:</p>\n",
    "$$\n",
    "Entropy(node)=-\\sum_{i=1}^{c}p_k log_2 (p_k)\n",
    "$$\n",
    "<p>Onde p_k é a probabilidade do k atributo do nó sendo calculado, temos que quanto menor for a entropia, mais díficil é dividir o dado e logo teremos mais informação nova com este dado, então o menor valor será utilizado para começar a árvore de decisão</p>"
   ]
  },
  {
   "cell_type": "code",
   "execution_count": 29,
   "id": "d5e9a6d0",
   "metadata": {},
   "outputs": [],
   "source": [
    "from sklearn.tree import DecisionTreeClassifier"
   ]
  },
  {
   "cell_type": "code",
   "execution_count": 30,
   "id": "9eac7e65",
   "metadata": {},
   "outputs": [],
   "source": [
    "dtc_entropy=DecisionTreeClassifier(criterion=\"entropy\",random_state=42)"
   ]
  },
  {
   "cell_type": "code",
   "execution_count": 31,
   "id": "9169d09a",
   "metadata": {},
   "outputs": [
    {
     "data": {
      "text/html": [
       "<style>#sk-container-id-3 {color: black;background-color: white;}#sk-container-id-3 pre{padding: 0;}#sk-container-id-3 div.sk-toggleable {background-color: white;}#sk-container-id-3 label.sk-toggleable__label {cursor: pointer;display: block;width: 100%;margin-bottom: 0;padding: 0.3em;box-sizing: border-box;text-align: center;}#sk-container-id-3 label.sk-toggleable__label-arrow:before {content: \"▸\";float: left;margin-right: 0.25em;color: #696969;}#sk-container-id-3 label.sk-toggleable__label-arrow:hover:before {color: black;}#sk-container-id-3 div.sk-estimator:hover label.sk-toggleable__label-arrow:before {color: black;}#sk-container-id-3 div.sk-toggleable__content {max-height: 0;max-width: 0;overflow: hidden;text-align: left;background-color: #f0f8ff;}#sk-container-id-3 div.sk-toggleable__content pre {margin: 0.2em;color: black;border-radius: 0.25em;background-color: #f0f8ff;}#sk-container-id-3 input.sk-toggleable__control:checked~div.sk-toggleable__content {max-height: 200px;max-width: 100%;overflow: auto;}#sk-container-id-3 input.sk-toggleable__control:checked~label.sk-toggleable__label-arrow:before {content: \"▾\";}#sk-container-id-3 div.sk-estimator input.sk-toggleable__control:checked~label.sk-toggleable__label {background-color: #d4ebff;}#sk-container-id-3 div.sk-label input.sk-toggleable__control:checked~label.sk-toggleable__label {background-color: #d4ebff;}#sk-container-id-3 input.sk-hidden--visually {border: 0;clip: rect(1px 1px 1px 1px);clip: rect(1px, 1px, 1px, 1px);height: 1px;margin: -1px;overflow: hidden;padding: 0;position: absolute;width: 1px;}#sk-container-id-3 div.sk-estimator {font-family: monospace;background-color: #f0f8ff;border: 1px dotted black;border-radius: 0.25em;box-sizing: border-box;margin-bottom: 0.5em;}#sk-container-id-3 div.sk-estimator:hover {background-color: #d4ebff;}#sk-container-id-3 div.sk-parallel-item::after {content: \"\";width: 100%;border-bottom: 1px solid gray;flex-grow: 1;}#sk-container-id-3 div.sk-label:hover label.sk-toggleable__label {background-color: #d4ebff;}#sk-container-id-3 div.sk-serial::before {content: \"\";position: absolute;border-left: 1px solid gray;box-sizing: border-box;top: 0;bottom: 0;left: 50%;z-index: 0;}#sk-container-id-3 div.sk-serial {display: flex;flex-direction: column;align-items: center;background-color: white;padding-right: 0.2em;padding-left: 0.2em;position: relative;}#sk-container-id-3 div.sk-item {position: relative;z-index: 1;}#sk-container-id-3 div.sk-parallel {display: flex;align-items: stretch;justify-content: center;background-color: white;position: relative;}#sk-container-id-3 div.sk-item::before, #sk-container-id-3 div.sk-parallel-item::before {content: \"\";position: absolute;border-left: 1px solid gray;box-sizing: border-box;top: 0;bottom: 0;left: 50%;z-index: -1;}#sk-container-id-3 div.sk-parallel-item {display: flex;flex-direction: column;z-index: 1;position: relative;background-color: white;}#sk-container-id-3 div.sk-parallel-item:first-child::after {align-self: flex-end;width: 50%;}#sk-container-id-3 div.sk-parallel-item:last-child::after {align-self: flex-start;width: 50%;}#sk-container-id-3 div.sk-parallel-item:only-child::after {width: 0;}#sk-container-id-3 div.sk-dashed-wrapped {border: 1px dashed gray;margin: 0 0.4em 0.5em 0.4em;box-sizing: border-box;padding-bottom: 0.4em;background-color: white;}#sk-container-id-3 div.sk-label label {font-family: monospace;font-weight: bold;display: inline-block;line-height: 1.2em;}#sk-container-id-3 div.sk-label-container {text-align: center;}#sk-container-id-3 div.sk-container {/* jupyter's `normalize.less` sets `[hidden] { display: none; }` but bootstrap.min.css set `[hidden] { display: none !important; }` so we also need the `!important` here to be able to override the default hidden behavior on the sphinx rendered scikit-learn.org. See: https://github.com/scikit-learn/scikit-learn/issues/21755 */display: inline-block !important;position: relative;}#sk-container-id-3 div.sk-text-repr-fallback {display: none;}</style><div id=\"sk-container-id-3\" class=\"sk-top-container\"><div class=\"sk-text-repr-fallback\"><pre>DecisionTreeClassifier(criterion=&#x27;entropy&#x27;, random_state=42)</pre><b>In a Jupyter environment, please rerun this cell to show the HTML representation or trust the notebook. <br />On GitHub, the HTML representation is unable to render, please try loading this page with nbviewer.org.</b></div><div class=\"sk-container\" hidden><div class=\"sk-item\"><div class=\"sk-estimator sk-toggleable\"><input class=\"sk-toggleable__control sk-hidden--visually\" id=\"sk-estimator-id-3\" type=\"checkbox\" checked><label for=\"sk-estimator-id-3\" class=\"sk-toggleable__label sk-toggleable__label-arrow\">DecisionTreeClassifier</label><div class=\"sk-toggleable__content\"><pre>DecisionTreeClassifier(criterion=&#x27;entropy&#x27;, random_state=42)</pre></div></div></div></div></div>"
      ],
      "text/plain": [
       "DecisionTreeClassifier(criterion='entropy', random_state=42)"
      ]
     },
     "execution_count": 31,
     "metadata": {},
     "output_type": "execute_result"
    }
   ],
   "source": [
    "dtc_entropy.fit(x_treino,y_treino)"
   ]
  },
  {
   "cell_type": "code",
   "execution_count": 32,
   "id": "e4409e70",
   "metadata": {},
   "outputs": [],
   "source": [
    "predito_dtc_entropy=dtc_entropy.predict(x_teste)"
   ]
  },
  {
   "cell_type": "code",
   "execution_count": 33,
   "id": "c203c3d1",
   "metadata": {},
   "outputs": [
    {
     "data": {
      "text/plain": [
       "array([0.02091377, 0.01815506, 0.00320351, 0.02216764, 0.01119155,\n",
       "       0.17123264, 0.20828393, 0.00981299, 0.00442401, 0.01144658,\n",
       "       0.00062887, 0.03131262, 0.        , 0.01116521, 0.00050698,\n",
       "       0.01389855, 0.00901207, 0.        , 0.01033288, 0.00971739,\n",
       "       0.0003825 , 0.00595689, 0.01635776, 0.00065123, 0.01405852,\n",
       "       0.00471655, 0.00069512, 0.00350416, 0.00942509, 0.        ,\n",
       "       0.0151637 , 0.03611651, 0.16384005, 0.07422263, 0.01679475,\n",
       "       0.03513322, 0.01851519, 0.01705989])"
      ]
     },
     "execution_count": 33,
     "metadata": {},
     "output_type": "execute_result"
    }
   ],
   "source": [
    "dtc_entropy.feature_importances_"
   ]
  },
  {
   "cell_type": "code",
   "execution_count": 34,
   "id": "049cdddd",
   "metadata": {},
   "outputs": [],
   "source": [
    "dtc_gini=DecisionTreeClassifier(criterion=\"gini\",random_state=10)"
   ]
  },
  {
   "cell_type": "code",
   "execution_count": 35,
   "id": "54b3c285",
   "metadata": {},
   "outputs": [
    {
     "data": {
      "text/html": [
       "<style>#sk-container-id-4 {color: black;background-color: white;}#sk-container-id-4 pre{padding: 0;}#sk-container-id-4 div.sk-toggleable {background-color: white;}#sk-container-id-4 label.sk-toggleable__label {cursor: pointer;display: block;width: 100%;margin-bottom: 0;padding: 0.3em;box-sizing: border-box;text-align: center;}#sk-container-id-4 label.sk-toggleable__label-arrow:before {content: \"▸\";float: left;margin-right: 0.25em;color: #696969;}#sk-container-id-4 label.sk-toggleable__label-arrow:hover:before {color: black;}#sk-container-id-4 div.sk-estimator:hover label.sk-toggleable__label-arrow:before {color: black;}#sk-container-id-4 div.sk-toggleable__content {max-height: 0;max-width: 0;overflow: hidden;text-align: left;background-color: #f0f8ff;}#sk-container-id-4 div.sk-toggleable__content pre {margin: 0.2em;color: black;border-radius: 0.25em;background-color: #f0f8ff;}#sk-container-id-4 input.sk-toggleable__control:checked~div.sk-toggleable__content {max-height: 200px;max-width: 100%;overflow: auto;}#sk-container-id-4 input.sk-toggleable__control:checked~label.sk-toggleable__label-arrow:before {content: \"▾\";}#sk-container-id-4 div.sk-estimator input.sk-toggleable__control:checked~label.sk-toggleable__label {background-color: #d4ebff;}#sk-container-id-4 div.sk-label input.sk-toggleable__control:checked~label.sk-toggleable__label {background-color: #d4ebff;}#sk-container-id-4 input.sk-hidden--visually {border: 0;clip: rect(1px 1px 1px 1px);clip: rect(1px, 1px, 1px, 1px);height: 1px;margin: -1px;overflow: hidden;padding: 0;position: absolute;width: 1px;}#sk-container-id-4 div.sk-estimator {font-family: monospace;background-color: #f0f8ff;border: 1px dotted black;border-radius: 0.25em;box-sizing: border-box;margin-bottom: 0.5em;}#sk-container-id-4 div.sk-estimator:hover {background-color: #d4ebff;}#sk-container-id-4 div.sk-parallel-item::after {content: \"\";width: 100%;border-bottom: 1px solid gray;flex-grow: 1;}#sk-container-id-4 div.sk-label:hover label.sk-toggleable__label {background-color: #d4ebff;}#sk-container-id-4 div.sk-serial::before {content: \"\";position: absolute;border-left: 1px solid gray;box-sizing: border-box;top: 0;bottom: 0;left: 50%;z-index: 0;}#sk-container-id-4 div.sk-serial {display: flex;flex-direction: column;align-items: center;background-color: white;padding-right: 0.2em;padding-left: 0.2em;position: relative;}#sk-container-id-4 div.sk-item {position: relative;z-index: 1;}#sk-container-id-4 div.sk-parallel {display: flex;align-items: stretch;justify-content: center;background-color: white;position: relative;}#sk-container-id-4 div.sk-item::before, #sk-container-id-4 div.sk-parallel-item::before {content: \"\";position: absolute;border-left: 1px solid gray;box-sizing: border-box;top: 0;bottom: 0;left: 50%;z-index: -1;}#sk-container-id-4 div.sk-parallel-item {display: flex;flex-direction: column;z-index: 1;position: relative;background-color: white;}#sk-container-id-4 div.sk-parallel-item:first-child::after {align-self: flex-end;width: 50%;}#sk-container-id-4 div.sk-parallel-item:last-child::after {align-self: flex-start;width: 50%;}#sk-container-id-4 div.sk-parallel-item:only-child::after {width: 0;}#sk-container-id-4 div.sk-dashed-wrapped {border: 1px dashed gray;margin: 0 0.4em 0.5em 0.4em;box-sizing: border-box;padding-bottom: 0.4em;background-color: white;}#sk-container-id-4 div.sk-label label {font-family: monospace;font-weight: bold;display: inline-block;line-height: 1.2em;}#sk-container-id-4 div.sk-label-container {text-align: center;}#sk-container-id-4 div.sk-container {/* jupyter's `normalize.less` sets `[hidden] { display: none; }` but bootstrap.min.css set `[hidden] { display: none !important; }` so we also need the `!important` here to be able to override the default hidden behavior on the sphinx rendered scikit-learn.org. See: https://github.com/scikit-learn/scikit-learn/issues/21755 */display: inline-block !important;position: relative;}#sk-container-id-4 div.sk-text-repr-fallback {display: none;}</style><div id=\"sk-container-id-4\" class=\"sk-top-container\"><div class=\"sk-text-repr-fallback\"><pre>DecisionTreeClassifier(random_state=10)</pre><b>In a Jupyter environment, please rerun this cell to show the HTML representation or trust the notebook. <br />On GitHub, the HTML representation is unable to render, please try loading this page with nbviewer.org.</b></div><div class=\"sk-container\" hidden><div class=\"sk-item\"><div class=\"sk-estimator sk-toggleable\"><input class=\"sk-toggleable__control sk-hidden--visually\" id=\"sk-estimator-id-4\" type=\"checkbox\" checked><label for=\"sk-estimator-id-4\" class=\"sk-toggleable__label sk-toggleable__label-arrow\">DecisionTreeClassifier</label><div class=\"sk-toggleable__content\"><pre>DecisionTreeClassifier(random_state=10)</pre></div></div></div></div></div>"
      ],
      "text/plain": [
       "DecisionTreeClassifier(random_state=10)"
      ]
     },
     "execution_count": 35,
     "metadata": {},
     "output_type": "execute_result"
    }
   ],
   "source": [
    "dtc_gini.fit(x_treino,y_treino)"
   ]
  },
  {
   "cell_type": "code",
   "execution_count": 36,
   "id": "8013c965",
   "metadata": {},
   "outputs": [],
   "source": [
    "predito_dtc_gini=dtc_entropy.predict(x_teste)"
   ]
  },
  {
   "cell_type": "code",
   "execution_count": 37,
   "id": "a3508d7b",
   "metadata": {},
   "outputs": [
    {
     "data": {
      "text/plain": [
       "array([0.01753059, 0.01810716, 0.00656631, 0.02555553, 0.01333654,\n",
       "       0.15964574, 0.18310141, 0.01488231, 0.00251301, 0.01069381,\n",
       "       0.00077284, 0.03912695, 0.        , 0.01336215, 0.        ,\n",
       "       0.02494883, 0.0085534 , 0.00027767, 0.01023215, 0.0096305 ,\n",
       "       0.        , 0.00664468, 0.00381041, 0.        , 0.01737778,\n",
       "       0.00643359, 0.        , 0.00411932, 0.0089877 , 0.        ,\n",
       "       0.00244933, 0.02720861, 0.21494367, 0.08259632, 0.01511917,\n",
       "       0.01880387, 0.01684748, 0.01582115])"
      ]
     },
     "execution_count": 37,
     "metadata": {},
     "output_type": "execute_result"
    }
   ],
   "source": [
    "dtc_gini.feature_importances_"
   ]
  },
  {
   "cell_type": "markdown",
   "id": "4ae7ef4e",
   "metadata": {},
   "source": [
    "<h1>Validação dos Modelos</h1>\n",
    "<h4>Matriz de Confusão</h4>\n",
    "<p>Iremos dividir as previsões em 4 grupos diferentes, o Falso Postivo(FP), o Verdadeiro Positivo(VP), o Falso Negativo(FN) e o Verdadeiro Negativo(VN), sendo verdadeiro e falso relativo ao fato de que se o modelo previu correto e o positivo e negativo relativo ao resultado do churn predito</p>"
   ]
  },
  {
   "cell_type": "code",
   "execution_count": 38,
   "id": "0edc8c69",
   "metadata": {},
   "outputs": [
    {
     "name": "stdout",
     "output_type": "stream",
     "text": [
      "[[VN FP]\n",
      " [FN VP]]\n"
     ]
    }
   ],
   "source": [
    "from sklearn.metrics import confusion_matrix\n",
    "print(\"[[VN FP]\\n [FN VP]]\")"
   ]
  },
  {
   "cell_type": "code",
   "execution_count": 39,
   "id": "52c33704",
   "metadata": {},
   "outputs": [
    {
     "name": "stdout",
     "output_type": "stream",
     "text": [
      "[[1296  240]\n",
      " [ 332 1237]]\n"
     ]
    }
   ],
   "source": [
    "print(confusion_matrix(y_teste,predito_knn))"
   ]
  },
  {
   "cell_type": "code",
   "execution_count": 40,
   "id": "5f4ac644",
   "metadata": {},
   "outputs": [
    {
     "name": "stdout",
     "output_type": "stream",
     "text": [
      "[[1300  236]\n",
      " [ 534 1035]]\n"
     ]
    }
   ],
   "source": [
    "print(confusion_matrix(y_teste,predito_BNB))"
   ]
  },
  {
   "cell_type": "code",
   "execution_count": 41,
   "id": "cd8de464",
   "metadata": {},
   "outputs": [
    {
     "name": "stdout",
     "output_type": "stream",
     "text": [
      "[[1252  284]\n",
      " [ 288 1281]]\n"
     ]
    }
   ],
   "source": [
    "print(confusion_matrix(y_teste,predito_dtc_entropy))"
   ]
  },
  {
   "cell_type": "code",
   "execution_count": 42,
   "id": "b85ed5ca",
   "metadata": {},
   "outputs": [
    {
     "name": "stdout",
     "output_type": "stream",
     "text": [
      "[[1252  284]\n",
      " [ 288 1281]]\n"
     ]
    }
   ],
   "source": [
    "print(confusion_matrix(y_teste,predito_dtc_gini))\n",
    "#Como ambas as árvores de decisões possuem a mesma matriz de confusão só utilizarei uma a partir de agora"
   ]
  },
  {
   "cell_type": "markdown",
   "id": "21916ce5",
   "metadata": {},
   "source": [
    "<h3>Acurácia</h3>\n",
    "<p>O Quanto nosso modelo acertou em por centagem:\n",
    "$$\n",
    "ACC=\\frac{VP+VN}{VP+VN+FP+FN}\n",
    "$$\n",
    "    </p>"
   ]
  },
  {
   "cell_type": "code",
   "execution_count": 43,
   "id": "ecd63a50",
   "metadata": {},
   "outputs": [
    {
     "data": {
      "text/plain": [
       "0.8157809983896941"
      ]
     },
     "execution_count": 43,
     "metadata": {},
     "output_type": "execute_result"
    }
   ],
   "source": [
    "from sklearn.metrics import accuracy_score\n",
    "knn_acc=accuracy_score(y_teste,predito_knn)\n",
    "knn_acc"
   ]
  },
  {
   "cell_type": "code",
   "execution_count": 44,
   "id": "08c7a187",
   "metadata": {},
   "outputs": [
    {
     "data": {
      "text/plain": [
       "0.8157809983896941"
      ]
     },
     "execution_count": 44,
     "metadata": {},
     "output_type": "execute_result"
    }
   ],
   "source": [
    "dtc_acc=accuracy_score(y_teste,predito_dtc_entropy)\n",
    "dtc_acc"
   ]
  },
  {
   "cell_type": "code",
   "execution_count": 45,
   "id": "322ccb46",
   "metadata": {},
   "outputs": [
    {
     "data": {
      "text/plain": [
       "0.7520128824476651"
      ]
     },
     "execution_count": 45,
     "metadata": {},
     "output_type": "execute_result"
    }
   ],
   "source": [
    "bnb_acc=accuracy_score(y_teste,predito_BNB)\n",
    "bnb_acc"
   ]
  },
  {
   "cell_type": "markdown",
   "id": "a11f9955",
   "metadata": {},
   "source": [
    "<h3>Precisão</h3>\n",
    "<p>Calcula a porcentagem de acerto apenas nos positivos, a fórmula é:<p>\n",
    "    $$\n",
    "    PS=\\frac{VP}{VP+FP}\n",
    "    $$"
   ]
  },
  {
   "cell_type": "code",
   "execution_count": 46,
   "id": "d3f95ee5",
   "metadata": {},
   "outputs": [
    {
     "data": {
      "text/plain": [
       "0.8375084631008801"
      ]
     },
     "execution_count": 46,
     "metadata": {},
     "output_type": "execute_result"
    }
   ],
   "source": [
    "from sklearn.metrics import precision_score\n",
    "knn_ps=precision_score(y_teste,predito_knn)\n",
    "knn_ps"
   ]
  },
  {
   "cell_type": "code",
   "execution_count": 47,
   "id": "aea8665c",
   "metadata": {},
   "outputs": [
    {
     "data": {
      "text/plain": [
       "0.8185303514376997"
      ]
     },
     "execution_count": 47,
     "metadata": {},
     "output_type": "execute_result"
    }
   ],
   "source": [
    "dtc_ps=precision_score(y_teste,predito_dtc_entropy)\n",
    "dtc_ps"
   ]
  },
  {
   "cell_type": "code",
   "execution_count": 48,
   "id": "bac44973",
   "metadata": {},
   "outputs": [
    {
     "data": {
      "text/plain": [
       "0.8143194335169158"
      ]
     },
     "execution_count": 48,
     "metadata": {},
     "output_type": "execute_result"
    }
   ],
   "source": [
    "bnb_ps=precision_score(y_teste,predito_BNB)\n",
    "bnb_ps"
   ]
  },
  {
   "cell_type": "markdown",
   "id": "5814fa5b",
   "metadata": {},
   "source": [
    "<h3>Recall</h3>\n",
    "<p>Calcula a procentagem de acerto apenas dos REALMENTE postivos</p>\n",
    "$$\n",
    "RC=\\frac{VP}{VP+FN}\n",
    "$$"
   ]
  },
  {
   "cell_type": "code",
   "execution_count": 49,
   "id": "5d9cbb54",
   "metadata": {},
   "outputs": [
    {
     "data": {
      "text/plain": [
       "0.7884002549394519"
      ]
     },
     "execution_count": 49,
     "metadata": {},
     "output_type": "execute_result"
    }
   ],
   "source": [
    "from sklearn.metrics import recall_score\n",
    "knn_rc=recall_score(y_teste,predito_knn)\n",
    "knn_rc"
   ]
  },
  {
   "cell_type": "code",
   "execution_count": 50,
   "id": "47a747e7",
   "metadata": {},
   "outputs": [
    {
     "data": {
      "text/plain": [
       "0.8164435946462715"
      ]
     },
     "execution_count": 50,
     "metadata": {},
     "output_type": "execute_result"
    }
   ],
   "source": [
    "dtc_rc=recall_score(y_teste,predito_dtc_entropy)\n",
    "dtc_rc"
   ]
  },
  {
   "cell_type": "code",
   "execution_count": 51,
   "id": "7ab48ebd",
   "metadata": {},
   "outputs": [
    {
     "data": {
      "text/plain": [
       "0.6596558317399618"
      ]
     },
     "execution_count": 51,
     "metadata": {},
     "output_type": "execute_result"
    }
   ],
   "source": [
    "bnb_rc=recall_score(y_teste,predito_BNB)\n",
    "bnb_rc"
   ]
  },
  {
   "cell_type": "markdown",
   "id": "f63ea165",
   "metadata": {},
   "source": [
    "<h1>Escolhendo o Modelo</h1>\n",
    "<p>Pela característica do churn, temos que o churn que precisa de atenção é a churn=1, que são quem estão saindo da empresa, então podemos escolher tanto a precisão quanto o recall como métricas, como o Falso Negativo pode fazer com que não demos atenção suficiente a um cliente arriscado decidi por escolher a partir do recall e o modelo utilizado será a árvore de decisão</p>"
   ]
  },
  {
   "cell_type": "code",
   "execution_count": 52,
   "id": "3d056024",
   "metadata": {},
   "outputs": [
    {
     "name": "stdout",
     "output_type": "stream",
     "text": [
      "Modelo KNN Recall=0.7884002549394519\n",
      "Modelo BNB Recall=0.6596558317399618\n",
      "Modelo DTC Recall=0.8164435946462715\n"
     ]
    }
   ],
   "source": [
    "print(f'Modelo KNN Recall={knn_rc}\\nModelo BNB Recall={bnb_rc}\\nModelo DTC Recall={dtc_rc}')"
   ]
  },
  {
   "cell_type": "code",
   "execution_count": 53,
   "id": "c6a86cc1",
   "metadata": {},
   "outputs": [
    {
     "name": "stdout",
     "output_type": "stream",
     "text": [
      "Enfim, predizemos que a Maria terá churn=0\n"
     ]
    }
   ],
   "source": [
    "print(f'Enfim, predizemos que a Maria terá churn={dtc_entropy.predict(x_maria_normalizado)[0]}')"
   ]
  }
 ],
 "metadata": {
  "kernelspec": {
   "display_name": "Python 3 (ipykernel)",
   "language": "python",
   "name": "python3"
  },
  "language_info": {
   "codemirror_mode": {
    "name": "ipython",
    "version": 3
   },
   "file_extension": ".py",
   "mimetype": "text/x-python",
   "name": "python",
   "nbconvert_exporter": "python",
   "pygments_lexer": "ipython3",
   "version": "3.10.7"
  }
 },
 "nbformat": 4,
 "nbformat_minor": 5
}
