{
 "cells": [
  {
   "cell_type": "markdown",
   "id": "c1a33583",
   "metadata": {},
   "source": [
    "# Tipos de Variaveis"
   ]
  },
  {
   "cell_type": "code",
   "execution_count": 8,
   "id": "11694fd8",
   "metadata": {},
   "outputs": [],
   "source": [
    "#int=Inteiro\n",
    "x=5\n",
    "#float=Número com vírgula\n",
    "preco=2.99\n",
    "#String=Texto, Aspas simples ou duplas\n",
    "cidade='São Paulo'\n",
    "#bool= verdadeiro ou falso\n",
    "disponivel=True"
   ]
  },
  {
   "cell_type": "code",
   "execution_count": 9,
   "id": "712a3fdb",
   "metadata": {},
   "outputs": [
    {
     "name": "stdout",
     "output_type": "stream",
     "text": [
      "5 <class 'int'>\n",
      "2.99 <class 'float'>\n",
      "São Paulo <class 'str'>\n",
      "True <class 'bool'>\n"
     ]
    }
   ],
   "source": [
    "#print é uma função que mostra ao usuário o texto que ela receber print(texto)\n",
    "print(x,type(x))\n",
    "print(preco,type(preco))\n",
    "print(cidade,type(cidade))\n",
    "print(disponivel,type(disponivel))"
   ]
  },
  {
   "cell_type": "markdown",
   "id": "5bde0f2e",
   "metadata": {},
   "source": [
    "# Operadores"
   ]
  },
  {
   "cell_type": "code",
   "execution_count": 11,
   "id": "654b99a0",
   "metadata": {},
   "outputs": [
    {
     "name": "stdout",
     "output_type": "stream",
     "text": [
      "Soma: 121\n",
      "Subtração: 79\n",
      "Multiplicação: 2100\n",
      "Divisão: 4.761904761904762\n",
      "Divisão Inteira: 4\n",
      "Resto: 16\n",
      "Potência: 1000000000000000000000000000000000000000000\n"
     ]
    }
   ],
   "source": [
    "x=100\n",
    "y=21\n",
    "print(\"Soma:\",x+y)\n",
    "print(\"Subtração:\",x-y)\n",
    "print(\"Multiplicação:\",x*y)\n",
    "print(\"Divisão:\",x/y)\n",
    "print(\"Divisão Inteira:\",x//y)\n",
    "print(\"Resto:\",x%y)\n",
    "print(\"Potência:\",x**y)"
   ]
  },
  {
   "cell_type": "code",
   "execution_count": 13,
   "id": "a65af111",
   "metadata": {},
   "outputs": [
    {
     "name": "stdout",
     "output_type": "stream",
     "text": [
      "Não: False\n",
      "E: False\n",
      "Não: True\n"
     ]
    }
   ],
   "source": [
    "tem_cafe=True\n",
    "tem_pao=False\n",
    "print(\"Não:\",not tem_cafe)\n",
    "print(\"E:\",tem_cafe and tem_pao)\n",
    "print(\"Não:\",tem_cafe or tem_pao)"
   ]
  },
  {
   "cell_type": "code",
   "execution_count": 14,
   "id": "557ab4c3",
   "metadata": {},
   "outputs": [
    {
     "name": "stdout",
     "output_type": "stream",
     "text": [
      "Maior: True\n",
      "Menor: False\n",
      "Igual: False\n",
      "Maior ou Igual: True\n",
      "Menor ou Igual: False\n",
      "Diferente: True\n"
     ]
    }
   ],
   "source": [
    "dolar=5.3\n",
    "real=1\n",
    "print(\"Maior:\", dolar>real)\n",
    "print(\"Menor:\", dolar<real)\n",
    "print(\"Igual:\", dolar==real)\n",
    "print(\"Maior ou Igual:\", dolar>=real)\n",
    "print(\"Menor ou Igual:\", dolar<=real)\n",
    "print(\"Diferente:\", dolar!=real)"
   ]
  },
  {
   "cell_type": "markdown",
   "id": "bfd4ccd4",
   "metadata": {},
   "source": [
    "# Estruturas Sequenciais"
   ]
  },
  {
   "cell_type": "code",
   "execution_count": 1,
   "id": "905e32d0",
   "metadata": {},
   "outputs": [
    {
     "name": "stdout",
     "output_type": "stream",
     "text": [
      "informe a sua idade: 21\n",
      "21 <class 'str'>\n"
     ]
    }
   ],
   "source": [
    "idade=input(\"informe a sua idade: \")\n",
    "print(idade,type(idade))"
   ]
  },
  {
   "cell_type": "code",
   "execution_count": 2,
   "id": "f0fd093c",
   "metadata": {},
   "outputs": [
    {
     "name": "stdout",
     "output_type": "stream",
     "text": [
      "21 <class 'int'>\n"
     ]
    }
   ],
   "source": [
    "#Conversão de dados, também chamado de casting:\n",
    "idade=int(idade)\n",
    "print(idade,type(idade))"
   ]
  },
  {
   "cell_type": "code",
   "execution_count": 3,
   "id": "6b26ff0c",
   "metadata": {},
   "outputs": [
    {
     "ename": "ValueError",
     "evalue": "invalid literal for int() with base 10: 'abc'",
     "output_type": "error",
     "traceback": [
      "\u001b[1;31m---------------------------------------------------------------------------\u001b[0m",
      "\u001b[1;31mValueError\u001b[0m                                Traceback (most recent call last)",
      "Cell \u001b[1;32mIn [3], line 2\u001b[0m\n\u001b[0;32m      1\u001b[0m \u001b[38;5;66;03m#Só converte se for do tipo a converter\u001b[39;00m\n\u001b[1;32m----> 2\u001b[0m idade\u001b[38;5;241m=\u001b[39m\u001b[38;5;28;43mint\u001b[39;49m\u001b[43m(\u001b[49m\u001b[38;5;124;43m\"\u001b[39;49m\u001b[38;5;124;43mabc\u001b[39;49m\u001b[38;5;124;43m\"\u001b[39;49m\u001b[43m)\u001b[49m\n\u001b[0;32m      3\u001b[0m \u001b[38;5;28mprint\u001b[39m(idade,\u001b[38;5;28mtype\u001b[39m(idade))\n",
      "\u001b[1;31mValueError\u001b[0m: invalid literal for int() with base 10: 'abc'"
     ]
    }
   ],
   "source": [
    "#Só converte se for do tipo a converter\n",
    "idade=int(\"abc\")\n",
    "print(idade,type(idade))"
   ]
  },
  {
   "cell_type": "code",
   "execution_count": 4,
   "id": "022e7bb7",
   "metadata": {},
   "outputs": [
    {
     "name": "stdout",
     "output_type": "stream",
     "text": [
      "1.25\n",
      "128.25\n",
      "False\n",
      "True\n",
      "True\n",
      "False\n"
     ]
    }
   ],
   "source": [
    "#Conversão de dados diversas:\n",
    "print(float(\"1.25\"))\n",
    "print(str(128.25))\n",
    "print(bool(\"\"))\n",
    "print(bool(\"abc\"))\n",
    "print(bool(-7))\n",
    "print(bool(0))"
   ]
  },
  {
   "cell_type": "markdown",
   "id": "16b3a656",
   "metadata": {},
   "source": [
    "<h1> Estrutura Condicional</h1>"
   ]
  },
  {
   "cell_type": "code",
   "execution_count": 1,
   "id": "90c35efd",
   "metadata": {},
   "outputs": [
    {
     "name": "stdout",
     "output_type": "stream",
     "text": [
      "Qual o valor da corrida?21\n",
      "Pague a corrida\n"
     ]
    }
   ],
   "source": [
    "#Dado, valor_passagem=valor da passagem do onibus e valor_corrida o valor da corrida em um app pago de viagem\n",
    "valor_passagem=4.30\n",
    "valor_corrida=input(\"Qual o valor da corrida?\")\n",
    "if float(valor_corrida) <=5*valor_passagem:\n",
    "    print(\"Pague a corrida\")\n",
    "if float(valor_corrida)>5*valor_passagem:\n",
    "    print(\"Pague a passagem\")"
   ]
  },
  {
   "cell_type": "code",
   "execution_count": null,
   "id": "909ceac9",
   "metadata": {},
   "outputs": [],
   "source": [
    "#Else= qualquer resultado que não entrar no if anterior\n",
    "valor_passagem=4.30\n",
    "valor_corrida=input(\"Qual o valor da corrida?\")\n",
    "if float(valor_corrida) <=5*valor_passagem:\n",
    "    print(\"Pague a corrida\")\n",
    "else:\n",
    "    print(\"Pague a passagem\")"
   ]
  },
  {
   "cell_type": "code",
   "execution_count": null,
   "id": "e0b2727e",
   "metadata": {},
   "outputs": [],
   "source": [
    "#Alteramos para esperar o valor no app pago baixar\n",
    "valor_passagem=4.30\n",
    "valor_corrida=input(\"Qual o valor da corrida?\")\n",
    "if float(valor_corrida) <=5*valor_passagem:\n",
    "    print(\"Pague a corrida\")\n",
    "else:\n",
    "    if float(valor_corrida)<=6*valor_passagem:\n",
    "        print(\"Espere um Pouco\")\n",
    "    else:\n",
    "        print(\"Pague a passagem\")"
   ]
  },
  {
   "cell_type": "code",
   "execution_count": null,
   "id": "8739450e",
   "metadata": {},
   "outputs": [],
   "source": [
    "#Elif é a negação do if, porém com um if próprio.\n",
    "valor_passagem=4.30\n",
    "valor_corrida=input(\"Qual o valor da corrida?\")\n",
    "if float(valor_corrida) <=5*valor_passagem:\n",
    "    print(\"Pague a corrida\")\n",
    "elif(float(valor_corrida)<=6*valor_passagem):\n",
    "    print(\"Espere um Pouco, o valor da corrida pode diminuir\")\n",
    "else:\n",
    "    print(\"Pague a passagem\")"
   ]
  },
  {
   "cell_type": "markdown",
   "id": "cae94da3",
   "metadata": {},
   "source": [
    "<h1> Estrutura de Repetição - While</h1>"
   ]
  },
  {
   "cell_type": "code",
   "execution_count": 2,
   "id": "eeb2ff93",
   "metadata": {},
   "outputs": [
    {
     "name": "stdout",
     "output_type": "stream",
     "text": [
      "1  item limpo\n",
      "2  itens limpos\n",
      "3  itens limpos\n",
      "4  itens limpos\n",
      "5  itens limpos\n",
      "6  itens limpos\n",
      "7  itens limpos\n",
      "8  itens limpos\n",
      "9  itens limpos\n",
      "10  itens limpos\n",
      "Fim da repetição do bloco while\n"
     ]
    }
   ],
   "source": [
    "contador=0\n",
    "while contador<10:\n",
    "    contador+=1\n",
    "    if contador == 1:\n",
    "        print(contador,\" item limpo\")\n",
    "    else:\n",
    "        print(contador,\" itens limpos\")\n",
    "print(\"Fim da repetição do bloco while\")"
   ]
  },
  {
   "cell_type": "code",
   "execution_count": 3,
   "id": "bd0163e0",
   "metadata": {},
   "outputs": [
    {
     "name": "stdout",
     "output_type": "stream",
     "text": [
      "1  item limpo\n",
      "2  itens limpos\n",
      "3  itens limpos\n",
      "4  itens limpos\n",
      "5  itens limpos\n",
      "6  itens limpos\n",
      "7  itens limpos\n",
      "8  itens limpos\n",
      "9  itens limpos\n",
      "10  itens limpos\n",
      "Fim da repetição do bloco while\n"
     ]
    }
   ],
   "source": [
    "contador=0\n",
    "while True:\n",
    "    if contador<10:\n",
    "        contador+=1\n",
    "        if contador == 1:\n",
    "            print(contador,\" item limpo\")\n",
    "        else:\n",
    "            print(contador,\" itens limpos\")\n",
    "    else:\n",
    "        break\n",
    "print(\"Fim da repetição do bloco while\")     "
   ]
  },
  {
   "cell_type": "code",
   "execution_count": 4,
   "id": "e6a8cf08",
   "metadata": {},
   "outputs": [
    {
     "name": "stdout",
     "output_type": "stream",
     "text": [
      "Digite a sua senha: a\n",
      "Digite a sua senha: s\n",
      "Digite a sua senha: d\n",
      "Digite a sua senha: f\n",
      "Digite a sua senha: e\n",
      "Digite a sua senha: a\n",
      "Digite a sua senha: f\n",
      "Digite a sua senha: ds\n",
      "Digite a sua senha: \n",
      "Digite a sua senha: s\n",
      "Digite a sua senha: f\n",
      "Digite a sua senha: sd\n",
      "Digite a sua senha: f\n",
      "Digite a sua senha: LetsCode\n",
      "Acesso Permitido\n"
     ]
    }
   ],
   "source": [
    "texto=input(\"Digite a sua senha: \")\n",
    "while texto!=\"LetsCode\":\n",
    "    texto=input(\"Digite a sua senha: \")\n",
    "print(\"Acesso Permitido\")"
   ]
  },
  {
   "cell_type": "code",
   "execution_count": null,
   "id": "50d5bcc2",
   "metadata": {},
   "outputs": [],
   "source": [
    "contador=0\n",
    "while contador<10:\n",
    "    contador+=1\n",
    "    if contador == 1:\n",
    "        continue\n",
    "    print(contador,\" itens limpos\")\n",
    "print(\"Fim da repetição do bloco while\")"
   ]
  },
  {
   "cell_type": "markdown",
   "id": "5a16a222",
   "metadata": {},
   "source": [
    "<h1>Estrutura de Dados-Listas</h1> "
   ]
  },
  {
   "cell_type": "code",
   "execution_count": 7,
   "id": "cef1e601",
   "metadata": {
    "scrolled": true
   },
   "outputs": [
    {
     "name": "stdout",
     "output_type": "stream",
     "text": [
      "['Brasil', 'Argentina', 'China', 'Canadá', 'Japão']\n",
      "Tamanho da lista:  5\n"
     ]
    }
   ],
   "source": [
    "#nomes_paises é uma lista\n",
    "nomes_paises = [\"Brasil\",\"Argentina\",\"China\",\"Canadá\",\"Japão\"]\n",
    "print(nomes_paises)\n",
    "print(\"Tamanho da lista: \",len(nomes_paises))"
   ]
  },
  {
   "cell_type": "code",
   "execution_count": 8,
   "id": "7142d2b8",
   "metadata": {},
   "outputs": [
    {
     "name": "stdout",
     "output_type": "stream",
     "text": [
      "País 1:  Brasil\n",
      "País 2:  Argentina\n",
      "País 3:  China\n",
      "País 4:  Canadá\n",
      "País 5:  Japão\n"
     ]
    }
   ],
   "source": [
    "print(\"País 1: \",nomes_paises[0])\n",
    "print(\"País 2: \",nomes_paises[1])\n",
    "print(\"País 3: \",nomes_paises[2])\n",
    "print(\"País 4: \",nomes_paises[3])\n",
    "print(\"País 5: \",nomes_paises[4])"
   ]
  },
  {
   "cell_type": "code",
   "execution_count": 9,
   "id": "05206743",
   "metadata": {},
   "outputs": [
    {
     "name": "stdout",
     "output_type": "stream",
     "text": [
      "País 1:  Brasil\n",
      "País 2:  Argentina\n",
      "País 3:  China\n",
      "País 4:  Canadá\n",
      "País 5:  Japão\n"
     ]
    }
   ],
   "source": [
    "print(\"País 1: \",nomes_paises[-5])\n",
    "print(\"País 2: \",nomes_paises[-4])\n",
    "print(\"País 3: \",nomes_paises[-3])\n",
    "print(\"País 4: \",nomes_paises[-2])\n",
    "print(\"País 5: \",nomes_paises[-1])"
   ]
  },
  {
   "cell_type": "code",
   "execution_count": 10,
   "id": "6a3d1b3c",
   "metadata": {},
   "outputs": [
    {
     "name": "stdout",
     "output_type": "stream",
     "text": [
      "País Canadá\n",
      "País Colombia\n",
      "['Brasil', 'Argentina', 'China', 'Colombia', 'Japão']\n"
     ]
    }
   ],
   "source": [
    "print(\"País\",nomes_paises[3])\n",
    "nomes_paises[3]=\"Colombia\"\n",
    "print(\"País\",nomes_paises[3])\n",
    "print(nomes_paises)"
   ]
  },
  {
   "cell_type": "code",
   "execution_count": 10,
   "id": "e6ed0b35",
   "metadata": {},
   "outputs": [
    {
     "ename": "IndexError",
     "evalue": "list assignment index out of range",
     "output_type": "error",
     "traceback": [
      "\u001b[1;31m---------------------------------------------------------------------------\u001b[0m",
      "\u001b[1;31mIndexError\u001b[0m                                Traceback (most recent call last)",
      "Cell \u001b[1;32mIn [10], line 1\u001b[0m\n\u001b[1;32m----> 1\u001b[0m \u001b[43mnomes_paises\u001b[49m\u001b[43m[\u001b[49m\u001b[38;5;241;43m5\u001b[39;49m\u001b[43m]\u001b[49m\u001b[38;5;241m=\u001b[39m\u001b[38;5;124m\"\u001b[39m\u001b[38;5;124mChile\u001b[39m\u001b[38;5;124m\"\u001b[39m\n",
      "\u001b[1;31mIndexError\u001b[0m: list assignment index out of range"
     ]
    }
   ],
   "source": [
    "nomes_paises[5]=\"Chile\""
   ]
  },
  {
   "cell_type": "code",
   "execution_count": 11,
   "id": "1fb1bf5c",
   "metadata": {},
   "outputs": [
    {
     "name": "stdout",
     "output_type": "stream",
     "text": [
      "['Argentina', 'China']\n",
      "['Argentina', 'China', 'Colombia']\n",
      "['China', 'Colombia', 'Japão']\n",
      "['Japão']\n",
      "['Brasil', 'Argentina']\n",
      "['Brasil', 'Argentina', 'China']\n",
      "['Brasil', 'Argentina', 'China', 'Colombia', 'Japão']\n",
      "['Brasil', 'China', 'Japão']\n",
      "['Argentina', 'Colombia']\n",
      "['Japão', 'Colombia', 'China', 'Argentina', 'Brasil']\n"
     ]
    }
   ],
   "source": [
    "#Operação Slice, retira uma \"fatia\" da lista\n",
    "print(nomes_paises[1:3])\n",
    "print(nomes_paises[1:-1])\n",
    "print(nomes_paises[2:])\n",
    "print(nomes_paises[-1:])\n",
    "print(nomes_paises[:2])\n",
    "print(nomes_paises[:-2])\n",
    "print(nomes_paises[:])\n",
    "print(nomes_paises[::2])\n",
    "print(nomes_paises[1:4:2])\n",
    "print(nomes_paises[::-1])"
   ]
  },
  {
   "cell_type": "code",
   "execution_count": 24,
   "id": "1baef2f8",
   "metadata": {},
   "outputs": [
    {
     "name": "stdout",
     "output_type": "stream",
     "text": [
      "True\n",
      "False\n"
     ]
    }
   ],
   "source": [
    "#in=pertence\n",
    "print(\"Brasil\" in nomes_paises)\n",
    "print(\"China\" not in nomes_paises)"
   ]
  },
  {
   "cell_type": "markdown",
   "id": "ca5ad173",
   "metadata": {},
   "source": [
    "<h3>Métodos e Funções</h3>\n",
    "<p> Funções são mais genéricas do que métodos, len() e print() são exemplos de funções, recebem diversas estruturas e não dependem de uma específica para serem chamadas, usaremos agora vários métodos de lista</p>"
   ]
  },
  {
   "cell_type": "code",
   "execution_count": 16,
   "id": "ed62f3ec",
   "metadata": {},
   "outputs": [
    {
     "name": "stdout",
     "output_type": "stream",
     "text": [
      "['Brasília', 'Buenos Aires', 'Pequim', 'Bogotá', 'Tokyo']\n"
     ]
    }
   ],
   "source": [
    "lista_capitais=[]\n",
    "lista_capitais.append(\"Brasília\")\n",
    "lista_capitais.append(\"Buenos Aires\")\n",
    "lista_capitais.append(\"Pequim\")\n",
    "lista_capitais.append(\"Bogotá\")\n",
    "lista_capitais.append(\"Tokyo\")\n",
    "print(lista_capitais)"
   ]
  },
  {
   "cell_type": "code",
   "execution_count": 17,
   "id": "c75db42f",
   "metadata": {},
   "outputs": [
    {
     "name": "stdout",
     "output_type": "stream",
     "text": [
      "['Brasília', 'Buenos Aires', 'Paris', 'Pequim', 'Bogotá', 'Tokyo']\n",
      "['Brasília', 'Paris', 'Pequim', 'Bogotá', 'Tokyo']\n",
      "['Brasília', 'Paris', 'Bogotá', 'Tokyo']  Valor removido:  Pequim\n"
     ]
    }
   ],
   "source": [
    "lista_capitais.insert(2,\"Paris\")\n",
    "print(lista_capitais)\n",
    "lista_capitais.remove(\"Buenos Aires\")\n",
    "print(lista_capitais)\n",
    "valor_removido = lista_capitais.pop(2)\n",
    "print(lista_capitais, \" Valor removido: \", valor_removido)"
   ]
  },
  {
   "cell_type": "code",
   "execution_count": 19,
   "id": "2c486977",
   "metadata": {},
   "outputs": [
    {
     "name": "stdout",
     "output_type": "stream",
     "text": [
      "Reino Unido\n",
      "Bogotá\n"
     ]
    }
   ],
   "source": [
    "#Propagação de Informação:\n",
    "capitais=lista_capitais\n",
    "capitais[1]=\"Reino Unido\"\n",
    "print(lista_capitais[1])\n",
    "#Ao usar = entre duas listas nós criamos uma refêrencia de uma lista a outra\n",
    "#Para criar uma nova lista precisamos usar o método copy\n",
    "capitais=lista_capitais.copy()\n",
    "capitais[2]=\"Quito\"\n",
    "print(lista_capitais[2])"
   ]
  },
  {
   "cell_type": "markdown",
   "id": "9dbc01b8",
   "metadata": {},
   "source": [
    "<h1>Estrutura de Dados-Tuplas</h1>\n",
    "<p>A Principal diferença para com a lista é que na tupla não se pode inserir, alterar ou retirar dados dela, por isso ela é mais \"rígida\" que a lista, porém, a tupla é menor em armazenamento, então se puder usar uma tupla no lugar da lista, ela será mais eficiente</p>"
   ]
  },
  {
   "cell_type": "code",
   "execution_count": 34,
   "id": "c23a509a",
   "metadata": {},
   "outputs": [
    {
     "name": "stdout",
     "output_type": "stream",
     "text": [
      "('Brasil', 'Argentina', 'China', 'Canadá', 'Japão') <class 'tuple'>\n",
      "('Brasil', 'Argentina', 'China', 'Canadá', 'Japão') <class 'tuple'>\n"
     ]
    }
   ],
   "source": [
    "#nomes_paises é uma tupla, ela pode ser inicializado como:\n",
    "nomes_paises = \"Brasil\",\"Argentina\",\"China\",\"Canadá\",\"Japão\"\n",
    "print(nomes_paises,type(nomes_paises))\n",
    "nomes_paises = (\"Brasil\",\"Argentina\",\"China\",\"Canadá\",\"Japão\")\n",
    "print(nomes_paises,type(nomes_paises))"
   ]
  },
  {
   "cell_type": "code",
   "execution_count": 35,
   "id": "53056c40",
   "metadata": {},
   "outputs": [
    {
     "name": "stdout",
     "output_type": "stream",
     "text": [
      "('São Paulo',) <class 'tuple'>\n"
     ]
    }
   ],
   "source": [
    "#Não faz sentido iniciar uma tupla vazia, porém podemos iniciar uma tupla com 1 elemento\n",
    "nome_estado=\"São Paulo\",\n",
    "print(nome_estado, type(nome_estado))"
   ]
  },
  {
   "cell_type": "markdown",
   "id": "72af3e28",
   "metadata": {},
   "source": [
    "<p> As operações len e slice, o operador in e o acesso via [] continuam na tupla</p>"
   ]
  },
  {
   "cell_type": "code",
   "execution_count": 37,
   "id": "53991ee8",
   "metadata": {},
   "outputs": [
    {
     "name": "stdout",
     "output_type": "stream",
     "text": [
      "Argentina China Canadá\n",
      "Brasil Argentina China Canadá Japão\n"
     ]
    }
   ],
   "source": [
    "#unpacking, não funciona na lista mas funciona na tupla, salva cada valor em uma variavel diferente\n",
    "Brasil, Argentina, China, Canada, Japao=nomes_paises\n",
    "print(Argentina,China,Canada)\n",
    "print(*nomes_paises)#* força o unpacking da tupla"
   ]
  },
  {
   "cell_type": "markdown",
   "id": "11f7892b",
   "metadata": {},
   "source": [
    "<h1>Estrutura de Dados - String Aprofundado</h1>"
   ]
  },
  {
   "cell_type": "code",
   "execution_count": 38,
   "id": "031cac58",
   "metadata": {},
   "outputs": [
    {
     "name": "stdout",
     "output_type": "stream",
     "text": [
      "Let's Code\n",
      "O professor da Let's Code diz\"a pizza é por minha conta\"\n"
     ]
    }
   ],
   "source": [
    "#Inserindo dados:\n",
    "letsCode=\"Let's Code\"#Não podemos usar aspas simples a volta\n",
    "print(letsCode)\n",
    "frase = \"O professor da Let's Code diz: \\\"a pizza é por minha conta\\\"\"#Caractere de Escape, representado pela \\\n",
    "print(frase)"
   ]
  },
  {
   "cell_type": "markdown",
   "id": "0af9761d",
   "metadata": {},
   "source": [
    "<p>String=Corda, String age parecido com uma Tupla, podendo ser usado o slice mas não ser retirado, alterado ou inserido como uma lista</p>"
   ]
  },
  {
   "cell_type": "code",
   "execution_count": 41,
   "id": "93d93e78",
   "metadata": {},
   "outputs": [
    {
     "name": "stdout",
     "output_type": "stream",
     "text": [
      "oo\n"
     ]
    }
   ],
   "source": [
    "empresa=\"Google\"\n",
    "print(empresa[1:3])"
   ]
  },
  {
   "cell_type": "markdown",
   "id": "410c435c",
   "metadata": {},
   "source": [
    "<p>Strings também possuem os próprios metódos</p>"
   ]
  },
  {
   "cell_type": "code",
   "execution_count": 45,
   "id": "6f1925a2",
   "metadata": {},
   "outputs": [
    {
     "name": "stdout",
     "output_type": "stream",
     "text": [
      "['São Paulo', 'Brasília', 'São Roque', 'Rio de Janeiro'] <class 'list'>\n",
      "['São', 'Paulo,', 'Brasília,', 'São', 'Roque,', 'Rio', 'de', 'Janeiro'] <class 'list'>\n"
     ]
    }
   ],
   "source": [
    "#O método strip divide a string em pedaços, separados por um determinado grupo de caracteres\n",
    "nomes_cidades=\"São Paulo, Brasília, São Roque, Rio de Janeiro\"\n",
    "nomes_cidades_certo=nomes_cidades.split(\", \")\n",
    "print(nomes_cidades_certo,type(nomes_cidades_certo))\n",
    "\n",
    "nomes_cidades_padrao=nomes_cidades.split()\n",
    "print(nomes_cidades_padrao,type(nomes_cidades_padrao))"
   ]
  },
  {
   "cell_type": "code",
   "execution_count": 46,
   "id": "95d2dadc",
   "metadata": {},
   "outputs": [
    {
     "name": "stdout",
     "output_type": "stream",
     "text": [
      "Menu Principal\n"
     ]
    }
   ],
   "source": [
    "#O método strip retira os espaços no começo e no fim da string\n",
    "cabecalho=\"              Menu Principal                \"\n",
    "print(cabecalho.strip())"
   ]
  },
  {
   "cell_type": "code",
   "execution_count": 49,
   "id": "e46e4bb4",
   "metadata": {},
   "outputs": [
    {
     "name": "stdout",
     "output_type": "stream",
     "text": [
      "Rio De Janeiro\n",
      "Rio de janeiro\n",
      "rio de janeiro\n",
      "RIO DE JANEIRO\n"
     ]
    }
   ],
   "source": [
    "#Existem também diversos métodos que alteram as letras para minusculas ou maiusculas:\n",
    "cidade=\"Rio dE jAneIro\"\n",
    "print(cidade.title())#Primeira letra de cada frase maiuscula\n",
    "print(cidade.capitalize())#Primeira letra maiuscula\n",
    "print(cidade.lower())#Tudo minusculo\n",
    "print(cidade.upper())#Tudo maiusculo"
   ]
  },
  {
   "cell_type": "code",
   "execution_count": 50,
   "id": "bd89116b",
   "metadata": {},
   "outputs": [
    {
     "name": "stdout",
     "output_type": "stream",
     "text": [
      "Qual a cidade maravilhosa?são paulo\n",
      "Tente Novamente\n",
      "Qual a cidade maravilhosa?perNANBUCO\n",
      "Tente Novamente\n",
      "Qual a cidade maravilhosa?RIO dE Janeiro\n",
      "Parabéns Acertou!\n"
     ]
    }
   ],
   "source": [
    "#Exemplo de utilização dos métodos anteriores\n",
    "cidade=input(\"Qual a cidade maravilhosa?\")\n",
    "while (cidade.strip()).lower() != 'rio de janeiro':\n",
    "    print(\"Tente Novamente\")\n",
    "    cidade = input(\"Qual a cidade maravilhosa?\")\n",
    "print(\"Parabéns Acertou!\")"
   ]
  },
  {
   "cell_type": "code",
   "execution_count": 52,
   "id": "5fbcef27",
   "metadata": {},
   "outputs": [
    {
     "name": "stdout",
     "output_type": "stream",
     "text": [
      "True\n"
     ]
    }
   ],
   "source": [
    "#Nosso velho amigo in também funciona em strings:\n",
    "mensagem=\"O Pietro participou da aula ontem?\"\n",
    "print(\"Pietro\" in mensagem)"
   ]
  },
  {
   "cell_type": "markdown",
   "id": "af06c11f",
   "metadata": {},
   "source": [
    "<p>Temos também alguns operadores aritméticos para a string como a seguir:</p>"
   ]
  },
  {
   "cell_type": "code",
   "execution_count": 54,
   "id": "386e2db5",
   "metadata": {},
   "outputs": [
    {
     "name": "stdout",
     "output_type": "stream",
     "text": [
      "Diga-me seu nome: Guilherme\n",
      "Ola Guilherme\n"
     ]
    }
   ],
   "source": [
    "#+ faz a concatenação entre duas strings\n",
    "cumprimento=\"Olá \"\n",
    "nome=input(\"Diga-me seu nome: \")\n",
    "print(cumprimento+nome.strip())"
   ]
  },
  {
   "cell_type": "code",
   "execution_count": 55,
   "id": "4adbdc66",
   "metadata": {},
   "outputs": [
    {
     "name": "stdout",
     "output_type": "stream",
     "text": [
      "Google Google Google Google Google \n"
     ]
    }
   ],
   "source": [
    "#* concatena x vezes a string consigo mesma, x sendo o valor multiplicado\n",
    "texto=\"Google \"\n",
    "print(texto*5)"
   ]
  },
  {
   "cell_type": "code",
   "execution_count": 57,
   "id": "9bdabe3d",
   "metadata": {},
   "outputs": [
    {
     "name": "stdout",
     "output_type": "stream",
     "text": [
      "Guilherme tem 21 anos e tem 0 filhos\n"
     ]
    }
   ],
   "source": [
    "#Temos um problema com apenas usar + para concatenar:\n",
    "nome=\"Guilherme\"\n",
    "idade=21\n",
    "n_filhos=0\n",
    "print(nome+\" tem \"+str(idade)+\" anos e tem \"+str(n_filhos)+\" filhos\")\n",
    "#Como podemos ver começa a ficar muito grande a programação"
   ]
  },
  {
   "cell_type": "code",
   "execution_count": 58,
   "id": "a71e9828",
   "metadata": {},
   "outputs": [
    {
     "name": "stdout",
     "output_type": "stream",
     "text": [
      "Guilherme tem 21 anos e tem 0 filhos\n"
     ]
    }
   ],
   "source": [
    "#Para isso existe o Método Format:\n",
    "nome=\"Guilherme\"\n",
    "idade=21\n",
    "n_filhos=0\n",
    "print(\"{} tem {} anos e tem {} filhos\".format(nome,idade,n_filhos))"
   ]
  },
  {
   "cell_type": "code",
   "execution_count": 61,
   "id": "0b0bafae",
   "metadata": {},
   "outputs": [
    {
     "name": "stdout",
     "output_type": "stream",
     "text": [
      "O preço da passagem é de 4.00 reais\n"
     ]
    }
   ],
   "source": [
    "#Existem diversas opções para o método format como:\n",
    "passagem=4.0\n",
    "print(\"O preço da passagem é de {:.2f} reais\".format(passagem))"
   ]
  },
  {
   "cell_type": "code",
   "execution_count": 62,
   "id": "38cd957c",
   "metadata": {},
   "outputs": [
    {
     "name": "stdout",
     "output_type": "stream",
     "text": [
      "Guilherme tem 21 anos e tem 0 filhos\n"
     ]
    }
   ],
   "source": [
    "#Por fim também existe uma forma menor ainda do método format:\n",
    "nome=\"Guilherme\"\n",
    "idade=21\n",
    "n_filhos=0\n",
    "print(f\"{nome} tem {idade} anos e tem {n_filhos} filhos\")"
   ]
  },
  {
   "cell_type": "markdown",
   "id": "b7963d76",
   "metadata": {},
   "source": [
    "<h1>Estrutura de Dados - Dicionário</h1>\n",
    "<p>Uma coleção Associativa desordenada</p>"
   ]
  },
  {
   "cell_type": "code",
   "execution_count": 2,
   "id": "df9a71e4",
   "metadata": {},
   "outputs": [
    {
     "name": "stdout",
     "output_type": "stream",
     "text": [
      "<class 'dict'> {'nome': 'São Paulo', 'estado': 'São Paulo', 'area_km2': 1521, 'populacao_milhoes': 12.18}\n"
     ]
    }
   ],
   "source": [
    "#Dados_cidade é um dicionário\n",
    "dados_cidade={\n",
    "    'nome':'São Paulo',\n",
    "    'estado':\"São Paulo\",\n",
    "    'area_km2':1521,\n",
    "    'populacao_milhoes':12.18\n",
    "}\n",
    "print(type(dados_cidade), dados_cidade)"
   ]
  },
  {
   "cell_type": "code",
   "execution_count": 4,
   "id": "a4806d04",
   "metadata": {},
   "outputs": [
    {
     "name": "stdout",
     "output_type": "stream",
     "text": [
      "Brasil\n",
      "{'nome': 'São Paulo', 'estado': 'São Paulo', 'area_km2': 1521, 'populacao_milhoes': 12.18, 'pais': 'Brasil'}\n"
     ]
    }
   ],
   "source": [
    "#Inserindo novos dados\n",
    "dados_cidade['pais']='Brasil'\n",
    "print(dados_cidade['pais'])\n",
    "print(dados_cidade)"
   ]
  },
  {
   "cell_type": "code",
   "execution_count": 5,
   "id": "b0fe7c6a",
   "metadata": {},
   "outputs": [
    {
     "name": "stdout",
     "output_type": "stream",
     "text": [
      "{'nome': 'São Paulo', 'estado': 'São Paulo', 'area_km2': 1500, 'populacao_milhoes': 12.18, 'pais': 'Brasil'}\n"
     ]
    }
   ],
   "source": [
    "#Alterando dados\n",
    "dados_cidade['area_km2']=1500\n",
    "print(dados_cidade)"
   ]
  },
  {
   "cell_type": "code",
   "execution_count": 21,
   "id": "244cbc17",
   "metadata": {},
   "outputs": [
    {
     "name": "stdout",
     "output_type": "stream",
     "text": [
      "1550\n",
      "São Paulo\n"
     ]
    }
   ],
   "source": [
    "#Propagação de Informação igual a lista:\n",
    "cidade=dados_cidade\n",
    "cidade['area_km2']=1550\n",
    "print(dados_cidade['area_km2'])\n",
    "#Ao usar = entre dois dicionarios, nós criamos uma refêrencia de um dicionário a outra\n",
    "#Para criar um novo dicionário precisamos usar o método copy\n",
    "cidade=dados_cidade.copy()\n",
    "cidade['nome']=\"Riod de Janeiro\"\n",
    "print(dados_cidade['nome'])"
   ]
  },
  {
   "cell_type": "code",
   "execution_count": 23,
   "id": "e7df7162",
   "metadata": {},
   "outputs": [
    {
     "name": "stdout",
     "output_type": "stream",
     "text": [
      "{'nome': 'São Paulo', 'estado': 'São Paulo', 'area_km2': 1600, 'populacao_milhoes': 12.25, 'pais': 'Brasil'}\n"
     ]
    }
   ],
   "source": [
    "#Método update:\n",
    "novos_dados={\n",
    "    \"area_km2\":1600,\n",
    "    'populacao_milhoes':12.25\n",
    "}\n",
    "dados_cidade.update(novos_dados)\n",
    "print(dados_cidade)"
   ]
  },
  {
   "cell_type": "code",
   "execution_count": 24,
   "id": "adfd923b",
   "metadata": {},
   "outputs": [
    {
     "ename": "KeyError",
     "evalue": "'prefeito'",
     "output_type": "error",
     "traceback": [
      "\u001b[1;31m---------------------------------------------------------------------------\u001b[0m",
      "\u001b[1;31mKeyError\u001b[0m                                  Traceback (most recent call last)",
      "Cell \u001b[1;32mIn [24], line 2\u001b[0m\n\u001b[0;32m      1\u001b[0m \u001b[38;5;66;03m#Igual a lista temos o \"index_out_of_range\", aqui temos:\u001b[39;00m\n\u001b[1;32m----> 2\u001b[0m \u001b[43mdados_cidade\u001b[49m\u001b[43m[\u001b[49m\u001b[38;5;124;43m\"\u001b[39;49m\u001b[38;5;124;43mprefeito\u001b[39;49m\u001b[38;5;124;43m\"\u001b[39;49m\u001b[43m]\u001b[49m\n",
      "\u001b[1;31mKeyError\u001b[0m: 'prefeito'"
     ]
    }
   ],
   "source": [
    "#Igual a lista temos o \"index_out_of_range\", aqui temos:\n",
    "dados_cidade[\"prefeito\"]"
   ]
  },
  {
   "cell_type": "code",
   "execution_count": 26,
   "id": "720e1c3b",
   "metadata": {},
   "outputs": [
    {
     "name": "stdout",
     "output_type": "stream",
     "text": [
      "None\n"
     ]
    }
   ],
   "source": [
    "#Porém temos um outro jeito de pegar dados, só que mais seguro, o método get:\n",
    "print(dados_cidade.get(\"prefeito\"))"
   ]
  },
  {
   "cell_type": "code",
   "execution_count": 27,
   "id": "3a110cd4",
   "metadata": {},
   "outputs": [
    {
     "name": "stdout",
     "output_type": "stream",
     "text": [
      "dict_keys(['nome', 'estado', 'area_km2', 'populacao_milhoes', 'pais'])\n",
      "\n",
      "dict_values(['São Paulo', 'São Paulo', 1600, 12.25, 'Brasil'])\n",
      "\n",
      "dict_items([('nome', 'São Paulo'), ('estado', 'São Paulo'), ('area_km2', 1600), ('populacao_milhoes', 12.25), ('pais', 'Brasil')])\n"
     ]
    }
   ],
   "source": [
    "#Métodos para transformar dicionário em listas:\n",
    "print(dados_cidade.keys())#Retorna uma lista com as chaves\n",
    "print()\n",
    "print(dados_cidade.values())#Retorna uma lista com os valores\n",
    "print()\n",
    "print(dados_cidade.items())#Retorna uma lista com tuplas de chaves e valores"
   ]
  },
  {
   "cell_type": "markdown",
   "id": "c617ef0c",
   "metadata": {},
   "source": [
    "<h1> Estrutura de Repetição - For</h1>\n",
    "<p>For é especializado em iterar por estrutura, isto é, navegar por todos os elementos de uma estrutura de dados</p>"
   ]
  },
  {
   "cell_type": "code",
   "execution_count": 29,
   "id": "18c18df9",
   "metadata": {},
   "outputs": [
    {
     "name": "stdout",
     "output_type": "stream",
     "text": [
      "Brasil\n",
      "Argentina\n",
      "China\n",
      "Canadá\n",
      "Japão\n"
     ]
    }
   ],
   "source": [
    "nomes_paises=[\"Brasil\",\"Argentina\",\"China\",\"Canadá\",\"Japão\"]\n",
    "for nome in nomes_paises:\n",
    "    print(nome)"
   ]
  },
  {
   "cell_type": "code",
   "execution_count": 30,
   "id": "c3c6ef6c",
   "metadata": {},
   "outputs": [
    {
     "name": "stdout",
     "output_type": "stream",
     "text": [
      "Brasil\n",
      "Argentina\n",
      "China\n",
      "Canadá\n",
      "Japão\n"
     ]
    }
   ],
   "source": [
    "#Comparando com while\n",
    "contador=0\n",
    "nomes_paises=[\"Brasil\",\"Argentina\",\"China\",\"Canadá\",\"Japão\"]\n",
    "while contador<len(nomes_paises):\n",
    "    print(nomes_paises[contador])\n",
    "    contador+=1"
   ]
  },
  {
   "cell_type": "markdown",
   "id": "de6e2322",
   "metadata": {},
   "source": [
    "<H3>Não esqueceremos do while, pois o while é muito mais livre do que o for, podendo ter mais condições e não depender de um contador </H3>"
   ]
  },
  {
   "cell_type": "code",
   "execution_count": 31,
   "id": "42d95589",
   "metadata": {},
   "outputs": [
    {
     "name": "stdout",
     "output_type": "stream",
     "text": [
      "nome: São Paulo\n",
      "estado: São Paulo\n",
      "area_km2: 1521\n",
      "populacao_milhoes: 12.18\n"
     ]
    }
   ],
   "source": [
    "#Podemos usar as outras estruturas que ja vimos, como o dicionário:\n",
    "dados_cidade={\n",
    "    'nome':'São Paulo',\n",
    "    'estado':\"São Paulo\",\n",
    "    'area_km2':1521,\n",
    "    'populacao_milhoes':12.18\n",
    "}\n",
    "for chave in dados_cidade:\n",
    "    print(f'{chave}: {dados_cidade[chave]}')"
   ]
  },
  {
   "cell_type": "code",
   "execution_count": 32,
   "id": "3bc5d551",
   "metadata": {},
   "outputs": [
    {
     "name": "stdout",
     "output_type": "stream",
     "text": [
      "['Brasil', 'Argentina', 'China', 'Canadá', 'Japão']\n"
     ]
    }
   ],
   "source": [
    "#For copia, não referencia:\n",
    "nomes_paises=[\"Brasil\",\"Argentina\",\"China\",\"Canadá\",\"Japão\"]\n",
    "for nome in nomes_paises:\n",
    "    nome=\"Inglaterra\"\n",
    "print(nomes_paises)"
   ]
  },
  {
   "cell_type": "markdown",
   "id": "1c511e4f",
   "metadata": {},
   "source": [
    "<h2>Range</h2>\n",
    "<p>Range, cria uma estrutura como uma lista que possui valores inteiros que fica entre dois valores e o elemento seguinte é igual ao elemento atual+ um passo, como a seguir:</p>"
   ]
  },
  {
   "cell_type": "code",
   "execution_count": 39,
   "id": "2774d6d6",
   "metadata": {},
   "outputs": [
    {
     "name": "stdout",
     "output_type": "stream",
     "text": [
      "1\n",
      "3\n",
      "5\n",
      "7\n",
      "9\n"
     ]
    }
   ],
   "source": [
    "inicio=1\n",
    "fim=11\n",
    "passo=2\n",
    "for valor in range(inicio,fim,passo):\n",
    "    print(valor)"
   ]
  },
  {
   "cell_type": "code",
   "execution_count": 40,
   "id": "3817756a",
   "metadata": {},
   "outputs": [
    {
     "name": "stdout",
     "output_type": "stream",
     "text": [
      "0\n",
      "1\n",
      "2\n",
      "3\n",
      "4\n",
      "5\n",
      "6\n",
      "7\n",
      "8\n",
      "9\n"
     ]
    }
   ],
   "source": [
    "#Como podemos ver, range não inclui o valor final, o passo padrão é 1 e o inicio padrão é 0.\n",
    "#Logo podemos encurtar a escrita do range quando precisarmos para:\n",
    "for valor in range(10):\n",
    "    print(valor)"
   ]
  },
  {
   "cell_type": "code",
   "execution_count": 41,
   "id": "84f74a7b",
   "metadata": {},
   "outputs": [
    {
     "name": "stdout",
     "output_type": "stream",
     "text": [
      "Brasil\n",
      "Argentina\n",
      "China\n",
      "Canadá\n",
      "Japão\n"
     ]
    }
   ],
   "source": [
    "#Comumente usado como a seguir:\n",
    "nomes_paises=[\"Brasil\",\"Argentina\",\"China\",\"Canadá\",\"Japão\"]\n",
    "for posicao in range(len(nomes_paises)):\n",
    "    print(nomes_paises[posicao])"
   ]
  },
  {
   "cell_type": "code",
   "execution_count": 42,
   "id": "5baf5192",
   "metadata": {},
   "outputs": [
    {
     "name": "stdout",
     "output_type": "stream",
     "text": [
      "[2, 4, 6, 8, 10, 12]\n"
     ]
    }
   ],
   "source": [
    "#Podemos também gerar listas de inteiros com ela usando o casting de lista:\n",
    "print(list(range(2,13,2)))"
   ]
  },
  {
   "cell_type": "markdown",
   "id": "1f2155b4",
   "metadata": {},
   "source": [
    "<h1>Funções</h1>\n",
    "<p>Funciona como uma receita, utilizamos os ingredientes para entregar um produto final, no caso da função ela recebe paramêtros para retornar o que é pedido dela, len(lis) por exemplo recebe uma estrutura e retorna o tamanho, as funções tem como principal papel encapsular um código, separar um código que usaremos diversas vezes para diminuir o quanto escreveremos</p>"
   ]
  },
  {
   "cell_type": "code",
   "execution_count": 43,
   "id": "16a9ed58",
   "metadata": {},
   "outputs": [],
   "source": [
    "#hello é uma função exemplo que printa Olá Mundo\n",
    "def hello():\n",
    "    print(\"Olá, Mundo!\")\n",
    "#Nada acontece ao criar uma função"
   ]
  },
  {
   "cell_type": "code",
   "execution_count": 44,
   "id": "22b3c5a8",
   "metadata": {},
   "outputs": [
    {
     "name": "stdout",
     "output_type": "stream",
     "text": [
      "Olá, Mundo!\n"
     ]
    }
   ],
   "source": [
    "#hello só funciona ao ser chamada:\n",
    "hello()"
   ]
  },
  {
   "cell_type": "code",
   "execution_count": 47,
   "id": "6ea18894",
   "metadata": {},
   "outputs": [
    {
     "data": {
      "text/plain": [
       "9.0"
      ]
     },
     "execution_count": 47,
     "metadata": {},
     "output_type": "execute_result"
    }
   ],
   "source": [
    "#calcula_media recebe como parametros valor1,valor2, valor3 e retorna a média dos três:\n",
    "def calcula_media(valor1, valor2, valor3):\n",
    "    return (valor1+valor2+valor3)/3\n",
    "calcula_media(9,10,8)"
   ]
  },
  {
   "cell_type": "code",
   "execution_count": null,
   "id": "07510b69",
   "metadata": {},
   "outputs": [],
   "source": [
    "#Podemos salvar o valor retornado em uma variavel também\n",
    "media=calcula_media(9,10,18)"
   ]
  },
  {
   "cell_type": "code",
   "execution_count": 48,
   "id": "1c2f17e4",
   "metadata": {},
   "outputs": [],
   "source": [
    "#Também podemos chamar o nome do parametro mesmo se for em outra ordem:\n",
    "media=calcula_media(valor2=9,valor1=10,valor3=18)"
   ]
  },
  {
   "cell_type": "code",
   "execution_count": 50,
   "id": "66c9022a",
   "metadata": {},
   "outputs": [
    {
     "name": "stdout",
     "output_type": "stream",
     "text": [
      "Olá Pietro\n"
     ]
    }
   ],
   "source": [
    "#Muitas funções tem parametros com valores defaults, como print que até agora sempre terminou com quebra de linha\n",
    "#Podemos também alterar esse valor como exemplo:\n",
    "print(\"Olá \", end=\"\")\n",
    "print(\"Pietro\")"
   ]
  },
  {
   "cell_type": "code",
   "execution_count": 51,
   "id": "e2f3aded",
   "metadata": {},
   "outputs": [
    {
     "data": {
      "text/plain": [
       "1.0"
      ]
     },
     "execution_count": 51,
     "metadata": {},
     "output_type": "execute_result"
    }
   ],
   "source": [
    "#Para definir valores defaults basta usar igual na criação da função:\n",
    "def calcula_media(valor1=1, valor2=1, valor3=1):\n",
    "    return (valor1+valor2+valor3)/3\n",
    "calcula_media()"
   ]
  },
  {
   "cell_type": "code",
   "execution_count": 52,
   "id": "58bcbb3a",
   "metadata": {},
   "outputs": [
    {
     "ename": "SyntaxError",
     "evalue": "non-default argument follows default argument (3250634742.py, line 2)",
     "output_type": "error",
     "traceback": [
      "\u001b[1;36m  Cell \u001b[1;32mIn [52], line 2\u001b[1;36m\u001b[0m\n\u001b[1;33m    def calcula_media(valor1=1, valor2=1, valor3):\u001b[0m\n\u001b[1;37m                                          ^\u001b[0m\n\u001b[1;31mSyntaxError\u001b[0m\u001b[1;31m:\u001b[0m non-default argument follows default argument\n"
     ]
    }
   ],
   "source": [
    "#Cuidado, pois os valores defaults só podem ser adicionados após os valores não defaults:\n",
    "def calcula_media(valor1=1, valor2=1, valor3):\n",
    "    return (valor1+valor2+valor3)/3\n",
    "calcula_media()"
   ]
  },
  {
   "cell_type": "code",
   "execution_count": 53,
   "id": "be038a4c",
   "metadata": {},
   "outputs": [
    {
     "name": "stdout",
     "output_type": "stream",
     "text": [
      "(10, 8, 9) <class 'tuple'>\n"
     ]
    }
   ],
   "source": [
    "#Quando uma função recebe paramêtros, na realidade ela recebe uma tupla:\n",
    "def calcula_media(*args):\n",
    "    print(args, type(args))\n",
    "calcula_media(10,8,9)"
   ]
  },
  {
   "cell_type": "code",
   "execution_count": 54,
   "id": "8ef0b71b",
   "metadata": {},
   "outputs": [
    {
     "data": {
      "text/plain": [
       "8.0"
      ]
     },
     "execution_count": 54,
     "metadata": {},
     "output_type": "execute_result"
    }
   ],
   "source": [
    "#Sabendo disso podemos alterar a função para receber quantos paramêtros precisar\n",
    "def calcula_media(*args):\n",
    "    return sum(args)/len(args)#Função sum soma todos os elementos da estrutura\n",
    "calcula_media(10,8,9,5)"
   ]
  },
  {
   "cell_type": "code",
   "execution_count": 55,
   "id": "338ca3d4",
   "metadata": {},
   "outputs": [
    {
     "name": "stdout",
     "output_type": "stream",
     "text": [
      "6.825\n",
      "9.3\n"
     ]
    }
   ],
   "source": [
    "#Cuidado ao usar args e mais algum parametro:\n",
    "def calcula_media(*args,margem=0):\n",
    "    return sum(args)/len(args)+margem\n",
    "print(calcula_media(10,8,9,0.3))#Não funcionara como queremos\n",
    "print(calcula_media(10,8,9,margem=0.3))#Funcionará como queremos"
   ]
  },
  {
   "cell_type": "markdown",
   "id": "7d2f0463",
   "metadata": {},
   "source": [
    "<p>O método que usamos acima serve como base para uma padronização chamada de keys arguments, muito usado em ciências de dados</p>"
   ]
  },
  {
   "cell_type": "code",
   "execution_count": 56,
   "id": "745ffa64",
   "metadata": {},
   "outputs": [],
   "source": [
    "def print_info(**kwargs):\n",
    "    print(kwargs,type(kwargs))"
   ]
  },
  {
   "cell_type": "code",
   "execution_count": 57,
   "id": "85ad6b45",
   "metadata": {},
   "outputs": [
    {
     "name": "stdout",
     "output_type": "stream",
     "text": [
      "{'nome': 'Guilherme', 'idade': '21'} <class 'dict'>\n"
     ]
    }
   ],
   "source": [
    "#Cuidado, para o keys arguments deve se especificar nome a nome os paramêtros:\n",
    "print_info(nome=\"Guilherme\",idade=\"21\")"
   ]
  },
  {
   "cell_type": "markdown",
   "id": "c4820aeb",
   "metadata": {},
   "source": [
    "<h1>Manipulação de Arquivos</h1>\n",
    "<p>Até agora o que aprendemos foca em inputar variável por variável, na vida real não funciona assim, por isso é necessário a manipulação de arquivos</p>\n",
    "<h3>Leitura</h3>"
   ]
  },
  {
   "cell_type": "code",
   "execution_count": 93,
   "id": "6ed04fd9",
   "metadata": {},
   "outputs": [
    {
     "name": "stdout",
     "output_type": "stream",
     "text": [
      "Dom Casmurro \n",
      "\n",
      "Texto de referenda: \n",
      "Obras Completas de Machado de Assis, vol. I, \n",
      "Nova Aguilar, Rio de Janeiro, 1994. \n",
      "Publicado originalmente pela Editora Gamier, Rio de Janeiro, 1899. \n",
      "\n",
      "\n",
      "CAPITULO PRIMEIRO \n",
      "DO TITULO \n",
      "\n",
      "Uma noite destas, vindo da cidade para o Engenho Novo, encontrei no trem da \n",
      "Central um rapaz aqui do bairro, que eu conhego de vista e de chapeu. \n",
      "Cumprimentou-me, sentou-se ao pe de mim, falou da Lua e dos ministros, e \n",
      "acabou recitando-me versos. A viagem era curta, e os versos pode ser que nao \n",
      "fossem inteiramente maus. Sucedeu, porem, que, como eu estava cansado, fechei \n",
      "os olhos tres ou quatro vezes; tanto bastou para que ele interrompesse a leitura e \n",
      "metesse os versos no bolso. \n",
      "\n",
      "— Continue, disse eu acordando. \n",
      "\n",
      "— Ja acabei, murmurou ele. \n",
      "\n",
      "— Sao muito bonitos. \n",
      "\n",
      "Vi-lhe fazer um gesto para tira-los outra vez do bolso, mas nao passou do gesto; \n",
      "estava amuado. No dia seguinte entrou a dizer de mim nomes feios, e acabou \n",
      "alcunhando-me Dom Casmurro. Os vizinhos, que nao gostam dos meus habitos \n",
      "reclusos e calados, deram curso a alcunha, que afinal pegou. Nem por isso me \n",
      "zanguei. Contei a anedota aos amigos da cidade, e eles, por graga, chamam-me \n",
      "assim, alguns em bilhetes: \"Dom Casmurro, domingo vou jantar com voce”.— \n",
      "\"Vou para Petropolis, Dom Casmurro; a casa e a mesma da Renania; ve se deixas \n",
      "essa caverna do Engenho Novo, e vai la passar uns quinze dias comigo\".— \"Meu \n",
      "caro Dom Casmurro, nao cuide que o dispenso do teatro amanha; venha e dormira \n",
      "aqui na cidade; dou-lhe camarote, dou-lhe cha, dou-lhe cama; so nao Ihe dou \n",
      "moga”. \n",
      "\n",
      "Nao consultes dicionarios. Casmurro nao esta aqui no sentido que eles Ihe dao, \n",
      "mas no que Ihe pos o vulgo de homem calado e metido consigo. Dom veio por \n",
      "ironia, para atribuir-me fumos de fidalgo. Tudo por estar cochilando! Tambem nao \n",
      "achei melhor titulo para a minha narracao; se nao tiver outro daqui ate ao fim do \n",
      "livro, vai este mesmo. O meu poeta do trem ficara sabendo que nao Ihe guardo \n",
      "rancor. E com pequeno esforco, sendo o titulo seu, podera cuidar que a obra e \n",
      "sua. Ha livros que apenas terao isso dos seus autores; alguns nem tanto. \n"
     ]
    }
   ],
   "source": [
    "#\"r\" define que estamos lendo(read) o arquivo, e encoding=\"utf-8\" serve para \n",
    "arquivo=open(\"dom_casmurro_cap_1.txt\",\"r\",encoding=\"utf-8\")\n",
    "print(arquivo.read())#Read lê o arquivo inteiro de uma vez\n",
    "arquivo.close()#Sempre fechar o arquivo para não criar uma falha de segurança"
   ]
  },
  {
   "cell_type": "code",
   "execution_count": 94,
   "id": "d9e2efb9",
   "metadata": {},
   "outputs": [
    {
     "name": "stdout",
     "output_type": "stream",
     "text": [
      "Dom Casmurro \n",
      "\n",
      "Texto de referenda: \n",
      "Obras Completas de Machado de Assis, vol. I, \n",
      "Nova Aguilar, Rio de Janeiro, 1994. \n",
      "Publicado originalmente pela Editora Gamier, Rio de Janeiro, 1899. \n",
      "\n",
      "\n",
      "CAPITULO PRIMEIRO \n",
      "DO TITULO \n",
      "\n",
      "Uma noite destas, vindo da cidade para o Engenho Novo, encontrei no trem da \n",
      "Central um rapaz aqui do bairro, que eu conhego de vista e de chapeu. \n",
      "Cumprimentou-me, sentou-se ao pe de mim, falou da Lua e dos ministros, e \n",
      "acabou recitando-me versos. A viagem era curta, e os versos pode ser que nao \n",
      "fossem inteiramente maus. Sucedeu, porem, que, como eu estava cansado, fechei \n",
      "os olhos tres ou quatro vezes; tanto bastou para que ele interrompesse a leitura e \n",
      "metesse os versos no bolso. \n",
      "\n",
      "— Continue, disse eu acordando. \n",
      "\n",
      "— Ja acabei, murmurou ele. \n",
      "\n",
      "— Sao muito bonitos. \n",
      "\n",
      "Vi-lhe fazer um gesto para tira-los outra vez do bolso, mas nao passou do gesto; \n",
      "estava amuado. No dia seguinte entrou a dizer de mim nomes feios, e acabou \n",
      "alcunhando-me Dom Casmurro. Os vizinhos, que nao gostam dos meus habitos \n",
      "reclusos e calados, deram curso a alcunha, que afinal pegou. Nem por isso me \n",
      "zanguei. Contei a anedota aos amigos da cidade, e eles, por graga, chamam-me \n",
      "assim, alguns em bilhetes: \"Dom Casmurro, domingo vou jantar com voce”.— \n",
      "\"Vou para Petropolis, Dom Casmurro; a casa e a mesma da Renania; ve se deixas \n",
      "essa caverna do Engenho Novo, e vai la passar uns quinze dias comigo\".— \"Meu \n",
      "caro Dom Casmurro, nao cuide que o dispenso do teatro amanha; venha e dormira \n",
      "aqui na cidade; dou-lhe camarote, dou-lhe cha, dou-lhe cama; so nao Ihe dou \n",
      "moga”. \n",
      "\n",
      "Nao consultes dicionarios. Casmurro nao esta aqui no sentido que eles Ihe dao, \n",
      "mas no que Ihe pos o vulgo de homem calado e metido consigo. Dom veio por \n",
      "ironia, para atribuir-me fumos de fidalgo. Tudo por estar cochilando! Tambem nao \n",
      "achei melhor titulo para a minha narracao; se nao tiver outro daqui ate ao fim do \n",
      "livro, vai este mesmo. O meu poeta do trem ficara sabendo que nao Ihe guardo \n",
      "rancor. E com pequeno esforco, sendo o titulo seu, podera cuidar que a obra e \n",
      "sua. Ha livros que apenas terao isso dos seus autores; alguns nem tanto. "
     ]
    }
   ],
   "source": [
    "arquivo=open(\"dom_casmurro_cap_1.txt\",\"r\",encoding=\"utf-8\")\n",
    "linha= arquivo.readline()#lê linha por linha, e move para a próxima linha\n",
    "while linha != '':\n",
    "    print(linha, end='')\n",
    "    linha=arquivo.readline()\n",
    "arquivo.close()#Sempre fechar o arquivo para não criar uma falha de segurança"
   ]
  },
  {
   "cell_type": "code",
   "execution_count": 1,
   "id": "72e8ddbe",
   "metadata": {},
   "outputs": [
    {
     "name": "stdout",
     "output_type": "stream",
     "text": [
      "Dom Casmurro \n",
      "\n",
      "Texto de referenda: \n",
      "Obras Completas de Machado de Assis, vol. I, \n",
      "Nova Aguilar, Rio de Janeiro, 1994. \n",
      "Publicado originalmente pela Editora Gamier, Rio de Janeiro, 1899. \n",
      "\n",
      "\n",
      "CAPITULO PRIMEIRO \n",
      "DO TITULO \n",
      "\n",
      "Uma noite destas, vindo da cidade para o Engenho Novo, encontrei no trem da \n",
      "Central um rapaz aqui do bairro, que eu conhego de vista e de chapeu. \n",
      "Cumprimentou-me, sentou-se ao pe de mim, falou da Lua e dos ministros, e \n",
      "acabou recitando-me versos. A viagem era curta, e os versos pode ser que nao \n",
      "fossem inteiramente maus. Sucedeu, porem, que, como eu estava cansado, fechei \n",
      "os olhos tres ou quatro vezes; tanto bastou para que ele interrompesse a leitura e \n",
      "metesse os versos no bolso. \n",
      "\n",
      "— Continue, disse eu acordando. \n",
      "\n",
      "— Ja acabei, murmurou ele. \n",
      "\n",
      "— Sao muito bonitos. \n",
      "\n",
      "Vi-lhe fazer um gesto para tira-los outra vez do bolso, mas nao passou do gesto; \n",
      "estava amuado. No dia seguinte entrou a dizer de mim nomes feios, e acabou \n",
      "alcunhando-me Dom Casmurro. Os vizinhos, que nao gostam dos meus habitos \n",
      "reclusos e calados, deram curso a alcunha, que afinal pegou. Nem por isso me \n",
      "zanguei. Contei a anedota aos amigos da cidade, e eles, por graga, chamam-me \n",
      "assim, alguns em bilhetes: \"Dom Casmurro, domingo vou jantar com voce”.— \n",
      "\"Vou para Petropolis, Dom Casmurro; a casa e a mesma da Renania; ve se deixas \n",
      "essa caverna do Engenho Novo, e vai la passar uns quinze dias comigo\".— \"Meu \n",
      "caro Dom Casmurro, nao cuide que o dispenso do teatro amanha; venha e dormira \n",
      "aqui na cidade; dou-lhe camarote, dou-lhe cha, dou-lhe cama; so nao Ihe dou \n",
      "moga”. \n",
      "\n",
      "Nao consultes dicionarios. Casmurro nao esta aqui no sentido que eles Ihe dao, \n",
      "mas no que Ihe pos o vulgo de homem calado e metido consigo. Dom veio por \n",
      "ironia, para atribuir-me fumos de fidalgo. Tudo por estar cochilando! Tambem nao \n",
      "achei melhor titulo para a minha narracao; se nao tiver outro daqui ate ao fim do \n",
      "livro, vai este mesmo. O meu poeta do trem ficara sabendo que nao Ihe guardo \n",
      "rancor. E com pequeno esforco, sendo o titulo seu, podera cuidar que a obra e \n",
      "sua. Ha livros que apenas terao isso dos seus autores; alguns nem tanto. "
     ]
    }
   ],
   "source": [
    "arquivo=open(\"dom_casmurro_cap_1.txt\",\"r\",encoding=\"utf-8\")\n",
    "for linha in arquivo:#Usando for dessa vez:\n",
    "    print(linha, end=\"\")\n",
    "arquivo.close()#Sempre fechar o arquivo para não criar uma falha de segurança"
   ]
  },
  {
   "cell_type": "code",
   "execution_count": 2,
   "id": "c356942a",
   "metadata": {},
   "outputs": [
    {
     "name": "stdout",
     "output_type": "stream",
     "text": [
      "Dom Casmurro \n",
      "\n",
      "Texto de referenda: \n",
      "Obras Completas de Machado de Assis, vol. I, \n",
      "Nova Aguilar, Rio de Janeiro, 1994. \n",
      "Publicado originalmente pela Editora Gamier, Rio de Janeiro, 1899. \n",
      "\n",
      "\n",
      "CAPITULO PRIMEIRO \n",
      "DO TITULO \n",
      "\n",
      "Uma noite destas, vindo da cidade para o Engenho Novo, encontrei no trem da \n",
      "Central um rapaz aqui do bairro, que eu conhego de vista e de chapeu. \n",
      "Cumprimentou-me, sentou-se ao pe de mim, falou da Lua e dos ministros, e \n",
      "acabou recitando-me versos. A viagem era curta, e os versos pode ser que nao \n",
      "fossem inteiramente maus. Sucedeu, porem, que, como eu estava cansado, fechei \n",
      "os olhos tres ou quatro vezes; tanto bastou para que ele interrompesse a leitura e \n",
      "metesse os versos no bolso. \n",
      "\n",
      "— Continue, disse eu acordando. \n",
      "\n",
      "— Ja acabei, murmurou ele. \n",
      "\n",
      "— Sao muito bonitos. \n",
      "\n",
      "Vi-lhe fazer um gesto para tira-los outra vez do bolso, mas nao passou do gesto; \n",
      "estava amuado. No dia seguinte entrou a dizer de mim nomes feios, e acabou \n",
      "alcunhando-me Dom Casmurro. Os vizinhos, que nao gostam dos meus habitos \n",
      "reclusos e calados, deram curso a alcunha, que afinal pegou. Nem por isso me \n",
      "zanguei. Contei a anedota aos amigos da cidade, e eles, por graga, chamam-me \n",
      "assim, alguns em bilhetes: \"Dom Casmurro, domingo vou jantar com voce”.— \n",
      "\"Vou para Petropolis, Dom Casmurro; a casa e a mesma da Renania; ve se deixas \n",
      "essa caverna do Engenho Novo, e vai la passar uns quinze dias comigo\".— \"Meu \n",
      "caro Dom Casmurro, nao cuide que o dispenso do teatro amanha; venha e dormira \n",
      "aqui na cidade; dou-lhe camarote, dou-lhe cha, dou-lhe cama; so nao Ihe dou \n",
      "moga”. \n",
      "\n",
      "Nao consultes dicionarios. Casmurro nao esta aqui no sentido que eles Ihe dao, \n",
      "mas no que Ihe pos o vulgo de homem calado e metido consigo. Dom veio por \n",
      "ironia, para atribuir-me fumos de fidalgo. Tudo por estar cochilando! Tambem nao \n",
      "achei melhor titulo para a minha narracao; se nao tiver outro daqui ate ao fim do \n",
      "livro, vai este mesmo. O meu poeta do trem ficara sabendo que nao Ihe guardo \n",
      "rancor. E com pequeno esforco, sendo o titulo seu, podera cuidar que a obra e \n",
      "sua. Ha livros que apenas terao isso dos seus autores; alguns nem tanto. \n"
     ]
    }
   ],
   "source": [
    "#É tão importante o cuidado com o .close() que o python possui até mesmo um bloco de comando para auxiliar nisso:\n",
    "with open(\"dom_casmurro_cap_1.txt\",\"r\",encoding=\"utf-8\") as arquivo:\n",
    "    print(arquivo.read())"
   ]
  },
  {
   "cell_type": "code",
   "execution_count": 3,
   "id": "9d953a49",
   "metadata": {},
   "outputs": [
    {
     "ename": "ValueError",
     "evalue": "I/O operation on closed file.",
     "output_type": "error",
     "traceback": [
      "\u001b[1;31m---------------------------------------------------------------------------\u001b[0m",
      "\u001b[1;31mValueError\u001b[0m                                Traceback (most recent call last)",
      "Cell \u001b[1;32mIn [3], line 1\u001b[0m\n\u001b[1;32m----> 1\u001b[0m \u001b[43marquivo\u001b[49m\u001b[38;5;241;43m.\u001b[39;49m\u001b[43mread\u001b[49m\u001b[43m(\u001b[49m\u001b[43m)\u001b[49m\n",
      "\u001b[1;31mValueError\u001b[0m: I/O operation on closed file."
     ]
    }
   ],
   "source": [
    "arquivo.read()"
   ]
  },
  {
   "cell_type": "markdown",
   "id": "202c4c8b",
   "metadata": {},
   "source": [
    "<h3>Escrita</h3>"
   ]
  },
  {
   "cell_type": "code",
   "execution_count": 10,
   "id": "63abb2ee",
   "metadata": {},
   "outputs": [
    {
     "name": "stdout",
     "output_type": "stream",
     "text": [
      "Linha de teste para escrita via python\n",
      "2ºLinha via Python\n"
     ]
    }
   ],
   "source": [
    "#\"w\" altera o modo para escrita(write) e apaga tudo o que tinha antes, e .write() adiciona linhas no documento\n",
    "with open(\"arquvio_teste.txt\",\"w\",encoding=\"utf-8\") as arquivo:\n",
    "    arquivo.write(\"Linha de teste para escrita via python\\n\")\n",
    "    arquivo.write(\"2ºLinha via Python\\n\")\n",
    "with open(\"arquvio_teste.txt\",\"r\",encoding=\"utf-8\") as arquivo:\n",
    "    print(arquivo.read(), end=\"\")"
   ]
  },
  {
   "cell_type": "code",
   "execution_count": 6,
   "id": "885cc2d0",
   "metadata": {},
   "outputs": [
    {
     "name": "stdout",
     "output_type": "stream",
     "text": [
      "Testando linha 3\n"
     ]
    }
   ],
   "source": [
    "with open(\"arquvio_teste.txt\",\"w\",encoding=\"utf-8\") as arquivo:\n",
    "    arquivo.write(\"Testando linha 3\\n\")\n",
    "with open(\"arquvio_teste.txt\",\"r\",encoding=\"utf-8\") as arquivo:\n",
    "    print(arquivo.read(), end=\"\")"
   ]
  },
  {
   "cell_type": "code",
   "execution_count": 11,
   "id": "538163b0",
   "metadata": {},
   "outputs": [
    {
     "name": "stdout",
     "output_type": "stream",
     "text": [
      "Linha de teste para escrita via python\n",
      "2ºLinha via Python\n",
      "Testando linha 3\n"
     ]
    }
   ],
   "source": [
    "#\"a\" altera o modo para escrita e não apaga o que ja tem.\n",
    "with open(\"arquvio_teste.txt\",\"a\",encoding=\"utf-8\") as arquivo:\n",
    "    arquivo.write(\"Testando linha 3\\n\")\n",
    "with open(\"arquvio_teste.txt\",\"r\",encoding=\"utf-8\") as arquivo:\n",
    "    print(arquivo.read(), end=\"\")"
   ]
  },
  {
   "cell_type": "markdown",
   "id": "be512f20",
   "metadata": {},
   "source": [
    "<h2>Manipulação de Arquivos - CSV</h2>\n",
    "<p>Para a manipulação do csv iremos usar uma biblioteca do Python, uma biblioteca é um conjunto de funções e outros códigos que auxiliam na programação e não são nativas do Python, já que servem para situações específicas</p>"
   ]
  },
  {
   "cell_type": "code",
   "execution_count": 3,
   "id": "fc242a74",
   "metadata": {},
   "outputs": [],
   "source": [
    "#Para importar basta usar o código abaixo e alterar csv pela bilbioteca em questão\n",
    "import csv\n",
    "#Depois de importado em qualquer lugar do código que tu quiser chamar a bilbiotecaa funcionára"
   ]
  },
  {
   "cell_type": "code",
   "execution_count": 14,
   "id": "7703a5c8",
   "metadata": {},
   "outputs": [
    {
     "name": "stdout",
     "output_type": "stream",
     "text": [
      "['data', 'pais', 'novos_casos', 'novos_obitos', 'total_casos', 'total_obitos']\n",
      "['2019-12-31', 'Brasil', '0', '0', '0', '0']\n",
      "['2020-01-01', 'Brasil', '0', '0', '0', '0']\n",
      "['2020-01-02', 'Brasil', '0', '0', '0', '0']\n",
      "['2020-01-03', 'Brasil', '0', '0', '0', '0']\n",
      "['2020-01-04', 'Brasil', '0', '0', '0', '0']\n",
      "['2020-01-05', 'Brasil', '0', '0', '0', '0']\n",
      "['2020-01-06', 'Brasil', '0', '0', '0', '0']\n",
      "['2020-01-07', 'Brasil', '0', '0', '0', '0']\n",
      "['2020-01-08', 'Brasil', '0', '0', '0', '0']\n",
      "['2020-01-09', 'Brasil', '0', '0', '0', '0']\n",
      "['2020-01-10', 'Brasil', '0', '0', '0', '0']\n",
      "['2020-01-11', 'Brasil', '0', '0', '0', '0']\n",
      "['2020-01-12', 'Brasil', '0', '0', '0', '0']\n",
      "['2020-01-13', 'Brasil', '0', '0', '0', '0']\n",
      "['2020-01-14', 'Brasil', '0', '0', '0', '0']\n",
      "['2020-01-15', 'Brasil', '0', '0', '0', '0']\n",
      "['2020-01-16', 'Brasil', '0', '0', '0', '0']\n",
      "['2020-01-17', 'Brasil', '0', '0', '0', '0']\n",
      "['2020-01-18', 'Brasil', '0', '0', '0', '0']\n",
      "['2020-01-19', 'Brasil', '0', '0', '0', '0']\n",
      "['2020-01-20', 'Brasil', '0', '0', '0', '0']\n",
      "['2020-01-21', 'Brasil', '0', '0', '0', '0']\n",
      "['2020-01-22', 'Brasil', '0', '0', '0', '0']\n",
      "['2020-01-23', 'Brasil', '0', '0', '0', '0']\n",
      "['2020-01-24', 'Brasil', '0', '0', '0', '0']\n",
      "['2020-01-25', 'Brasil', '0', '0', '0', '0']\n",
      "['2020-01-26', 'Brasil', '0', '0', '0', '0']\n",
      "['2020-01-27', 'Brasil', '0', '0', '0', '0']\n",
      "['2020-01-28', 'Brasil', '0', '0', '0', '0']\n",
      "['2020-01-29', 'Brasil', '0', '0', '0', '0']\n",
      "['2020-01-30', 'Brasil', '0', '0', '0', '0']\n",
      "['2020-01-31', 'Brasil', '0', '0', '0', '0']\n",
      "['2020-02-01', 'Brasil', '0', '0', '0', '0']\n",
      "['2020-02-02', 'Brasil', '0', '0', '0', '0']\n",
      "['2020-02-03', 'Brasil', '0', '0', '0', '0']\n",
      "['2020-02-04', 'Brasil', '0', '0', '0', '0']\n",
      "['2020-02-05', 'Brasil', '0', '0', '0', '0']\n",
      "['2020-02-06', 'Brasil', '0', '0', '0', '0']\n",
      "['2020-02-07', 'Brasil', '0', '0', '0', '0']\n",
      "['2020-02-08', 'Brasil', '0', '0', '0', '0']\n",
      "['2020-02-09', 'Brasil', '0', '0', '0', '0']\n",
      "['2020-02-10', 'Brasil', '0', '0', '0', '0']\n",
      "['2020-02-11', 'Brasil', '0', '0', '0', '0']\n",
      "['2020-02-12', 'Brasil', '0', '0', '0', '0']\n",
      "['2020-02-13', 'Brasil', '0', '0', '0', '0']\n",
      "['2020-02-14', 'Brasil', '0', '0', '0', '0']\n",
      "['2020-02-15', 'Brasil', '0', '0', '0', '0']\n",
      "['2020-02-16', 'Brasil', '0', '0', '0', '0']\n",
      "['2020-02-17', 'Brasil', '0', '0', '0', '0']\n",
      "['2020-02-18', 'Brasil', '0', '0', '0', '0']\n",
      "['2020-02-19', 'Brasil', '0', '0', '0', '0']\n",
      "['2020-02-20', 'Brasil', '0', '0', '0', '0']\n",
      "['2020-02-21', 'Brasil', '0', '0', '0', '0']\n",
      "['2020-02-22', 'Brasil', '0', '0', '0', '0']\n",
      "['2020-02-23', 'Brasil', '0', '0', '0', '0']\n",
      "['2020-02-24', 'Brasil', '0', '0', '0', '0']\n",
      "['2020-02-25', 'Brasil', '0', '0', '0', '0']\n",
      "['2020-02-26', 'Brasil', '1', '0', '1', '0']\n",
      "['2020-02-27', 'Brasil', '0', '0', '1', '0']\n",
      "['2020-02-28', 'Brasil', '0', '0', '1', '0']\n",
      "['2020-02-29', 'Brasil', '0', '0', '1', '0']\n",
      "['2020-03-01', 'Brasil', '1', '0', '2', '0']\n",
      "['2020-03-02', 'Brasil', '0', '0', '2', '0']\n",
      "['2020-03-03', 'Brasil', '0', '0', '2', '0']\n",
      "['2020-03-04', 'Brasil', '0', '0', '2', '0']\n",
      "['2020-03-05', 'Brasil', '1', '0', '3', '0']\n",
      "['2020-03-06', 'Brasil', '5', '0', '8', '0']\n",
      "['2020-03-07', 'Brasil', '5', '0', '13', '0']\n",
      "['2020-03-08', 'Brasil', '0', '0', '13', '0']\n",
      "['2020-03-09', 'Brasil', '12', '0', '25', '0']\n",
      "['2020-03-10', 'Brasil', '0', '0', '25', '0']\n",
      "['2020-03-11', 'Brasil', '9', '0', '34', '0']\n",
      "['2020-03-12', 'Brasil', '18', '0', '52', '0']\n",
      "['2020-03-13', 'Brasil', '25', '0', '77', '0']\n",
      "['2020-03-14', 'Brasil', '21', '0', '98', '0']\n",
      "['2020-03-15', 'Brasil', '23', '0', '121', '0']\n",
      "['2020-03-16', 'Brasil', '79', '0', '200', '0']\n",
      "['2020-03-17', 'Brasil', '34', '0', '234', '0']\n",
      "['2020-03-18', 'Brasil', '57', '1', '291', '1']\n",
      "['2020-03-19', 'Brasil', '137', '3', '428', '4']\n",
      "['2020-03-20', 'Brasil', '193', '2', '621', '6']\n",
      "['2020-03-21', 'Brasil', '283', '5', '904', '11']\n",
      "['2020-03-22', 'Brasil', '224', '7', '1128', '18']\n",
      "['2020-03-23', 'Brasil', '418', '7', '1546', '25']\n",
      "['2020-03-24', 'Brasil', '345', '9', '1891', '34']\n",
      "['2020-03-25', 'Brasil', '310', '12', '2201', '46']\n",
      "['2020-03-26', 'Brasil', '232', '11', '2433', '57']\n",
      "['2020-03-27', 'Brasil', '482', '20', '2915', '77']\n",
      "['2020-03-28', 'Brasil', '502', '15', '3417', '92']\n",
      "['2020-03-29', 'Brasil', '487', '22', '3904', '114']\n",
      "['2020-03-30', 'Brasil', '352', '22', '4256', '136']\n",
      "['2020-03-31', 'Brasil', '323', '23', '4579', '159']\n",
      "['2020-04-01', 'Brasil', '1138', '42', '5717', '201']\n",
      "['2020-04-02', 'Brasil', '1119', '40', '6836', '241']\n",
      "['2020-04-03', 'Brasil', '1074', '58', '7910', '299']\n",
      "['2020-04-04', 'Brasil', '1146', '60', '9056', '359']\n",
      "['2020-04-05', 'Brasil', '1222', '73', '10278', '432']\n",
      "['2020-04-06', 'Brasil', '852', '54', '11130', '486']\n",
      "['2020-04-07', 'Brasil', '926', '67', '12056', '553']\n",
      "['2020-04-08', 'Brasil', '1661', '114', '13717', '667']\n",
      "['2020-04-09', 'Brasil', '2210', '133', '15927', '800']\n",
      "['2020-04-10', 'Brasil', '1930', '141', '17857', '941']\n",
      "['2020-04-11', 'Brasil', '1781', '115', '19638', '1056']\n",
      "['2020-04-12', 'Brasil', '1089', '68', '20727', '1124']\n",
      "['2020-04-13', 'Brasil', '1442', '99', '22169', '1223']\n",
      "['2020-04-14', 'Brasil', '1261', '105', '23430', '1328']\n",
      "['2020-04-15', 'Brasil', '1832', '204', '25262', '1532']\n",
      "['2020-04-16', 'Brasil', '3058', '204', '28320', '1736']\n",
      "['2020-04-17', 'Brasil', '2105', '188', '30425', '1924']\n",
      "['2020-04-18', 'Brasil', '3257', '217', '33682', '2141']\n",
      "['2020-04-19', 'Brasil', '2917', '206', '36599', '2347']\n",
      "['2020-04-20', 'Brasil', '2055', '115', '38654', '2462']\n",
      "['2020-04-21', 'Brasil', '1927', '113', '40581', '2575']\n",
      "['2020-04-22', 'Brasil', '2498', '166', '43079', '2741']\n",
      "['2020-04-23', 'Brasil', '2678', '165', '45757', '2906']\n",
      "['2020-04-24', 'Brasil', '3735', '407', '49492', '3313']\n",
      "['2020-04-25', 'Brasil', '3503', '357', '52995', '3670']\n",
      "['2020-04-26', 'Brasil', '5514', '346', '58509', '4016']\n",
      "['2020-04-27', 'Brasil', '3379', '189', '61888', '4205']\n",
      "['2020-04-28', 'Brasil', '4613', '338', '66501', '4543']\n",
      "['2020-04-29', 'Brasil', '5385', '474', '71886', '5017']\n",
      "['2020-04-30', 'Brasil', '6276', '449', '78162', '5466']\n",
      "['2020-05-01', 'Brasil', '7218', '435', '85380', '5901']\n",
      "['2020-05-02', 'Brasil', '6209', '428', '91589', '6329']\n",
      "['2020-05-03', 'Brasil', '4970', '421', '96559', '6750']\n",
      "['2020-05-04', 'Brasil', '4588', '275', '101147', '7025']\n",
      "['2020-05-05', 'Brasil', '6633', '296', '107780', '7321']\n",
      "['2020-05-06', 'Brasil', '6935', '600', '114715', '7921']\n",
      "['2020-05-07', 'Brasil', '10503', '615', '125218', '8536']\n",
      "['2020-05-08', 'Brasil', '9888', '610', '135106', '9146']\n",
      "['2020-05-09', 'Brasil', '10222', '751', '145328', '9897']\n",
      "['2020-05-10', 'Brasil', '10611', '730', '155939', '10627']\n",
      "['2020-05-11', 'Brasil', '6760', '496', '162699', '11123']\n",
      "['2020-05-12', 'Brasil', '5632', '396', '168331', '11519']\n",
      "['2020-05-13', 'Brasil', '9258', '881', '177589', '12400']\n",
      "['2020-05-14', 'Brasil', '11385', '749', '188974', '13149']\n",
      "['2020-05-15', 'Brasil', '13944', '844', '202918', '13993']\n",
      "['2020-05-16', 'Brasil', '15305', '824', '218223', '14817']\n",
      "['2020-05-17', 'Brasil', '14919', '816', '233142', '15633']\n",
      "['2020-05-18', 'Brasil', '7938', '485', '241080', '16118']\n",
      "['2020-05-19', 'Brasil', '13140', '674', '254220', '16792']\n",
      "['2020-05-20', 'Brasil', '17408', '1179', '271628', '17971']\n",
      "['2020-05-21', 'Brasil', '19951', '888', '291579', '18859']\n",
      "['2020-05-22', 'Brasil', '18508', '1188', '310087', '20047']\n",
      "['2020-05-23', 'Brasil', '20803', '1001', '330890', '21048']\n",
      "['2020-05-24', 'Brasil', '16508', '965', '347398', '22013']\n",
      "['2020-05-25', 'Brasil', '15813', '653', '363211', '22666']\n",
      "['2020-05-26', 'Brasil', '11687', '807', '374898', '23473']\n",
      "['2020-05-27', 'Brasil', '16324', '1039', '391222', '24512']\n",
      "['2020-05-28', 'Brasil', '20599', '1086', '411821', '25598']\n",
      "['2020-05-29', 'Brasil', '26417', '1156', '438238', '26754']\n",
      "['2020-05-30', 'Brasil', '26928', '1124', '465166', '27878']\n",
      "['2020-05-31', 'Brasil', '33274', '956', '498440', '28834']\n",
      "['2020-06-01', 'Brasil', '16409', '480', '514849', '29314']\n",
      "['2020-06-02', 'Brasil', '11598', '623', '526447', '29937']\n",
      "['2020-06-03', 'Brasil', '28936', '1262', '555383', '31199']\n",
      "['2020-06-04', 'Brasil', '28633', '1349', '584016', '32548']\n",
      "['2020-06-05', 'Brasil', '30916', '1473', '614932', '34021']\n",
      "['2020-06-06', 'Brasil', '30830', '1005', '645762', '35026']\n",
      "['2020-06-07', 'Brasil', '27075', '904', '672837', '35930']\n",
      "['2020-06-08', 'Brasil', '18921', '525', '691758', '36455']\n",
      "['2020-06-09', 'Brasil', '15654', '679', '707412', '37134']\n",
      "['2020-06-10', 'Brasil', '32091', '1272', '739503', '38406']\n",
      "['2020-06-11', 'Brasil', '32913', '1274', '772416', '39680']\n",
      "['2020-06-12', 'Brasil', '30412', '1239', '802828', '40919']\n",
      "['2020-06-13', 'Brasil', '25982', '909', '828810', '41828']\n",
      "['2020-06-14', 'Brasil', '21704', '892', '850514', '42720']\n",
      "['2020-06-15', 'Brasil', '17110', '612', '867624', '43332']\n",
      "['2020-06-16', 'Brasil', '20647', '627', '888271', '43959']\n"
     ]
    }
   ],
   "source": [
    "with open(\"brasil_covid.csv\",\"r\",encoding=\"UTF-8\") as arquivo:\n",
    "    leitor=csv.reader(arquivo)#Leitor do arquivo recebido da função reader da biblioteca csv\n",
    "    for linha in leitor:\n",
    "        print(linha)"
   ]
  },
  {
   "cell_type": "code",
   "execution_count": 18,
   "id": "ab917e74",
   "metadata": {},
   "outputs": [
    {
     "name": "stdout",
     "output_type": "stream",
     "text": [
      "['2020-03-06', 'Brasil', '5', '0', '8', '0']\n",
      "['2020-03-07', 'Brasil', '5', '0', '13', '0']\n",
      "['2020-03-09', 'Brasil', '12', '0', '25', '0']\n",
      "['2020-03-11', 'Brasil', '9', '0', '34', '0']\n",
      "['2020-03-12', 'Brasil', '18', '0', '52', '0']\n",
      "['2020-03-13', 'Brasil', '25', '0', '77', '0']\n",
      "['2020-03-14', 'Brasil', '21', '0', '98', '0']\n",
      "['2020-03-15', 'Brasil', '23', '0', '121', '0']\n",
      "['2020-03-16', 'Brasil', '79', '0', '200', '0']\n",
      "['2020-03-17', 'Brasil', '34', '0', '234', '0']\n",
      "['2020-03-18', 'Brasil', '57', '1', '291', '1']\n",
      "['2020-03-19', 'Brasil', '137', '3', '428', '4']\n",
      "['2020-03-20', 'Brasil', '193', '2', '621', '6']\n",
      "['2020-03-21', 'Brasil', '283', '5', '904', '11']\n",
      "['2020-03-22', 'Brasil', '224', '7', '1128', '18']\n",
      "['2020-03-23', 'Brasil', '418', '7', '1546', '25']\n",
      "['2020-03-24', 'Brasil', '345', '9', '1891', '34']\n",
      "['2020-03-25', 'Brasil', '310', '12', '2201', '46']\n",
      "['2020-03-26', 'Brasil', '232', '11', '2433', '57']\n",
      "['2020-03-27', 'Brasil', '482', '20', '2915', '77']\n",
      "['2020-03-28', 'Brasil', '502', '15', '3417', '92']\n",
      "['2020-03-29', 'Brasil', '487', '22', '3904', '114']\n",
      "['2020-03-30', 'Brasil', '352', '22', '4256', '136']\n",
      "['2020-03-31', 'Brasil', '323', '23', '4579', '159']\n",
      "['2020-04-01', 'Brasil', '1138', '42', '5717', '201']\n",
      "['2020-04-02', 'Brasil', '1119', '40', '6836', '241']\n",
      "['2020-04-03', 'Brasil', '1074', '58', '7910', '299']\n",
      "['2020-04-04', 'Brasil', '1146', '60', '9056', '359']\n",
      "['2020-04-05', 'Brasil', '1222', '73', '10278', '432']\n",
      "['2020-04-06', 'Brasil', '852', '54', '11130', '486']\n",
      "['2020-04-07', 'Brasil', '926', '67', '12056', '553']\n",
      "['2020-04-08', 'Brasil', '1661', '114', '13717', '667']\n",
      "['2020-04-09', 'Brasil', '2210', '133', '15927', '800']\n",
      "['2020-04-10', 'Brasil', '1930', '141', '17857', '941']\n",
      "['2020-04-11', 'Brasil', '1781', '115', '19638', '1056']\n",
      "['2020-04-12', 'Brasil', '1089', '68', '20727', '1124']\n",
      "['2020-04-13', 'Brasil', '1442', '99', '22169', '1223']\n",
      "['2020-04-14', 'Brasil', '1261', '105', '23430', '1328']\n",
      "['2020-04-15', 'Brasil', '1832', '204', '25262', '1532']\n",
      "['2020-04-16', 'Brasil', '3058', '204', '28320', '1736']\n",
      "['2020-04-17', 'Brasil', '2105', '188', '30425', '1924']\n",
      "['2020-04-18', 'Brasil', '3257', '217', '33682', '2141']\n",
      "['2020-04-19', 'Brasil', '2917', '206', '36599', '2347']\n",
      "['2020-04-20', 'Brasil', '2055', '115', '38654', '2462']\n",
      "['2020-04-21', 'Brasil', '1927', '113', '40581', '2575']\n",
      "['2020-04-22', 'Brasil', '2498', '166', '43079', '2741']\n",
      "['2020-04-23', 'Brasil', '2678', '165', '45757', '2906']\n",
      "['2020-04-24', 'Brasil', '3735', '407', '49492', '3313']\n",
      "['2020-04-25', 'Brasil', '3503', '357', '52995', '3670']\n",
      "['2020-04-26', 'Brasil', '5514', '346', '58509', '4016']\n",
      "['2020-04-27', 'Brasil', '3379', '189', '61888', '4205']\n",
      "['2020-04-28', 'Brasil', '4613', '338', '66501', '4543']\n",
      "['2020-04-29', 'Brasil', '5385', '474', '71886', '5017']\n",
      "['2020-04-30', 'Brasil', '6276', '449', '78162', '5466']\n",
      "['2020-05-01', 'Brasil', '7218', '435', '85380', '5901']\n",
      "['2020-05-02', 'Brasil', '6209', '428', '91589', '6329']\n",
      "['2020-05-03', 'Brasil', '4970', '421', '96559', '6750']\n",
      "['2020-05-04', 'Brasil', '4588', '275', '101147', '7025']\n",
      "['2020-05-05', 'Brasil', '6633', '296', '107780', '7321']\n",
      "['2020-05-06', 'Brasil', '6935', '600', '114715', '7921']\n",
      "['2020-05-07', 'Brasil', '10503', '615', '125218', '8536']\n",
      "['2020-05-08', 'Brasil', '9888', '610', '135106', '9146']\n",
      "['2020-05-09', 'Brasil', '10222', '751', '145328', '9897']\n",
      "['2020-05-10', 'Brasil', '10611', '730', '155939', '10627']\n",
      "['2020-05-11', 'Brasil', '6760', '496', '162699', '11123']\n",
      "['2020-05-12', 'Brasil', '5632', '396', '168331', '11519']\n",
      "['2020-05-13', 'Brasil', '9258', '881', '177589', '12400']\n",
      "['2020-05-14', 'Brasil', '11385', '749', '188974', '13149']\n",
      "['2020-05-15', 'Brasil', '13944', '844', '202918', '13993']\n",
      "['2020-05-16', 'Brasil', '15305', '824', '218223', '14817']\n",
      "['2020-05-17', 'Brasil', '14919', '816', '233142', '15633']\n",
      "['2020-05-18', 'Brasil', '7938', '485', '241080', '16118']\n",
      "['2020-05-19', 'Brasil', '13140', '674', '254220', '16792']\n",
      "['2020-05-20', 'Brasil', '17408', '1179', '271628', '17971']\n",
      "['2020-05-21', 'Brasil', '19951', '888', '291579', '18859']\n",
      "['2020-05-22', 'Brasil', '18508', '1188', '310087', '20047']\n",
      "['2020-05-23', 'Brasil', '20803', '1001', '330890', '21048']\n",
      "['2020-05-24', 'Brasil', '16508', '965', '347398', '22013']\n",
      "['2020-05-25', 'Brasil', '15813', '653', '363211', '22666']\n",
      "['2020-05-26', 'Brasil', '11687', '807', '374898', '23473']\n",
      "['2020-05-27', 'Brasil', '16324', '1039', '391222', '24512']\n",
      "['2020-05-28', 'Brasil', '20599', '1086', '411821', '25598']\n",
      "['2020-05-29', 'Brasil', '26417', '1156', '438238', '26754']\n",
      "['2020-05-30', 'Brasil', '26928', '1124', '465166', '27878']\n",
      "['2020-05-31', 'Brasil', '33274', '956', '498440', '28834']\n",
      "['2020-06-01', 'Brasil', '16409', '480', '514849', '29314']\n",
      "['2020-06-02', 'Brasil', '11598', '623', '526447', '29937']\n",
      "['2020-06-03', 'Brasil', '28936', '1262', '555383', '31199']\n",
      "['2020-06-04', 'Brasil', '28633', '1349', '584016', '32548']\n",
      "['2020-06-05', 'Brasil', '30916', '1473', '614932', '34021']\n",
      "['2020-06-06', 'Brasil', '30830', '1005', '645762', '35026']\n",
      "['2020-06-07', 'Brasil', '27075', '904', '672837', '35930']\n",
      "['2020-06-08', 'Brasil', '18921', '525', '691758', '36455']\n",
      "['2020-06-09', 'Brasil', '15654', '679', '707412', '37134']\n",
      "['2020-06-10', 'Brasil', '32091', '1272', '739503', '38406']\n",
      "['2020-06-11', 'Brasil', '32913', '1274', '772416', '39680']\n",
      "['2020-06-12', 'Brasil', '30412', '1239', '802828', '40919']\n",
      "['2020-06-13', 'Brasil', '25982', '909', '828810', '41828']\n",
      "['2020-06-14', 'Brasil', '21704', '892', '850514', '42720']\n",
      "['2020-06-15', 'Brasil', '17110', '612', '867624', '43332']\n",
      "['2020-06-16', 'Brasil', '20647', '627', '888271', '43959']\n"
     ]
    }
   ],
   "source": [
    "#Como o csv é como uma grande planilha podemos criar condições assim para apenas mostrar o que queremos:\n",
    "with open(\"brasil_covid.csv\",\"r\",encoding=\"UTF-8\") as arquivo:\n",
    "    leitor=csv.reader(arquivo)\n",
    "    header=next(leitor)\n",
    "    for linha in leitor:\n",
    "        if(int(linha[2])>1):\n",
    "            print(linha)"
   ]
  },
  {
   "cell_type": "code",
   "execution_count": 19,
   "id": "093c8e6a",
   "metadata": {},
   "outputs": [
    {
     "name": "stdout",
     "output_type": "stream",
     "text": [
      "['data', 'pais', 'novos_casos', 'novos_obitos', 'total_casos', 'total_obitos']\n",
      "['2019-12-31', 'Brasil', '0', '0', '0', '0']\n",
      "['2020-01-01', 'Brasil', '0', '0', '0', '0']\n",
      "['2020-01-02', 'Brasil', '0', '0', '0', '0']\n",
      "['2020-01-03', 'Brasil', '0', '0', '0', '0']\n",
      "['2020-01-04', 'Brasil', '0', '0', '0', '0']\n",
      "['2020-01-05', 'Brasil', '0', '0', '0', '0']\n",
      "['2020-01-06', 'Brasil', '0', '0', '0', '0']\n",
      "['2020-01-07', 'Brasil', '0', '0', '0', '0']\n",
      "['2020-01-08', 'Brasil', '0', '0', '0', '0']\n",
      "['2020-01-09', 'Brasil', '0', '0', '0', '0']\n",
      "['2020-01-10', 'Brasil', '0', '0', '0', '0']\n",
      "['2020-01-11', 'Brasil', '0', '0', '0', '0']\n",
      "['2020-01-12', 'Brasil', '0', '0', '0', '0']\n",
      "['2020-01-13', 'Brasil', '0', '0', '0', '0']\n",
      "['2020-01-14', 'Brasil', '0', '0', '0', '0']\n",
      "['2020-01-15', 'Brasil', '0', '0', '0', '0']\n",
      "['2020-01-16', 'Brasil', '0', '0', '0', '0']\n",
      "['2020-01-17', 'Brasil', '0', '0', '0', '0']\n",
      "['2020-01-18', 'Brasil', '0', '0', '0', '0']\n",
      "['2020-01-19', 'Brasil', '0', '0', '0', '0']\n",
      "['2020-01-20', 'Brasil', '0', '0', '0', '0']\n",
      "['2020-01-21', 'Brasil', '0', '0', '0', '0']\n",
      "['2020-01-22', 'Brasil', '0', '0', '0', '0']\n",
      "['2020-01-23', 'Brasil', '0', '0', '0', '0']\n",
      "['2020-01-24', 'Brasil', '0', '0', '0', '0']\n",
      "['2020-01-25', 'Brasil', '0', '0', '0', '0']\n",
      "['2020-01-26', 'Brasil', '0', '0', '0', '0']\n",
      "['2020-01-27', 'Brasil', '0', '0', '0', '0']\n",
      "['2020-01-28', 'Brasil', '0', '0', '0', '0']\n",
      "['2020-01-29', 'Brasil', '0', '0', '0', '0']\n",
      "['2020-01-30', 'Brasil', '0', '0', '0', '0']\n",
      "['2020-01-31', 'Brasil', '0', '0', '0', '0']\n",
      "['2020-02-01', 'Brasil', '0', '0', '0', '0']\n",
      "['2020-02-02', 'Brasil', '0', '0', '0', '0']\n",
      "['2020-02-03', 'Brasil', '0', '0', '0', '0']\n",
      "['2020-02-04', 'Brasil', '0', '0', '0', '0']\n",
      "['2020-02-05', 'Brasil', '0', '0', '0', '0']\n",
      "['2020-02-06', 'Brasil', '0', '0', '0', '0']\n",
      "['2020-02-07', 'Brasil', '0', '0', '0', '0']\n",
      "['2020-02-08', 'Brasil', '0', '0', '0', '0']\n",
      "['2020-02-09', 'Brasil', '0', '0', '0', '0']\n",
      "['2020-02-10', 'Brasil', '0', '0', '0', '0']\n",
      "['2020-02-11', 'Brasil', '0', '0', '0', '0']\n",
      "['2020-02-12', 'Brasil', '0', '0', '0', '0']\n",
      "['2020-02-13', 'Brasil', '0', '0', '0', '0']\n",
      "['2020-02-14', 'Brasil', '0', '0', '0', '0']\n",
      "['2020-02-15', 'Brasil', '0', '0', '0', '0']\n",
      "['2020-02-16', 'Brasil', '0', '0', '0', '0']\n",
      "['2020-02-17', 'Brasil', '0', '0', '0', '0']\n",
      "['2020-02-18', 'Brasil', '0', '0', '0', '0']\n",
      "['2020-02-19', 'Brasil', '0', '0', '0', '0']\n",
      "['2020-02-20', 'Brasil', '0', '0', '0', '0']\n",
      "['2020-02-21', 'Brasil', '0', '0', '0', '0']\n",
      "['2020-02-22', 'Brasil', '0', '0', '0', '0']\n",
      "['2020-02-23', 'Brasil', '0', '0', '0', '0']\n",
      "['2020-02-24', 'Brasil', '0', '0', '0', '0']\n",
      "['2020-02-25', 'Brasil', '0', '0', '0', '0']\n",
      "['2020-02-26', 'Brasil', '1', '0', '1', '0']\n",
      "['2020-02-27', 'Brasil', '0', '0', '1', '0']\n",
      "['2020-02-28', 'Brasil', '0', '0', '1', '0']\n",
      "['2020-02-29', 'Brasil', '0', '0', '1', '0']\n",
      "['2020-03-01', 'Brasil', '1', '0', '2', '0']\n",
      "['2020-03-02', 'Brasil', '0', '0', '2', '0']\n",
      "['2020-03-03', 'Brasil', '0', '0', '2', '0']\n",
      "['2020-03-04', 'Brasil', '0', '0', '2', '0']\n",
      "['2020-03-05', 'Brasil', '1', '0', '3', '0']\n",
      "['2020-03-06', 'Brasil', '5', '0', '8', '0']\n",
      "['2020-03-07', 'Brasil', '5', '0', '13', '0']\n",
      "['2020-03-08', 'Brasil', '0', '0', '13', '0']\n",
      "['2020-03-09', 'Brasil', '12', '0', '25', '0']\n",
      "['2020-03-10', 'Brasil', '0', '0', '25', '0']\n",
      "['2020-03-11', 'Brasil', '9', '0', '34', '0']\n",
      "['2020-03-12', 'Brasil', '18', '0', '52', '0']\n",
      "['2020-03-13', 'Brasil', '25', '0', '77', '0']\n",
      "['2020-03-14', 'Brasil', '21', '0', '98', '0']\n",
      "['2020-03-15', 'Brasil', '23', '0', '121', '0']\n",
      "['2020-03-16', 'Brasil', '79', '0', '200', '0']\n",
      "['2020-03-17', 'Brasil', '34', '0', '234', '0']\n",
      "['2020-03-18', 'Brasil', '57', '1', '291', '1']\n",
      "['2020-03-19', 'Brasil', '137', '3', '428', '4']\n",
      "['2020-03-20', 'Brasil', '193', '2', '621', '6']\n",
      "['2020-03-21', 'Brasil', '283', '5', '904', '11']\n",
      "['2020-03-22', 'Brasil', '224', '7', '1128', '18']\n",
      "['2020-03-23', 'Brasil', '418', '7', '1546', '25']\n",
      "['2020-03-24', 'Brasil', '345', '9', '1891', '34']\n",
      "['2020-03-25', 'Brasil', '310', '12', '2201', '46']\n",
      "['2020-03-26', 'Brasil', '232', '11', '2433', '57']\n",
      "['2020-03-27', 'Brasil', '482', '20', '2915', '77']\n",
      "['2020-03-28', 'Brasil', '502', '15', '3417', '92']\n",
      "['2020-03-29', 'Brasil', '487', '22', '3904', '114']\n",
      "['2020-03-30', 'Brasil', '352', '22', '4256', '136']\n",
      "['2020-03-31', 'Brasil', '323', '23', '4579', '159']\n",
      "['2020-04-01', 'Brasil', '1138', '42', '5717', '201']\n",
      "['2020-04-02', 'Brasil', '1119', '40', '6836', '241']\n",
      "['2020-04-03', 'Brasil', '1074', '58', '7910', '299']\n",
      "['2020-04-04', 'Brasil', '1146', '60', '9056', '359']\n",
      "['2020-04-05', 'Brasil', '1222', '73', '10278', '432']\n",
      "['2020-04-06', 'Brasil', '852', '54', '11130', '486']\n",
      "['2020-04-07', 'Brasil', '926', '67', '12056', '553']\n",
      "['2020-04-08', 'Brasil', '1661', '114', '13717', '667']\n",
      "['2020-04-09', 'Brasil', '2210', '133', '15927', '800']\n",
      "['2020-04-10', 'Brasil', '1930', '141', '17857', '941']\n",
      "['2020-04-11', 'Brasil', '1781', '115', '19638', '1056']\n",
      "['2020-04-12', 'Brasil', '1089', '68', '20727', '1124']\n",
      "['2020-04-13', 'Brasil', '1442', '99', '22169', '1223']\n",
      "['2020-04-14', 'Brasil', '1261', '105', '23430', '1328']\n",
      "['2020-04-15', 'Brasil', '1832', '204', '25262', '1532']\n",
      "['2020-04-16', 'Brasil', '3058', '204', '28320', '1736']\n",
      "['2020-04-17', 'Brasil', '2105', '188', '30425', '1924']\n",
      "['2020-04-18', 'Brasil', '3257', '217', '33682', '2141']\n",
      "['2020-04-19', 'Brasil', '2917', '206', '36599', '2347']\n",
      "['2020-04-20', 'Brasil', '2055', '115', '38654', '2462']\n",
      "['2020-04-21', 'Brasil', '1927', '113', '40581', '2575']\n",
      "['2020-04-22', 'Brasil', '2498', '166', '43079', '2741']\n",
      "['2020-04-23', 'Brasil', '2678', '165', '45757', '2906']\n",
      "['2020-04-24', 'Brasil', '3735', '407', '49492', '3313']\n",
      "['2020-04-25', 'Brasil', '3503', '357', '52995', '3670']\n",
      "['2020-04-26', 'Brasil', '5514', '346', '58509', '4016']\n",
      "['2020-04-27', 'Brasil', '3379', '189', '61888', '4205']\n",
      "['2020-04-28', 'Brasil', '4613', '338', '66501', '4543']\n",
      "['2020-04-29', 'Brasil', '5385', '474', '71886', '5017']\n",
      "['2020-04-30', 'Brasil', '6276', '449', '78162', '5466']\n",
      "['2020-05-01', 'Brasil', '7218', '435', '85380', '5901']\n",
      "['2020-05-02', 'Brasil', '6209', '428', '91589', '6329']\n",
      "['2020-05-03', 'Brasil', '4970', '421', '96559', '6750']\n",
      "['2020-05-04', 'Brasil', '4588', '275', '101147', '7025']\n",
      "['2020-05-05', 'Brasil', '6633', '296', '107780', '7321']\n",
      "['2020-05-06', 'Brasil', '6935', '600', '114715', '7921']\n",
      "['2020-05-07', 'Brasil', '10503', '615', '125218', '8536']\n",
      "['2020-05-08', 'Brasil', '9888', '610', '135106', '9146']\n",
      "['2020-05-09', 'Brasil', '10222', '751', '145328', '9897']\n",
      "['2020-05-10', 'Brasil', '10611', '730', '155939', '10627']\n",
      "['2020-05-11', 'Brasil', '6760', '496', '162699', '11123']\n",
      "['2020-05-12', 'Brasil', '5632', '396', '168331', '11519']\n",
      "['2020-05-13', 'Brasil', '9258', '881', '177589', '12400']\n",
      "['2020-05-14', 'Brasil', '11385', '749', '188974', '13149']\n",
      "['2020-05-15', 'Brasil', '13944', '844', '202918', '13993']\n",
      "['2020-05-16', 'Brasil', '15305', '824', '218223', '14817']\n",
      "['2020-05-17', 'Brasil', '14919', '816', '233142', '15633']\n",
      "['2020-05-18', 'Brasil', '7938', '485', '241080', '16118']\n",
      "['2020-05-19', 'Brasil', '13140', '674', '254220', '16792']\n",
      "['2020-05-20', 'Brasil', '17408', '1179', '271628', '17971']\n",
      "['2020-05-21', 'Brasil', '19951', '888', '291579', '18859']\n",
      "['2020-05-22', 'Brasil', '18508', '1188', '310087', '20047']\n",
      "['2020-05-23', 'Brasil', '20803', '1001', '330890', '21048']\n",
      "['2020-05-24', 'Brasil', '16508', '965', '347398', '22013']\n",
      "['2020-05-25', 'Brasil', '15813', '653', '363211', '22666']\n",
      "['2020-05-26', 'Brasil', '11687', '807', '374898', '23473']\n",
      "['2020-05-27', 'Brasil', '16324', '1039', '391222', '24512']\n",
      "['2020-05-28', 'Brasil', '20599', '1086', '411821', '25598']\n",
      "['2020-05-29', 'Brasil', '26417', '1156', '438238', '26754']\n",
      "['2020-05-30', 'Brasil', '26928', '1124', '465166', '27878']\n",
      "['2020-05-31', 'Brasil', '33274', '956', '498440', '28834']\n",
      "['2020-06-01', 'Brasil', '16409', '480', '514849', '29314']\n",
      "['2020-06-02', 'Brasil', '11598', '623', '526447', '29937']\n",
      "['2020-06-03', 'Brasil', '28936', '1262', '555383', '31199']\n",
      "['2020-06-04', 'Brasil', '28633', '1349', '584016', '32548']\n",
      "['2020-06-05', 'Brasil', '30916', '1473', '614932', '34021']\n",
      "['2020-06-06', 'Brasil', '30830', '1005', '645762', '35026']\n",
      "['2020-06-07', 'Brasil', '27075', '904', '672837', '35930']\n",
      "['2020-06-08', 'Brasil', '18921', '525', '691758', '36455']\n",
      "['2020-06-09', 'Brasil', '15654', '679', '707412', '37134']\n",
      "['2020-06-10', 'Brasil', '32091', '1272', '739503', '38406']\n",
      "['2020-06-11', 'Brasil', '32913', '1274', '772416', '39680']\n",
      "['2020-06-12', 'Brasil', '30412', '1239', '802828', '40919']\n",
      "['2020-06-13', 'Brasil', '25982', '909', '828810', '41828']\n",
      "['2020-06-14', 'Brasil', '21704', '892', '850514', '42720']\n",
      "['2020-06-15', 'Brasil', '17110', '612', '867624', '43332']\n",
      "['2020-06-16', 'Brasil', '20647', '627', '888271', '43959']\n"
     ]
    }
   ],
   "source": [
    "#Para printar a mesma coisa sem a biblioteca csv seria necessário mais linhas:\n",
    "with open(\"brasil_covid.csv\",\"r\",encoding=\"UTF-8\") as csv_file:\n",
    "    linhas = csv_file.read()\n",
    "    linhas = linhas.split(\"\\n\")\n",
    "    for linha in linhas:\n",
    "        linha=linha.split(\",\")\n",
    "        print(linha)"
   ]
  },
  {
   "cell_type": "code",
   "execution_count": 21,
   "id": "b46ac46a",
   "metadata": {},
   "outputs": [
    {
     "name": "stdout",
     "output_type": "stream",
     "text": [
      "['nome', 'sobrenome', 'email']\n",
      "[]\n",
      "['Guilherme', 'Marcelino', 'guihenrisampaio@gmail.com']\n",
      "[]\n"
     ]
    }
   ],
   "source": [
    "with open(\"users.csv\",\"w\", encoding=\"utf-8\") as arquivo:\n",
    "    escritor = csv.writer(arquivo)#Como o leitor também temos o escritor\n",
    "    escritor.writerow(['nome','sobrenome','email'])\n",
    "    escritor.writerow(['Guilherme','Marcelino','guihenrisampaio@gmail.com'])\n",
    "with open(\"users.csv\",\"r\",encoding=\"UTF-8\") as arquivo:\n",
    "    leitor=csv.reader(arquivo)\n",
    "    for linha in leitor:\n",
    "        print(linha)"
   ]
  },
  {
   "cell_type": "code",
   "execution_count": 22,
   "id": "9606351b",
   "metadata": {},
   "outputs": [
    {
     "name": "stdout",
     "output_type": "stream",
     "text": [
      "['nome', 'sobrenome', 'email']\n",
      "['Guilherme', 'Marcelino', 'guihenrisampaio@gmail.com']\n"
     ]
    }
   ],
   "source": [
    "#Dependendo da versão ocorre a criação de linhas vazias no python, para isso não acontecer basta alterar o parâmetro newline:\n",
    "with open(\"users.csv\",\"w\", encoding=\"utf-8\",newline=\"\") as arquivo:\n",
    "    escritor = csv.writer(arquivo)#Como o leitor também temos o escritor\n",
    "    escritor.writerow(['nome','sobrenome','email'])\n",
    "    escritor.writerow(['Guilherme','Marcelino','guihenrisampaio@gmail.com'])\n",
    "with open(\"users.csv\",\"r\",encoding=\"UTF-8\") as arquivo:\n",
    "    leitor=csv.reader(arquivo)\n",
    "    for linha in leitor:\n",
    "        print(linha)"
   ]
  },
  {
   "cell_type": "code",
   "execution_count": 12,
   "id": "8661da6d",
   "metadata": {},
   "outputs": [
    {
     "name": "stdout",
     "output_type": "stream",
     "text": [
      "O que deseja fazer?\n",
      "1-Cadastrar usuários\n",
      "0-Sair\n",
      "1\n",
      "Digite o nome:Rodrigo\n",
      "Digite o sobrenome:Faro\n",
      "O que deseja fazer?\n",
      "1-Cadastrar novo usuário\n",
      "0-Sair\n",
      "1\n",
      "Digite o nome:Ricardo\n",
      "Digite o sobrenome:Gomes\n",
      "O que deseja fazer?\n",
      "1-Cadastrar novo usuário\n",
      "0-Sair\n",
      "1\n",
      "Digite o nome:Joaquin\n",
      "Digite o sobrenome:Da Silva\n",
      "O que deseja fazer?\n",
      "1-Cadastrar novo usuário\n",
      "0-Sair\n",
      "0\n",
      "['nome', 'sobrenome']\n",
      "['Rodrigo', 'Faro']\n",
      "['Ricardo', 'Gomes']\n",
      "['Joaquin', 'Da Silva']\n"
     ]
    }
   ],
   "source": [
    "#Uma aplicação mais bem estruturada:\n",
    "header=['nome','sobrenome']\n",
    "dados=[]\n",
    "operacao=input(\"O que deseja fazer?\\n1-Cadastrar usuários\\n0-Sair\\n\")\n",
    "while int(operacao)!=0:\n",
    "    nome=input(\"Digite o nome:\")\n",
    "    sobrenome=input(\"Digite o sobrenome:\")\n",
    "    dados.append([nome,sobrenome])\n",
    "    operacao=input(\"O que deseja fazer?\\n1-Cadastrar novo usuário\\n0-Sair\\n\")\n",
    "with open(\"users.csv\",\"w\",encoding=\"utf-8\",newline=\"\") as arquivo:\n",
    "    escritor=csv.writer(arquivo)\n",
    "    escritor.writerow(header)\n",
    "    escritor.writerows(dados)#Cadastra várias linhas\n",
    "with open(\"users.csv\",\"r\",encoding=\"utf-8\") as arquivo:\n",
    "    leitor=csv.reader(arquivo, delimiter=\",\")\n",
    "    for linha in leitor:\n",
    "        print(linha)"
   ]
  },
  {
   "cell_type": "markdown",
   "id": "7d614442",
   "metadata": {},
   "source": [
    "<h1>API</h1>\n",
    "<p>API significa Application Programming Interface (Interface de Programação de Aplicação), nada mais é do que um sistema externo ao seu programa com informações que você pode utilizar no seu site, seja o tempo, casas decimais de pi, ou algum outro</p>\n",
    "<p>O principal tipo de arquivo que recebemos de uma API são do tipo json, objetos javascript, para acessar a API utilizaremos uma biblioteca não padrão do Python, abaixo temos como baixá-la:</p>"
   ]
  },
  {
   "cell_type": "code",
   "execution_count": 15,
   "id": "b89c5961",
   "metadata": {},
   "outputs": [
    {
     "name": "stdout",
     "output_type": "stream",
     "text": [
      "Collecting requests\n",
      "  Downloading requests-2.28.1-py3-none-any.whl (62 kB)\n",
      "     -------------------------------------- 62.8/62.8 kB 279.8 kB/s eta 0:00:00\n",
      "Collecting urllib3<1.27,>=1.21.1\n",
      "  Downloading urllib3-1.26.12-py2.py3-none-any.whl (140 kB)\n",
      "     ------------------------------------ 140.4/140.4 kB 692.2 kB/s eta 0:00:00\n",
      "Collecting charset-normalizer<3,>=2\n",
      "  Downloading charset_normalizer-2.1.1-py3-none-any.whl (39 kB)\n",
      "Collecting idna<4,>=2.5\n",
      "  Downloading idna-3.4-py3-none-any.whl (61 kB)\n",
      "     -------------------------------------- 61.5/61.5 kB 326.7 kB/s eta 0:00:00\n",
      "Collecting certifi>=2017.4.17\n",
      "  Downloading certifi-2022.9.14-py3-none-any.whl (162 kB)\n",
      "     ------------------------------------ 162.5/162.5 kB 695.3 kB/s eta 0:00:00\n",
      "Installing collected packages: urllib3, idna, charset-normalizer, certifi, requests\n",
      "Successfully installed certifi-2022.9.14 charset-normalizer-2.1.1 idna-3.4 requests-2.28.1 urllib3-1.26.12\n"
     ]
    }
   ],
   "source": [
    "!pip install requests#Código para baixar a biblioteca"
   ]
  },
  {
   "cell_type": "code",
   "execution_count": 16,
   "id": "b9c62949",
   "metadata": {},
   "outputs": [],
   "source": [
    "import requests"
   ]
  },
  {
   "cell_type": "code",
   "execution_count": 18,
   "id": "22fc6685",
   "metadata": {},
   "outputs": [
    {
     "name": "stdout",
     "output_type": "stream",
     "text": [
      "200\n"
     ]
    }
   ],
   "source": [
    "url=\"https://api.exchangerate-api.com/v6/latest\"#API com valores de várias moedas em dólar\n",
    "\n",
    "request = requests.get(url)#Código para receber o valor da API\n",
    "\n",
    "print(request.status_code)#Preaucação para não dar o erro 404"
   ]
  },
  {
   "cell_type": "code",
   "execution_count": 19,
   "id": "6408a9f8",
   "metadata": {},
   "outputs": [
    {
     "name": "stdout",
     "output_type": "stream",
     "text": [
      "{'result': 'success', 'provider': 'https://www.exchangerate-api.com', 'documentation': 'https://www.exchangerate-api.com/docs/free', 'terms_of_use': 'https://www.exchangerate-api.com/terms', 'time_last_update_unix': 1663372952, 'time_last_update_utc': 'Sat, 17 Sep 2022 00:02:32 +0000', 'time_next_update_unix': 1663459742, 'time_next_update_utc': 'Sun, 18 Sep 2022 00:09:02 +0000', 'time_eol_unix': 0, 'base_code': 'USD', 'rates': {'USD': 1, 'AED': 3.6725, 'AFN': 87.915575, 'ALL': 116.849262, 'AMD': 415.903975, 'ANG': 1.79, 'AOA': 432.558182, 'ARS': 142.158347, 'AUD': 1.490955, 'AWG': 1.79, 'AZN': 1.694522, 'BAM': 1.956594, 'BBD': 2, 'BDT': 102.865959, 'BGN': 1.957683, 'BHD': 0.376, 'BIF': 2034.602244, 'BMD': 1, 'BND': 1.406723, 'BOB': 6.890013, 'BRL': 5.260612, 'BSD': 1, 'BTN': 79.693684, 'BWP': 13.133557, 'BYN': 2.61934, 'BZD': 2, 'CAD': 1.327276, 'CDF': 2028.038653, 'CHF': 0.963934, 'CLP': 923.401903, 'CNY': 7.001207, 'COP': 4386.277587, 'CRC': 633.81451, 'CUP': 24, 'CVE': 110.308091, 'CZK': 24.515634, 'DJF': 177.721, 'DKK': 7.463295, 'DOP': 53.208117, 'DZD': 140.657344, 'EGP': 19.372021, 'ERN': 15, 'ETB': 52.647756, 'EUR': 1.000396, 'FJD': 2.240431, 'FKP': 0.876742, 'FOK': 7.463295, 'GBP': 0.876749, 'GEL': 2.822581, 'GGP': 0.876742, 'GHS': 10.308224, 'GIP': 0.876742, 'GMD': 55.413062, 'GNF': 8596.128878, 'GTQ': 7.763401, 'GYD': 207.832722, 'HKD': 7.852618, 'HNL': 24.701791, 'HRK': 7.537444, 'HTG': 117.430552, 'HUF': 404.576171, 'IDR': 14915.539634, 'ILS': 3.431298, 'IMP': 0.876742, 'INR': 79.694936, 'IQD': 1449.949449, 'IRR': 41965.315479, 'ISK': 138.845952, 'JEP': 0.876742, 'JMD': 152.019028, 'JOD': 0.709, 'JPY': 143.109031, 'KES': 121.146528, 'KGS': 81.678408, 'KHR': 4081.292493, 'KID': 1.490943, 'KMF': 492.160008, 'KRW': 1386.754601, 'KWD': 0.29963, 'KYD': 0.833333, 'KZT': 475.079898, 'LAK': 18160.715406, 'LBP': 1507.5, 'LKR': 358.758331, 'LRD': 153.200724, 'LSL': 17.612609, 'LYD': 4.891086, 'MAD': 10.727799, 'MDL': 19.353434, 'MGA': 4127.419211, 'MKD': 61.485342, 'MMK': 2799.693014, 'MNT': 3219.126452, 'MOP': 8.088175, 'MRU': 37.547891, 'MUR': 44.78883, 'MVR': 15.400729, 'MWK': 1032.792477, 'MXN': 20.082355, 'MYR': 4.52248, 'MZN': 64.202882, 'NAD': 17.612609, 'NGN': 426.406742, 'NIO': 35.999224, 'NOK': 10.219172, 'NPR': 127.509894, 'NZD': 1.672994, 'OMR': 0.384497, 'PAB': 1, 'PEN': 3.877216, 'PGK': 3.506903, 'PHP': 57.308154, 'PKR': 233.469687, 'PLN': 4.710341, 'PYG': 6921.904644, 'QAR': 3.64, 'RON': 4.919916, 'RSD': 117.280097, 'RUB': 60.201425, 'RWF': 1065.225499, 'SAR': 3.75, 'SBD': 8.028036, 'SCR': 13.013733, 'SDG': 569.585739, 'SEK': 10.768254, 'SGD': 1.40674, 'SHP': 0.876742, 'SLE': 14.353169, 'SLL': 14353.169322, 'SOS': 564.731845, 'SRD': 26.835257, 'SSP': 645.438948, 'STN': 24.509574, 'SYP': 2484.516153, 'SZL': 17.612609, 'THB': 36.973391, 'TJS': 10.230487, 'TMT': 3.497408, 'TND': 2.890361, 'TOP': 2.364959, 'TRY': 18.228592, 'TTD': 6.756756, 'TVD': 1.490943, 'TWD': 31.224305, 'TZS': 2338.609305, 'UAH': 37.225909, 'UGX': 3810.786529, 'UYU': 40.613081, 'UZS': 10938.63615, 'VES': 8.0508, 'VND': 23642.029072, 'VUV': 117.053053, 'WST': 2.667225, 'XAF': 656.213343, 'XCD': 2.7, 'XDR': 0.773878, 'XOF': 656.213343, 'XPF': 119.378634, 'YER': 249.084078, 'ZAR': 17.612792, 'ZMW': 15.609384, 'ZWL': 603.737426}}\n"
     ]
    }
   ],
   "source": [
    "dados = request.json()#Convertendo os dados de json para um dicionário\n",
    "print(dados)#Printando para ver as informações da API"
   ]
  },
  {
   "cell_type": "code",
   "execution_count": 24,
   "id": "16d03d1d",
   "metadata": {},
   "outputs": [
    {
     "name": "stdout",
     "output_type": "stream",
     "text": [
      "informe o valor em reais a ser convertido: 100\n",
      "R$100 são em dólares US$19.01\n"
     ]
    }
   ],
   "source": [
    "#Exemplo de utilização desta API\n",
    "valor_reais = input(\"informe o valor em reais a ser convertido: \")\n",
    "cotacao=dados['rates']['BRL']\n",
    "print(f'R${valor_reais} são em dólares US${(int(valor_reais)/cotacao):0.2f}')"
   ]
  }
 ],
 "metadata": {
  "kernelspec": {
   "display_name": "Python 3 (ipykernel)",
   "language": "python",
   "name": "python3"
  },
  "language_info": {
   "codemirror_mode": {
    "name": "ipython",
    "version": 3
   },
   "file_extension": ".py",
   "mimetype": "text/x-python",
   "name": "python",
   "nbconvert_exporter": "python",
   "pygments_lexer": "ipython3",
   "version": "3.10.7"
  }
 },
 "nbformat": 4,
 "nbformat_minor": 5
}
