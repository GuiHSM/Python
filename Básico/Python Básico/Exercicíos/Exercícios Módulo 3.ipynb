{
 "cells": [
  {
   "cell_type": "markdown",
   "id": "8eb270a7",
   "metadata": {},
   "source": [
    "<h1>Exercício 1</h1>\n",
    "<p>Neste exercício você deve criar um programa que abra o arquivo \"alunos.csv\" e imprima o conteúdo do arquivo linha a linha.</p>\n",
    "<p>Note que esse é o primeiro exercício de uma sequência, então o seu código pode ser reaproveitado nos exercícios seguintes. Dito isso, a recomendação é usar a biblioteca CSV para ler o arquivo mesmo que não seja realmente necessário para esse primeiro item.</p>"
   ]
  },
  {
   "cell_type": "code",
   "execution_count": 1,
   "id": "79211450",
   "metadata": {},
   "outputs": [
    {
     "name": "stdout",
     "output_type": "stream",
     "text": [
      "['RA', 'Nome', 'Frequencia', 'Prova_1', 'Prova_2', 'Prova_3', 'Prova_4']\n",
      "['110201', 'Antonio Carlos', '20', '6.5', '8.5', '7', '6']\n",
      "['110212', 'Ana Beatriz', '20', '7', '7', '7', '8']\n",
      "['110218', 'Carlos Vernes', '17', '7', '7', '7', '7']\n",
      "['110307', 'Francisco Cunha', '20', '9', '8.5', '8.5', '10']\n",
      "['110275', 'Sandra Rosa', '15', '6.5', '7.5', '7', '7']\n",
      "['110281', 'Juliana Arruda', '18', '7.5', '7', '7.5', '8']\n",
      "['110301', 'Joao Galo', '20', '5', '6.5', '7', '5']\n",
      "['110263', 'José Valente', '20', '10', '10', '10', '10']\n",
      "['110271', 'Maria Ferreira', '19', '9.5', '8', '7', '10']\n",
      "['110236', 'Adriana Tavares', '20', '8', '8', '8', '8']\n"
     ]
    }
   ],
   "source": [
    "import csv\n",
    "with open(\"alunos.csv\",\"r\",encoding=\"utf-8\",newline=\"\") as arquivo:\n",
    "    leitor=csv.reader(arquivo)\n",
    "    for linha in leitor:\n",
    "        print(linha)"
   ]
  },
  {
   "cell_type": "markdown",
   "id": "0d33e68d",
   "metadata": {},
   "source": [
    "<h1>Exercício 2</h1>\n",
    "<p> Para o segundo exercício, você deve criar um programa que realize uma cópia do arquivo \"alunos.csv\". Essa cópia deve ser um arquivo chamado \"alunos_copia.csv\".</p>\n",
    "<p>Novamente, aqui você também não precisa utilizar a biblioteca CSV mas se usar, seu código pode ser reutilizado na próxima questão sem muitas modificações.</p>\n"
   ]
  },
  {
   "cell_type": "code",
   "execution_count": 12,
   "id": "9ee3fbe9",
   "metadata": {},
   "outputs": [],
   "source": [
    "with open(\"alunos.csv\",\"r\",encoding=\"utf-8\",newline=\"\") as arquivo:\n",
    "    with open(\"alunos_copia.csv\",\"w\",encoding=\"utf-8\", newline=\"\") as copia:\n",
    "        leitor=csv.reader(arquivo)\n",
    "        escritor=csv.writer(copia)\n",
    "        escritor.writerows(leitor)"
   ]
  },
  {
   "cell_type": "markdown",
   "id": "026779ac",
   "metadata": {},
   "source": [
    "<h1>Exercício 3</h1>\n",
    "<p>Finalmente chegamos ao último exercício dessa sequência relacionada à manipulação de arquivos.</p>\n",
    "<p>Neste exercício você deve criar um novo arquivo chamado \"alunos_media.csv\". Esse novo arquivo é uma cópia de \"alunos.csv\" porém com uma coluna a mais chamada \"Média\" que vai abrigar os valores das médias das provas de cada aluno da lista.</p>\n",
    "<p>Se você utilizou a biblioteca CSV para realizar os dois primeiros exercícios,´muito será reaproveitado aqui. A biblioteca CSV permite a interpretação de cada linha como listas, que são fáceis de manipular.</p>"
   ]
  },
  {
   "cell_type": "code",
   "execution_count": 16,
   "id": "e3044249",
   "metadata": {},
   "outputs": [],
   "source": [
    "with open(\"alunos.csv\",\"r\",encoding=\"utf-8\",newline=\"\") as arquivo:\n",
    "    with open(\"alunos_media.csv\",\"w\",encoding=\"utf-8\", newline=\"\") as copia:\n",
    "        leitor=csv.reader(arquivo)\n",
    "        escritor=csv.writer(copia)\n",
    "        contador=0\n",
    "        for linha in leitor:\n",
    "            if contador==0:\n",
    "                contador+=1\n",
    "                linha.append(\"Média\")\n",
    "                escritor.writerow(linha)\n",
    "                continue\n",
    "            soma=float(linha[3])+float(linha[4])+float(linha[5])+float(linha[6])\n",
    "            linha.append(soma/4)\n",
    "            escritor.writerow(linha)"
   ]
  }
 ],
 "metadata": {
  "kernelspec": {
   "display_name": "Python 3 (ipykernel)",
   "language": "python",
   "name": "python3"
  },
  "language_info": {
   "codemirror_mode": {
    "name": "ipython",
    "version": 3
   },
   "file_extension": ".py",
   "mimetype": "text/x-python",
   "name": "python",
   "nbconvert_exporter": "python",
   "pygments_lexer": "ipython3",
   "version": "3.10.7"
  }
 },
 "nbformat": 4,
 "nbformat_minor": 5
}
