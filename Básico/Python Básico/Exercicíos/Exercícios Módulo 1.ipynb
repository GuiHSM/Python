{
 "cells": [
  {
   "cell_type": "markdown",
   "id": "b84d5136",
   "metadata": {},
   "source": [
    "<h1>Exercício 1</h1>\n",
    "<p>Faça um programa que peça um valor monetário e diminua-o em 15%. Seu\n",
    "programa deve imprimir a mensagem “O novo valor é [valor]”.</p>"
   ]
  },
  {
   "cell_type": "code",
   "execution_count": 7,
   "id": "380f3445",
   "metadata": {},
   "outputs": [
    {
     "name": "stdout",
     "output_type": "stream",
     "text": [
      "Valor a ser díminuido: 48.20\n",
      "O novo valor é  40.97\n"
     ]
    }
   ],
   "source": [
    "valor_monetario=input(\"Valor a ser díminuido: \")\n",
    "valor_monetario=0.85*float(valor_monetario)\n",
    "valor_monetario_inteira= int(100*valor_monetario)\n",
    "print(\"O novo valor é \", valor_monetario_inteira/100)"
   ]
  },
  {
   "cell_type": "markdown",
   "id": "b5bdbc78",
   "metadata": {},
   "source": [
    "<h1>Exercício 2</h1>\n",
    "<p>Faça um programa que leia a validade das informações:</p>\n",
    "<ol>\n",
    "  <li>Idade: entre 0 e 150;</li>\n",
    "  <li>Salário: maior que 0;</li>\n",
    "  <li>Sexo: M, F ou Outro;</li>\n",
    "</ol>\n",
    "<p>O programa deve imprimir uma mensagem de erro para cada informação\n",
    "inválida.</p>"
   ]
  },
  {
   "cell_type": "code",
   "execution_count": 8,
   "id": "0b93a91d",
   "metadata": {},
   "outputs": [
    {
     "name": "stdout",
     "output_type": "stream",
     "text": [
      "Digite sua idade: 1201\n",
      "Digite seu sálario: -1\n",
      "Digite seu gênero(M,F ou Outro): p\n",
      "idade deve ser menor que 150\n",
      "Sálario deve ser maior que 0\n",
      "idade deve ser maior que 0\n"
     ]
    }
   ],
   "source": [
    "idade=input(\"Digite sua idade: \")\n",
    "Sálario=input(\"Digite seu sálario: \")\n",
    "genero=input(\"Digite seu gênero(M,F ou Outro): \")\n",
    "if 0>=int(idade):\n",
    "    print(\"idade deve ser maior que 0\")\n",
    "if 150<int(idade):\n",
    "    print(\"idade deve ser menor que 150\")\n",
    "if 0>=int(Sálario):\n",
    "    print(\"Sálario deve ser maior que 0\")\n",
    "if genero!=\"M\" and genero!=\"F\" and genero!=\"Outro\":\n",
    "    print(\"idade deve ser F ou M ou Outro\")"
   ]
  },
  {
   "cell_type": "markdown",
   "id": "9cf350a1",
   "metadata": {},
   "source": [
    "<h1>Exercício 3</h1>\n",
    "<p>Vamos fazer um programa para verificar quem é o assassino de um crime.\n",
    "Para descobrir o assassino, a polícia faz um pequeno questionário com 5\n",
    "perguntas onde a resposta só pode ser sim ou não:</p>\n",
    "<ol>\n",
    "    <li>Mora perto da vítima?</li>\n",
    "    <li>Já trabalhou com a vítima?</li>\n",
    "    <li>Telefonou para a vítima?</li>\n",
    "    <li>Esteve no local do crime?</li>\n",
    "    <li>Devia para a vítima?</li>\n",
    "</ol>\n",
    "<p>Cada resposta sim dá um ponto para o suspeito. A polícia considera que os\n",
    "suspeitos com 5 pontos são os assassinos, com 4 a 3 pontos são cúmplices e\n",
    "2 pontos são apenas suspeitos, necessitando outras investigações. Valores\n",
    "iguais ou abaixo de 1 são liberados.</p>"
   ]
  },
  {
   "cell_type": "code",
   "execution_count": null,
   "id": "d85a3017",
   "metadata": {},
   "outputs": [],
   "source": [
    "resposta_a=input(\"a. Mora perto da vítima?\")\n",
    "resposta_b=input(\"b. Já trabalhou com a vítima?\")\n",
    "resposta_c=input(\"c. Telefonou para a vítima?\")\n",
    "resposta_d=input(\"d. Esteve no local do crime?\")\n",
    "resposta_e=input(\"e. Devia para a vítima?\")\n",
    "pontos=0\n",
    "if(resposta_a==\"Sim\" or resposta_a==\"sim\"):\n",
    "    pontos+=1\n",
    "if(resposta_b==\"Sim\" or resposta_b==\"sim\"):\n",
    "    pontos+=1\n",
    "if(resposta_c==\"Sim\" or resposta_c==\"sim\"):\n",
    "    pontos+=1\n",
    "if(resposta_d==\"Sim\" or resposta_d==\"sim\"):\n",
    "    pontos+=1\n",
    "if(resposta_e==\"Sim\" or resposta_e==\"sim\"):\n",
    "    pontos+=1\n",
    "if(pontos==5):\n",
    "    print(\"É um assassino\")\n",
    "elif(pontos>2):\n",
    "    print(\"É um cúmplice\")\n",
    "elif(pontos>1):\n",
    "    print(\"É apenas um suspeito, necessita-se uma nova investigação\")\n",
    "else:\n",
    "    print(\"Pode ser liberado\")"
   ]
  },
  {
   "cell_type": "markdown",
   "id": "6b3ceb78",
   "metadata": {},
   "source": [
    "<h1>Exercício 4</h1>\n",
    "<p>Faça um programa que imprima a tabuada do 9 (de 9*1 a 9*10) usando loops.</p>"
   ]
  },
  {
   "cell_type": "code",
   "execution_count": 9,
   "id": "cb44b239",
   "metadata": {},
   "outputs": [
    {
     "name": "stdout",
     "output_type": "stream",
     "text": [
      "9\n",
      "18\n",
      "27\n",
      "36\n",
      "45\n",
      "54\n",
      "63\n",
      "72\n",
      "81\n",
      "90\n"
     ]
    }
   ],
   "source": [
    "print(\"Tabuada do Nove:\")\n",
    "contador=0\n",
    "while contador<10:\n",
    "    contador+=1\n",
    "    print(contador*9)"
   ]
  }
 ],
 "metadata": {
  "kernelspec": {
   "display_name": "Python 3 (ipykernel)",
   "language": "python",
   "name": "python3"
  },
  "language_info": {
   "codemirror_mode": {
    "name": "ipython",
    "version": 3
   },
   "file_extension": ".py",
   "mimetype": "text/x-python",
   "name": "python",
   "nbconvert_exporter": "python",
   "pygments_lexer": "ipython3",
   "version": "3.10.7"
  }
 },
 "nbformat": 4,
 "nbformat_minor": 5
}
