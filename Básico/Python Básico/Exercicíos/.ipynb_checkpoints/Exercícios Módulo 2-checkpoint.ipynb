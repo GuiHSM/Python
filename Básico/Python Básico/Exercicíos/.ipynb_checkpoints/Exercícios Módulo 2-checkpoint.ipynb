{
 "cells": [
  {
   "cell_type": "markdown",
   "id": "106d1a76",
   "metadata": {},
   "source": [
    "<h1>Exercício 1</h1>\n",
    "<p>Faça um programa que olhe todos os itens de uma lista e diga quantos deles\n",
    "são pares.</p>"
   ]
  },
  {
   "cell_type": "code",
   "execution_count": 19,
   "id": "328cb8d4",
   "metadata": {},
   "outputs": [
    {
     "name": "stdout",
     "output_type": "stream",
     "text": [
      "Insita a lista de valores separada por espaço: 1 2 3 4 5 6 7 8 9 10\n",
      "Temos 5 elementos pares na lista\n"
     ]
    }
   ],
   "source": [
    "lista=input(\"Insita a lista de valores separada por espaço: \")\n",
    "lista=lista.split()\n",
    "pares=0\n",
    "tamanho=len(lista)\n",
    "while tamanho>0:\n",
    "    if(int(lista[tamanho-1])%2==0):\n",
    "        pares+=1\n",
    "    tamanho-=1\n",
    "print(f\"Temos {pares} elementos pares na lista\")"
   ]
  },
  {
   "cell_type": "markdown",
   "id": "8063e08e",
   "metadata": {},
   "source": [
    "<h1>Exercício 2</h1>\n",
    "<p> Faça um programa que peça para o usuário digitar uma palavra e imprima\n",
    "cada letra em uma linha.\n",
    "</p>"
   ]
  },
  {
   "cell_type": "code",
   "execution_count": 15,
   "id": "770b9824",
   "metadata": {},
   "outputs": [
    {
     "name": "stdout",
     "output_type": "stream",
     "text": [
      "Digite a palavra: eduardo\n",
      "e\n",
      "d\n",
      "u\n",
      "a\n",
      "r\n",
      "d\n",
      "o\n"
     ]
    }
   ],
   "source": [
    "palavra=input(\"Digite a palavra: \")\n",
    "tamanho=len(palavra)\n",
    "while(tamanho>0):\n",
    "    print(palavra[-tamanho])\n",
    "    tamanho-=1"
   ]
  },
  {
   "cell_type": "markdown",
   "id": "dadb5fe2",
   "metadata": {},
   "source": [
    "<h1>Exercício 3</h1>\n",
    "<p> Faça uma função que recebe duas listas e retorna a soma item a item dessas\n",
    "listas.\n",
    "</p>\n",
    "<p> Exemplo: Se a função receber as listas [1,4,3] e [3,5,1], então a função deve\n",
    "retornar [1+3, 4+5, 3+1] = [4, 9, 4].\n",
    "</p>\n",
    "\n"
   ]
  },
  {
   "cell_type": "code",
   "execution_count": 4,
   "id": "2a7181aa",
   "metadata": {},
   "outputs": [],
   "source": [
    "def sum_list(list1,list2):\n",
    "    contador=0\n",
    "    newList=[]\n",
    "    while contador<len(list1):\n",
    "        newList.append(int(list1[contador])+int(list2[contador]))\n",
    "        contador+=1\n",
    "    return newList\n"
   ]
  },
  {
   "cell_type": "code",
   "execution_count": 5,
   "id": "6f7b4f3f",
   "metadata": {},
   "outputs": [
    {
     "name": "stdout",
     "output_type": "stream",
     "text": [
      "Insira os elementos da primeira lista separados por um espaço1 2 3 4 5\n",
      "Insira os elementos da primeira lista separados por um espaço2 3 4 5 6\n",
      "Lista com a soma dos valores:  [3, 5, 7, 9, 11]\n"
     ]
    }
   ],
   "source": [
    "lista1=input(\"Insira os elementos da primeira lista separados por um espaço\").split()\n",
    "lista2=input(\"Insira os elementos da primeira lista separados por um espaço\").split()\n",
    "print(\"Lista com a soma dos valores: \", sum_list(lista1,lista2))"
   ]
  },
  {
   "cell_type": "markdown",
   "id": "f7c8199f",
   "metadata": {},
   "source": [
    "<h1>Exercício 4</h1>\n",
    "<p> Crie um dicionário cujas chaves são os meses do ano e os valores são a\n",
    "duração (em dias) de cada mês.</p>"
   ]
  },
  {
   "cell_type": "code",
   "execution_count": 6,
   "id": "418faf3c",
   "metadata": {},
   "outputs": [
    {
     "name": "stdout",
     "output_type": "stream",
     "text": [
      "<class 'dict'> {'Janeiro': 31, 'Fevereiro': 28, 'Março': 31, 'Abril': 30, 'Maio': 31, 'Junho': 30, 'Julho': 31, 'Agosto': 31, 'Setembro': 30, 'Outubro': 31, 'Novembro': 30, 'Dezembro': 31}\n"
     ]
    }
   ],
   "source": [
    "dias_por_mes={\n",
    "    \"Janeiro\":31,\n",
    "    \"Fevereiro\":28,\n",
    "    \"Março\":31,\n",
    "    \"Abril\":30,\n",
    "    \"Maio\":31,\n",
    "    \"Junho\":30,\n",
    "    \"Julho\":31,\n",
    "    \"Agosto\":31,\n",
    "    \"Setembro\":30,\n",
    "    \"Outubro\":31,\n",
    "    \"Novembro\":30,\n",
    "    \"Dezembro\":31\n",
    "}\n",
    "print(type(dias_por_mes), dias_por_mes)"
   ]
  },
  {
   "cell_type": "markdown",
   "id": "0c34fbe8",
   "metadata": {},
   "source": [
    "<h1>Exercício 5</h1>\n",
    "<p>Imprima as chaves seguidas dos seus valores para dicionário criado no exercício anterior.</p>\n",
    "<p>Exemplo:</p>\n",
    "<p>Janeiro - 31</p>\n",
    "<p>Fevereiro - 28</p>\n",
    "<p>Março - 31</p>\n",
    "<p>Etc...</p>"
   ]
  },
  {
   "cell_type": "code",
   "execution_count": 10,
   "id": "bc4ac80a",
   "metadata": {},
   "outputs": [
    {
     "name": "stdout",
     "output_type": "stream",
     "text": [
      "Janeiro - 31\n",
      "Fevereiro - 28\n",
      "Março - 31\n",
      "Abril - 30\n",
      "Maio - 31\n",
      "Junho - 30\n",
      "Julho - 31\n",
      "Agosto - 31\n",
      "Setembro - 30\n",
      "Outubro - 31\n",
      "Novembro - 30\n",
      "Dezembro - 31\n"
     ]
    }
   ],
   "source": [
    "for d in dias_por_mes:\n",
    "    print(f'{d} - {dias_por_mes[d]}')"
   ]
  }
 ],
 "metadata": {
  "kernelspec": {
   "display_name": "Python 3 (ipykernel)",
   "language": "python",
   "name": "python3"
  },
  "language_info": {
   "codemirror_mode": {
    "name": "ipython",
    "version": 3
   },
   "file_extension": ".py",
   "mimetype": "text/x-python",
   "name": "python",
   "nbconvert_exporter": "python",
   "pygments_lexer": "ipython3",
   "version": "3.10.7"
  }
 },
 "nbformat": 4,
 "nbformat_minor": 5
}
