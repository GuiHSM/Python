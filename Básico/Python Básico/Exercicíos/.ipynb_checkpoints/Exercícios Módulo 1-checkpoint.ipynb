{
 "cells": [
  {
   "cell_type": "markdown",
   "id": "b84d5136",
   "metadata": {},
   "source": [
    "<h1>Exercício 1</h1>"
   ]
  },
  {
   "cell_type": "code",
   "execution_count": 7,
   "id": "380f3445",
   "metadata": {},
   "outputs": [
    {
     "name": "stdout",
     "output_type": "stream",
     "text": [
      "Valor a ser díminuido: 48.20\n",
      "O novo valor é  40.97\n"
     ]
    }
   ],
   "source": [
    "valor_monetario=input(\"Valor a ser díminuido: \")\n",
    "valor_monetario=0.85*float(valor_monetario)\n",
    "valor_monetario_inteira= int(100*valor_monetario)\n",
    "print(\"O novo valor é \", valor_monetario_inteira/100)"
   ]
  },
  {
   "cell_type": "markdown",
   "id": "b5bdbc78",
   "metadata": {},
   "source": [
    "<h1>Exercício 2</h1>"
   ]
  },
  {
   "cell_type": "code",
   "execution_count": 8,
   "id": "0b93a91d",
   "metadata": {},
   "outputs": [
    {
     "name": "stdout",
     "output_type": "stream",
     "text": [
      "Digite sua idade: 1201\n",
      "Digite seu sálario: -1\n",
      "Digite seu gênero(M,F ou Outro): p\n",
      "idade deve ser menor que 150\n",
      "Sálario deve ser maior que 0\n",
      "idade deve ser maior que 0\n"
     ]
    }
   ],
   "source": [
    "idade=input(\"Digite sua idade: \")\n",
    "Sálario=input(\"Digite seu sálario: \")\n",
    "genero=input(\"Digite seu gênero(M,F ou Outro): \")\n",
    "if 0>=int(idade):\n",
    "    print(\"idade deve ser maior que 0\")\n",
    "if 150<int(idade):\n",
    "    print(\"idade deve ser menor que 150\")\n",
    "if 0>=int(Sálario):\n",
    "    print(\"Sálario deve ser maior que 0\")\n",
    "if genero!=\"M\" and genero!=\"F\" and genero!=\"Outro\":\n",
    "    print(\"idade deve ser F ou M ou Outro\")"
   ]
  },
  {
   "cell_type": "markdown",
   "id": "9cf350a1",
   "metadata": {},
   "source": [
    "<h1>Exercício 3</h1>"
   ]
  },
  {
   "cell_type": "code",
   "execution_count": null,
   "id": "d85a3017",
   "metadata": {},
   "outputs": [],
   "source": [
    "resposta_a=input(\"a. Mora perto da vítima?\")\n",
    "resposta_b=input(\"b. Já trabalhou com a vítima?\")\n",
    "resposta_c=input(\"c. Telefonou para a vítima?\")\n",
    "resposta_d=input(\"d. Esteve no local do crime?\")\n",
    "resposta_e=input(\"e. Devia para a vítima?\")\n",
    "pontos=0\n",
    "if(resposta_a=\"Sim\"):\n",
    "    pontos+=1\n",
    "if(resposta_b=\"Sim\"):\n",
    "    pontos+=1\n",
    "if(resposta_c=\"Sim\"):\n",
    "    pontos+=1\n",
    "if(resposta_d=\"Sim\"):\n",
    "    pontos+=1\n",
    "if(resposta_e=\"Sim\"):\n",
    "    pontos+=1\n",
    "if(pontos==5):\n",
    "    Print(\"É um assassino\")\n",
    "elif(pontos>2):\n",
    "    Print(\"É um cúmplice\")\n",
    "elif(pontos>1):\n",
    "    Print(\"É apenas um suspeito, necessita-se uma nova investigação\")\n",
    "else:\n",
    "    Print(\"Pode ser liberado\")"
   ]
  },
  {
   "cell_type": "markdown",
   "id": "6b3ceb78",
   "metadata": {},
   "source": [
    "<h1>Exercício 4</h1>"
   ]
  },
  {
   "cell_type": "code",
   "execution_count": 9,
   "id": "cb44b239",
   "metadata": {},
   "outputs": [
    {
     "name": "stdout",
     "output_type": "stream",
     "text": [
      "9\n",
      "18\n",
      "27\n",
      "36\n",
      "45\n",
      "54\n",
      "63\n",
      "72\n",
      "81\n",
      "90\n"
     ]
    }
   ],
   "source": [
    "print(\"Tabuada do Nove:\")\n",
    "contador=0\n",
    "while contador<10:\n",
    "    contador+=1\n",
    "    print(contador*9)"
   ]
  }
 ],
 "metadata": {
  "kernelspec": {
   "display_name": "Python 3 (ipykernel)",
   "language": "python",
   "name": "python3"
  },
  "language_info": {
   "codemirror_mode": {
    "name": "ipython",
    "version": 3
   },
   "file_extension": ".py",
   "mimetype": "text/x-python",
   "name": "python",
   "nbconvert_exporter": "python",
   "pygments_lexer": "ipython3",
   "version": "3.10.7"
  }
 },
 "nbformat": 4,
 "nbformat_minor": 5
}
